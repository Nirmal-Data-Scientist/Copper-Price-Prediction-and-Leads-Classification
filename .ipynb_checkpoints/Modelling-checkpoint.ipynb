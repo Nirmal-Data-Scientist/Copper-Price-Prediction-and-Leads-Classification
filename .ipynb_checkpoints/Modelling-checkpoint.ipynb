{
 "cells": [
  {
   "cell_type": "markdown",
   "id": "ac6dbecc",
   "metadata": {},
   "source": [
    "# Copper Price Prediction and Leads Classification"
   ]
  },
  {
   "cell_type": "markdown",
   "id": "658f32aa",
   "metadata": {},
   "source": [
    "### Importing Libraries and Setting up the Notebook"
   ]
  },
  {
   "cell_type": "code",
   "execution_count": 1,
   "id": "f32d23f0d2a24500992f3aa2b1bdc556",
   "metadata": {
    "ExecuteTime": {
     "end_time": "2023-07-16T14:19:49.154464+00:00",
     "start_time": "2023-07-16T14:19:47.895678+00:00"
    },
    "noteable": {}
   },
   "outputs": [],
   "source": [
    "from sklearn.metrics import accuracy_score, f1_score, roc_auc_score, precision_score, recall_score, confusion_matrix, classification_report\n",
    "from sklearn.ensemble import RandomForestClassifier, AdaBoostClassifier, GradientBoostingClassifier\n",
    "from sklearn.ensemble import RandomForestRegressor, GradientBoostingRegressor, AdaBoostRegressor\n",
    "from sklearn.metrics import mean_squared_error, mean_absolute_error, r2_score\n",
    "from sklearn.linear_model import LinearRegression, Lasso, Ridge, ElasticNet\n",
    "from sklearn.model_selection import train_test_split\n",
    "from sklearn.linear_model import LogisticRegression\n",
    "from sklearn.neighbors import KNeighborsClassifier\n",
    "from sklearn.preprocessing import StandardScaler\n",
    "from sklearn.model_selection import GridSearchCV\n",
    "from sklearn.tree import DecisionTreeClassifier\n",
    "from sklearn.tree import DecisionTreeRegressor\n",
    "from sklearn.naive_bayes import GaussianNB\n",
    "from imblearn.over_sampling import SMOTE\n",
    "from scipy.stats import chi2_contingency\n",
    "from lightgbm import LGBMClassifier\n",
    "from xgboost import XGBClassifier\n",
    "import matplotlib.pyplot as plt\n",
    "import category_encoders as ce\n",
    "from sklearn.svm import SVC\n",
    "from sklearn.svm import SVR\n",
    "import seaborn as sns\n",
    "import pandas as pd\n",
    "import numpy as np\n",
    "import warnings\n",
    "\n",
    "\n",
    "\n",
    "pd.pandas.set_option('display.max_columns',None)\n",
    "sns.set_theme()\n",
    "warnings.filterwarnings('ignore')\n",
    "%matplotlib inline"
   ]
  },
  {
   "cell_type": "markdown",
   "id": "da521475",
   "metadata": {},
   "source": [
    "### Reading Data and Knowing the Primaries"
   ]
  },
  {
   "cell_type": "code",
   "execution_count": 2,
   "id": "020f8594-7ba7-46cf-81a5-772936603e8a",
   "metadata": {
    "ExecuteTime": {
     "end_time": "2023-07-16T14:19:53.879163+00:00",
     "start_time": "2023-07-16T14:19:49.162244+00:00"
    },
    "datalink": {
     "48266ea0-5311-4cd8-8330-d4a13b6fbc96": {
      "applied_filters": [],
      "dataframe_info": {
       "default_index_used": true,
       "orig_num_cols": 14,
       "orig_num_rows": 181673,
       "orig_size_bytes": 21800760,
       "truncated_num_cols": 14,
       "truncated_num_rows": 50000,
       "truncated_size_bytes": 6000000,
       "truncated_string_columns": []
      },
      "display_id": "48266ea0-5311-4cd8-8330-d4a13b6fbc96",
      "dx_settings": {
       "ALLOW_NOTEABLE_ATTRS": true,
       "COLUMN_SAMPLING_METHOD": "outer",
       "DB_LOCATION": ":memory:",
       "DEV_MODE": false,
       "DISPLAY_MAX_COLUMNS": 100,
       "DISPLAY_MAX_ROWS": 50000,
       "DISPLAY_MODE": "simple",
       "ENABLE_ASSIGNMENT": true,
       "ENABLE_DATALINK": true,
       "FLATTEN_COLUMN_VALUES": true,
       "FLATTEN_INDEX_VALUES": false,
       "GENERATE_DEX_METADATA": false,
       "HTML_TABLE_SCHEMA": false,
       "LOG_LEVEL": 30,
       "MAX_RENDER_SIZE_BYTES": 104857600,
       "MAX_STRING_LENGTH": 250,
       "NUM_PAST_SAMPLES_TRACKED": 3,
       "RANDOM_STATE": 12648430,
       "RESET_INDEX_VALUES": false,
       "ROW_SAMPLING_METHOD": "random",
       "SAMPLING_FACTOR": 0.1,
       "SAMPLING_METHOD": "random",
       "STRINGIFY_COLUMN_VALUES": true,
       "STRINGIFY_INDEX_VALUES": false
      },
      "sample_history": [],
      "sampling_time": "2023-07-16T14:19:53.143261",
      "user_variable_name": "df",
      "variable_name": "df"
     },
     "5bf1c9d0-ac84-4e32-a19b-ed084d9a132f": {
      "applied_filters": [],
      "dataframe_info": {
       "default_index_used": true,
       "orig_num_cols": 14,
       "orig_num_rows": 181673,
       "orig_size_bytes": 21800760,
       "truncated_num_cols": 14,
       "truncated_num_rows": 50000,
       "truncated_size_bytes": 6000000,
       "truncated_string_columns": []
      },
      "display_id": "5bf1c9d0-ac84-4e32-a19b-ed084d9a132f",
      "dx_settings": {
       "ALLOW_NOTEABLE_ATTRS": true,
       "COLUMN_SAMPLING_METHOD": "outer",
       "DB_LOCATION": ":memory:",
       "DEV_MODE": false,
       "DISPLAY_MAX_COLUMNS": 100,
       "DISPLAY_MAX_ROWS": 50000,
       "DISPLAY_MODE": "simple",
       "ENABLE_ASSIGNMENT": true,
       "ENABLE_DATALINK": true,
       "FLATTEN_COLUMN_VALUES": true,
       "FLATTEN_INDEX_VALUES": false,
       "GENERATE_DEX_METADATA": false,
       "HTML_TABLE_SCHEMA": false,
       "LOG_LEVEL": 30,
       "MAX_RENDER_SIZE_BYTES": 104857600,
       "MAX_STRING_LENGTH": 250,
       "NUM_PAST_SAMPLES_TRACKED": 3,
       "RANDOM_STATE": 12648430,
       "RESET_INDEX_VALUES": false,
       "ROW_SAMPLING_METHOD": "random",
       "SAMPLING_FACTOR": 0.1,
       "SAMPLING_METHOD": "random",
       "STRINGIFY_COLUMN_VALUES": true,
       "STRINGIFY_INDEX_VALUES": false
      },
      "sample_history": [],
      "sampling_time": "2023-07-16T13:07:39.429602",
      "user_variable_name": "df",
      "variable_name": "df"
     },
     "5df2503f-9e47-4c92-85fc-a165b8bf5290": {
      "applied_filters": [],
      "dataframe_info": {
       "default_index_used": true,
       "orig_num_cols": 14,
       "orig_num_rows": 181673,
       "orig_size_bytes": 21800760,
       "truncated_num_cols": 14,
       "truncated_num_rows": 50000,
       "truncated_size_bytes": 6000000,
       "truncated_string_columns": []
      },
      "display_id": "5df2503f-9e47-4c92-85fc-a165b8bf5290",
      "dx_settings": {
       "ALLOW_NOTEABLE_ATTRS": true,
       "COLUMN_SAMPLING_METHOD": "outer",
       "DB_LOCATION": ":memory:",
       "DEV_MODE": false,
       "DISPLAY_MAX_COLUMNS": 100,
       "DISPLAY_MAX_ROWS": 50000,
       "DISPLAY_MODE": "simple",
       "ENABLE_ASSIGNMENT": true,
       "ENABLE_DATALINK": true,
       "FLATTEN_COLUMN_VALUES": true,
       "FLATTEN_INDEX_VALUES": false,
       "GENERATE_DEX_METADATA": false,
       "HTML_TABLE_SCHEMA": false,
       "LOG_LEVEL": 30,
       "MAX_RENDER_SIZE_BYTES": 104857600,
       "MAX_STRING_LENGTH": 250,
       "NUM_PAST_SAMPLES_TRACKED": 3,
       "RANDOM_STATE": 12648430,
       "RESET_INDEX_VALUES": false,
       "ROW_SAMPLING_METHOD": "random",
       "SAMPLING_FACTOR": 0.1,
       "SAMPLING_METHOD": "random",
       "STRINGIFY_COLUMN_VALUES": true,
       "STRINGIFY_INDEX_VALUES": false
      },
      "sample_history": [],
      "sampling_time": "2023-07-16T12:34:11.191297",
      "user_variable_name": "df",
      "variable_name": "df"
     },
     "70d466c0-e0bc-4523-8af8-1d7c7f124ff5": {
      "applied_filters": [],
      "dataframe_info": {
       "default_index_used": true,
       "orig_num_cols": 14,
       "orig_num_rows": 181673,
       "orig_size_bytes": 21800760,
       "truncated_num_cols": 14,
       "truncated_num_rows": 50000,
       "truncated_size_bytes": 6000000,
       "truncated_string_columns": []
      },
      "display_id": "70d466c0-e0bc-4523-8af8-1d7c7f124ff5",
      "dx_settings": {
       "ALLOW_NOTEABLE_ATTRS": true,
       "COLUMN_SAMPLING_METHOD": "outer",
       "DB_LOCATION": ":memory:",
       "DEV_MODE": false,
       "DISPLAY_MAX_COLUMNS": 100,
       "DISPLAY_MAX_ROWS": 50000,
       "DISPLAY_MODE": "simple",
       "ENABLE_ASSIGNMENT": true,
       "ENABLE_DATALINK": true,
       "FLATTEN_COLUMN_VALUES": true,
       "FLATTEN_INDEX_VALUES": false,
       "GENERATE_DEX_METADATA": false,
       "HTML_TABLE_SCHEMA": false,
       "LOG_LEVEL": 30,
       "MAX_RENDER_SIZE_BYTES": 104857600,
       "MAX_STRING_LENGTH": 250,
       "NUM_PAST_SAMPLES_TRACKED": 3,
       "RANDOM_STATE": 12648430,
       "RESET_INDEX_VALUES": false,
       "ROW_SAMPLING_METHOD": "random",
       "SAMPLING_FACTOR": 0.1,
       "SAMPLING_METHOD": "random",
       "STRINGIFY_COLUMN_VALUES": true,
       "STRINGIFY_INDEX_VALUES": false
      },
      "sample_history": [],
      "sampling_time": "2023-07-16T12:28:04.626820",
      "user_variable_name": "df",
      "variable_name": "df"
     },
     "a4180291-5420-443a-b1a3-1c17ff5fab7d": {
      "applied_filters": [],
      "dataframe_info": {
       "default_index_used": true,
       "orig_num_cols": 14,
       "orig_num_rows": 5,
       "orig_size_bytes": 600,
       "truncated_num_cols": 14,
       "truncated_num_rows": 5,
       "truncated_size_bytes": 600,
       "truncated_string_columns": []
      },
      "display_id": "a4180291-5420-443a-b1a3-1c17ff5fab7d",
      "dx_settings": {
       "ALLOW_NOTEABLE_ATTRS": true,
       "COLUMN_SAMPLING_METHOD": "outer",
       "DB_LOCATION": ":memory:",
       "DEV_MODE": false,
       "DISPLAY_MAX_COLUMNS": 100,
       "DISPLAY_MAX_ROWS": 50000,
       "DISPLAY_MODE": "simple",
       "ENABLE_ASSIGNMENT": true,
       "ENABLE_DATALINK": true,
       "FLATTEN_COLUMN_VALUES": true,
       "FLATTEN_INDEX_VALUES": false,
       "GENERATE_DEX_METADATA": false,
       "HTML_TABLE_SCHEMA": false,
       "LOG_LEVEL": 30,
       "MAX_RENDER_SIZE_BYTES": 104857600,
       "MAX_STRING_LENGTH": 250,
       "NUM_PAST_SAMPLES_TRACKED": 3,
       "RANDOM_STATE": 12648430,
       "RESET_INDEX_VALUES": false,
       "ROW_SAMPLING_METHOD": "random",
       "SAMPLING_FACTOR": 0.1,
       "SAMPLING_METHOD": "random",
       "STRINGIFY_COLUMN_VALUES": true,
       "STRINGIFY_INDEX_VALUES": false
      },
      "sample_history": [],
      "sampling_time": "2023-07-16T08:43:46.073967",
      "user_variable_name": null,
      "variable_name": "unk_dataframe_edd677449830443380e0e172fb960818"
     },
     "e98cc768-63f8-406f-ac4a-f9c36acf88d2": {
      "applied_filters": [],
      "dataframe_info": {
       "default_index_used": true,
       "orig_num_cols": 14,
       "orig_num_rows": 181673,
       "orig_size_bytes": 21800760,
       "truncated_num_cols": 14,
       "truncated_num_rows": 50000,
       "truncated_size_bytes": 6000000,
       "truncated_string_columns": []
      },
      "display_id": "e98cc768-63f8-406f-ac4a-f9c36acf88d2",
      "dx_settings": {
       "ALLOW_NOTEABLE_ATTRS": true,
       "COLUMN_SAMPLING_METHOD": "outer",
       "DB_LOCATION": ":memory:",
       "DEV_MODE": false,
       "DISPLAY_MAX_COLUMNS": 100,
       "DISPLAY_MAX_ROWS": 50000,
       "DISPLAY_MODE": "simple",
       "ENABLE_ASSIGNMENT": true,
       "ENABLE_DATALINK": true,
       "FLATTEN_COLUMN_VALUES": true,
       "FLATTEN_INDEX_VALUES": false,
       "GENERATE_DEX_METADATA": false,
       "HTML_TABLE_SCHEMA": false,
       "LOG_LEVEL": 30,
       "MAX_RENDER_SIZE_BYTES": 104857600,
       "MAX_STRING_LENGTH": 250,
       "NUM_PAST_SAMPLES_TRACKED": 3,
       "RANDOM_STATE": 12648430,
       "RESET_INDEX_VALUES": false,
       "ROW_SAMPLING_METHOD": "random",
       "SAMPLING_FACTOR": 0.1,
       "SAMPLING_METHOD": "random",
       "STRINGIFY_COLUMN_VALUES": true,
       "STRINGIFY_INDEX_VALUES": false
      },
      "sample_history": [],
      "sampling_time": "2023-07-16T08:45:02.460868",
      "user_variable_name": "df",
      "variable_name": "df"
     },
     "efc62a4c-cba0-4a1b-854d-3a2554139a0d": {
      "applied_filters": [],
      "dataframe_info": {
       "default_index_used": true,
       "orig_num_cols": 14,
       "orig_num_rows": 181673,
       "orig_size_bytes": 21800760,
       "truncated_num_cols": 14,
       "truncated_num_rows": 50000,
       "truncated_size_bytes": 6000000,
       "truncated_string_columns": []
      },
      "display_id": "efc62a4c-cba0-4a1b-854d-3a2554139a0d",
      "dx_settings": {
       "ALLOW_NOTEABLE_ATTRS": true,
       "COLUMN_SAMPLING_METHOD": "outer",
       "DB_LOCATION": ":memory:",
       "DEV_MODE": false,
       "DISPLAY_MAX_COLUMNS": 100,
       "DISPLAY_MAX_ROWS": 50000,
       "DISPLAY_MODE": "simple",
       "ENABLE_ASSIGNMENT": true,
       "ENABLE_DATALINK": true,
       "FLATTEN_COLUMN_VALUES": true,
       "FLATTEN_INDEX_VALUES": false,
       "GENERATE_DEX_METADATA": false,
       "HTML_TABLE_SCHEMA": false,
       "LOG_LEVEL": 30,
       "MAX_RENDER_SIZE_BYTES": 104857600,
       "MAX_STRING_LENGTH": 250,
       "NUM_PAST_SAMPLES_TRACKED": 3,
       "RANDOM_STATE": 12648430,
       "RESET_INDEX_VALUES": false,
       "ROW_SAMPLING_METHOD": "random",
       "SAMPLING_FACTOR": 0.1,
       "SAMPLING_METHOD": "random",
       "STRINGIFY_COLUMN_VALUES": true,
       "STRINGIFY_INDEX_VALUES": false
      },
      "sample_history": [],
      "sampling_time": "2023-07-16T10:25:02.516086",
      "user_variable_name": "df",
      "variable_name": "df"
     }
    },
    "dx": {
     "dashboard": {
      "multiViews": []
     },
     "fieldMetadata": {
      "application": {
       "columnPosition": 9
      },
      "country": {
       "columnPosition": 6
      },
      "customer": {
       "columnPosition": 5
      },
      "delivery date": {
       "columnPosition": 14
      },
      "id": {
       "columnPosition": 2
      },
      "index": {
       "columnPosition": 1
      },
      "item type": {
       "columnPosition": 8
      },
      "item_date": {
       "columnPosition": 3
      },
      "material_ref": {
       "columnPosition": 12
      },
      "product_ref": {
       "columnPosition": 13
      },
      "quantity tons": {
       "columnPosition": 4
      },
      "selling_price": {
       "columnPosition": 15
      },
      "status": {
       "columnPosition": 7
      },
      "thickness": {
       "columnPosition": 10
      },
      "width": {
       "columnPosition": 11
      }
     },
     "updated": 1689512734960,
     "views": [
      {
       "annotationRules": [],
       "chart": {},
       "chartMode": "grid",
       "confoRules": [],
       "decoration": {
        "footer": "",
        "subtitle": "",
        "title": "Table"
       },
       "facets": [],
       "filterSettings": {
        "SHOW_FILTER_PANEL": true,
        "filters": []
       },
       "id": "first-view",
       "isDefault": true,
       "type": "public",
       "userID": ""
      },
      {
       "annotationRules": [],
       "chart": {
        "tableSparklines": true
       },
       "chartMode": "grid",
       "confoRules": [],
       "decoration": {
        "footer": "",
        "subtitle": "",
        "title": "Table"
       },
       "facets": [],
       "filterSettings": {
        "SHOW_FILTER_PANEL": true,
        "filters": []
       },
       "id": "first-view",
       "isDefault": true,
       "isTransitory": true,
       "type": "public",
       "userID": ""
      }
     ]
    },
    "jupyter": {
     "outputs_hidden": false,
     "source_hidden": false
    },
    "noteable": {
     "cell_type": "code"
    },
    "scrolled": false
   },
   "outputs": [
    {
     "data": {
      "text/html": [
       "<div>\n",
       "<style scoped>\n",
       "    .dataframe tbody tr th:only-of-type {\n",
       "        vertical-align: middle;\n",
       "    }\n",
       "\n",
       "    .dataframe tbody tr th {\n",
       "        vertical-align: top;\n",
       "    }\n",
       "\n",
       "    .dataframe thead th {\n",
       "        text-align: right;\n",
       "    }\n",
       "</style>\n",
       "<table border=\"1\" class=\"dataframe\">\n",
       "  <thead>\n",
       "    <tr style=\"text-align: right;\">\n",
       "      <th></th>\n",
       "      <th>id</th>\n",
       "      <th>item_date</th>\n",
       "      <th>quantity tons</th>\n",
       "      <th>customer</th>\n",
       "      <th>country</th>\n",
       "      <th>status</th>\n",
       "      <th>item type</th>\n",
       "      <th>application</th>\n",
       "      <th>thickness</th>\n",
       "      <th>width</th>\n",
       "      <th>material_ref</th>\n",
       "      <th>product_ref</th>\n",
       "      <th>delivery date</th>\n",
       "      <th>selling_price</th>\n",
       "    </tr>\n",
       "  </thead>\n",
       "  <tbody>\n",
       "    <tr>\n",
       "      <th>0</th>\n",
       "      <td>EC06F063-9DF0-440C-8764-0B0C05A4F6AE</td>\n",
       "      <td>20210401.0</td>\n",
       "      <td>54.151139</td>\n",
       "      <td>30156308.0</td>\n",
       "      <td>28.0</td>\n",
       "      <td>Won</td>\n",
       "      <td>W</td>\n",
       "      <td>10.0</td>\n",
       "      <td>2.00</td>\n",
       "      <td>1500.0</td>\n",
       "      <td>DEQ1 S460MC</td>\n",
       "      <td>1670798778</td>\n",
       "      <td>20210701.0</td>\n",
       "      <td>854.00</td>\n",
       "    </tr>\n",
       "    <tr>\n",
       "      <th>1</th>\n",
       "      <td>4E5F4B3D-DDDF-499D-AFDE-A3227EC49425</td>\n",
       "      <td>20210401.0</td>\n",
       "      <td>768.024839</td>\n",
       "      <td>30202938.0</td>\n",
       "      <td>25.0</td>\n",
       "      <td>Won</td>\n",
       "      <td>W</td>\n",
       "      <td>41.0</td>\n",
       "      <td>0.80</td>\n",
       "      <td>1210.0</td>\n",
       "      <td>0000000000000000000000000000000000104991</td>\n",
       "      <td>1668701718</td>\n",
       "      <td>20210401.0</td>\n",
       "      <td>1047.00</td>\n",
       "    </tr>\n",
       "    <tr>\n",
       "      <th>2</th>\n",
       "      <td>E140FF1B-2407-4C02-A0DD-780A093B1158</td>\n",
       "      <td>20210401.0</td>\n",
       "      <td>386.127949</td>\n",
       "      <td>30153963.0</td>\n",
       "      <td>30.0</td>\n",
       "      <td>Won</td>\n",
       "      <td>WI</td>\n",
       "      <td>28.0</td>\n",
       "      <td>0.38</td>\n",
       "      <td>952.0</td>\n",
       "      <td>S0380700</td>\n",
       "      <td>628377</td>\n",
       "      <td>20210101.0</td>\n",
       "      <td>644.33</td>\n",
       "    </tr>\n",
       "    <tr>\n",
       "      <th>3</th>\n",
       "      <td>F8D507A0-9C62-4EFE-831E-33E1DA53BB50</td>\n",
       "      <td>20210401.0</td>\n",
       "      <td>202.411065</td>\n",
       "      <td>30349574.0</td>\n",
       "      <td>32.0</td>\n",
       "      <td>Won</td>\n",
       "      <td>S</td>\n",
       "      <td>59.0</td>\n",
       "      <td>2.30</td>\n",
       "      <td>1317.0</td>\n",
       "      <td>DX51D+ZM310MAO 2.3X1317</td>\n",
       "      <td>1668701718</td>\n",
       "      <td>20210101.0</td>\n",
       "      <td>768.00</td>\n",
       "    </tr>\n",
       "    <tr>\n",
       "      <th>4</th>\n",
       "      <td>4E1C4E78-152B-430A-8094-ADD889C9D0AD</td>\n",
       "      <td>20210401.0</td>\n",
       "      <td>785.526262</td>\n",
       "      <td>30211560.0</td>\n",
       "      <td>28.0</td>\n",
       "      <td>Won</td>\n",
       "      <td>W</td>\n",
       "      <td>10.0</td>\n",
       "      <td>4.00</td>\n",
       "      <td>2000.0</td>\n",
       "      <td>2_S275JR+AR-CL1</td>\n",
       "      <td>640665</td>\n",
       "      <td>20210301.0</td>\n",
       "      <td>577.00</td>\n",
       "    </tr>\n",
       "    <tr>\n",
       "      <th>...</th>\n",
       "      <td>...</td>\n",
       "      <td>...</td>\n",
       "      <td>...</td>\n",
       "      <td>...</td>\n",
       "      <td>...</td>\n",
       "      <td>...</td>\n",
       "      <td>...</td>\n",
       "      <td>...</td>\n",
       "      <td>...</td>\n",
       "      <td>...</td>\n",
       "      <td>...</td>\n",
       "      <td>...</td>\n",
       "      <td>...</td>\n",
       "      <td>...</td>\n",
       "    </tr>\n",
       "    <tr>\n",
       "      <th>181668</th>\n",
       "      <td>DE633116-D1DF-4846-982E-55EFC3658A76</td>\n",
       "      <td>20200702.0</td>\n",
       "      <td>102.4824216</td>\n",
       "      <td>30200854.0</td>\n",
       "      <td>25.0</td>\n",
       "      <td>Won</td>\n",
       "      <td>W</td>\n",
       "      <td>41.0</td>\n",
       "      <td>0.96</td>\n",
       "      <td>1220.0</td>\n",
       "      <td>0000000000000000000000000000000001000777</td>\n",
       "      <td>164141591</td>\n",
       "      <td>20200701.0</td>\n",
       "      <td>591.00</td>\n",
       "    </tr>\n",
       "    <tr>\n",
       "      <th>181669</th>\n",
       "      <td>A48374B1-E6DB-45F2-889A-1F9C27C099EB</td>\n",
       "      <td>20200702.0</td>\n",
       "      <td>208.0864686</td>\n",
       "      <td>30200854.0</td>\n",
       "      <td>25.0</td>\n",
       "      <td>Won</td>\n",
       "      <td>W</td>\n",
       "      <td>41.0</td>\n",
       "      <td>0.95</td>\n",
       "      <td>1500.0</td>\n",
       "      <td>0000000000000000000000000000000001000227</td>\n",
       "      <td>164141591</td>\n",
       "      <td>20200701.0</td>\n",
       "      <td>589.00</td>\n",
       "    </tr>\n",
       "    <tr>\n",
       "      <th>181670</th>\n",
       "      <td>91643238-5C7B-4237-9A5F-63AE3D35F320</td>\n",
       "      <td>20200702.0</td>\n",
       "      <td>4.235593568</td>\n",
       "      <td>30200854.0</td>\n",
       "      <td>25.0</td>\n",
       "      <td>Won</td>\n",
       "      <td>W</td>\n",
       "      <td>41.0</td>\n",
       "      <td>0.71</td>\n",
       "      <td>1250.0</td>\n",
       "      <td>0000000000000000000000000000000001004216</td>\n",
       "      <td>164141591</td>\n",
       "      <td>20200701.0</td>\n",
       "      <td>619.00</td>\n",
       "    </tr>\n",
       "    <tr>\n",
       "      <th>181671</th>\n",
       "      <td>7AFFD323-01D9-4E15-B80D-7D1B03498FC8</td>\n",
       "      <td>20200702.0</td>\n",
       "      <td>-2000</td>\n",
       "      <td>30200854.0</td>\n",
       "      <td>25.0</td>\n",
       "      <td>Won</td>\n",
       "      <td>W</td>\n",
       "      <td>41.0</td>\n",
       "      <td>0.85</td>\n",
       "      <td>1250.0</td>\n",
       "      <td>0000000000000000000000000000000001001149</td>\n",
       "      <td>164141591</td>\n",
       "      <td>20200701.0</td>\n",
       "      <td>601.00</td>\n",
       "    </tr>\n",
       "    <tr>\n",
       "      <th>181672</th>\n",
       "      <td>AD0CA853-AE3C-4B2F-9FBB-8B0B965F84BC</td>\n",
       "      <td>20200702.0</td>\n",
       "      <td>406.6865384</td>\n",
       "      <td>30200854.0</td>\n",
       "      <td>25.0</td>\n",
       "      <td>Won</td>\n",
       "      <td>W</td>\n",
       "      <td>41.0</td>\n",
       "      <td>0.71</td>\n",
       "      <td>1240.0</td>\n",
       "      <td>0000000000000000000000000000000001005439</td>\n",
       "      <td>164141591</td>\n",
       "      <td>20200701.0</td>\n",
       "      <td>607.00</td>\n",
       "    </tr>\n",
       "  </tbody>\n",
       "</table>\n",
       "<p>181673 rows × 14 columns</p>\n",
       "</div>"
      ],
      "text/plain": [
       "                                          id   item_date quantity tons  \\\n",
       "0       EC06F063-9DF0-440C-8764-0B0C05A4F6AE  20210401.0     54.151139   \n",
       "1       4E5F4B3D-DDDF-499D-AFDE-A3227EC49425  20210401.0    768.024839   \n",
       "2       E140FF1B-2407-4C02-A0DD-780A093B1158  20210401.0    386.127949   \n",
       "3       F8D507A0-9C62-4EFE-831E-33E1DA53BB50  20210401.0    202.411065   \n",
       "4       4E1C4E78-152B-430A-8094-ADD889C9D0AD  20210401.0    785.526262   \n",
       "...                                      ...         ...           ...   \n",
       "181668  DE633116-D1DF-4846-982E-55EFC3658A76  20200702.0   102.4824216   \n",
       "181669  A48374B1-E6DB-45F2-889A-1F9C27C099EB  20200702.0   208.0864686   \n",
       "181670  91643238-5C7B-4237-9A5F-63AE3D35F320  20200702.0   4.235593568   \n",
       "181671  7AFFD323-01D9-4E15-B80D-7D1B03498FC8  20200702.0         -2000   \n",
       "181672  AD0CA853-AE3C-4B2F-9FBB-8B0B965F84BC  20200702.0   406.6865384   \n",
       "\n",
       "          customer  country status item type  application  thickness   width  \\\n",
       "0       30156308.0     28.0    Won         W         10.0       2.00  1500.0   \n",
       "1       30202938.0     25.0    Won         W         41.0       0.80  1210.0   \n",
       "2       30153963.0     30.0    Won        WI         28.0       0.38   952.0   \n",
       "3       30349574.0     32.0    Won         S         59.0       2.30  1317.0   \n",
       "4       30211560.0     28.0    Won         W         10.0       4.00  2000.0   \n",
       "...            ...      ...    ...       ...          ...        ...     ...   \n",
       "181668  30200854.0     25.0    Won         W         41.0       0.96  1220.0   \n",
       "181669  30200854.0     25.0    Won         W         41.0       0.95  1500.0   \n",
       "181670  30200854.0     25.0    Won         W         41.0       0.71  1250.0   \n",
       "181671  30200854.0     25.0    Won         W         41.0       0.85  1250.0   \n",
       "181672  30200854.0     25.0    Won         W         41.0       0.71  1240.0   \n",
       "\n",
       "                                    material_ref  product_ref  delivery date  \\\n",
       "0                                    DEQ1 S460MC   1670798778     20210701.0   \n",
       "1       0000000000000000000000000000000000104991   1668701718     20210401.0   \n",
       "2                                       S0380700       628377     20210101.0   \n",
       "3                        DX51D+ZM310MAO 2.3X1317   1668701718     20210101.0   \n",
       "4                                2_S275JR+AR-CL1       640665     20210301.0   \n",
       "...                                          ...          ...            ...   \n",
       "181668  0000000000000000000000000000000001000777    164141591     20200701.0   \n",
       "181669  0000000000000000000000000000000001000227    164141591     20200701.0   \n",
       "181670  0000000000000000000000000000000001004216    164141591     20200701.0   \n",
       "181671  0000000000000000000000000000000001001149    164141591     20200701.0   \n",
       "181672  0000000000000000000000000000000001005439    164141591     20200701.0   \n",
       "\n",
       "        selling_price  \n",
       "0              854.00  \n",
       "1             1047.00  \n",
       "2              644.33  \n",
       "3              768.00  \n",
       "4              577.00  \n",
       "...               ...  \n",
       "181668         591.00  \n",
       "181669         589.00  \n",
       "181670         619.00  \n",
       "181671         601.00  \n",
       "181672         607.00  \n",
       "\n",
       "[181673 rows x 14 columns]"
      ]
     },
     "execution_count": 2,
     "metadata": {},
     "output_type": "execute_result"
    }
   ],
   "source": [
    "df = pd.read_csv('Dataset/copper.csv')\n",
    "df"
   ]
  },
  {
   "cell_type": "markdown",
   "id": "52a59c3f-66c5-43f2-ae33-54cc5d3291ec",
   "metadata": {
    "noteable": {
     "cell_type": "markdown"
    }
   },
   "source": [
    "Column names seems to have space in between words... Let's replace space with underscore for convenience of calling..."
   ]
  },
  {
   "cell_type": "code",
   "execution_count": 3,
   "id": "4db59e8a-9155-4a87-ae9d-8eebb605fb8c",
   "metadata": {
    "ExecuteTime": {
     "end_time": "2023-07-16T14:20:01.321953+00:00",
     "start_time": "2023-07-16T14:20:01.164315+00:00"
    },
    "jupyter": {
     "outputs_hidden": false,
     "source_hidden": false
    },
    "noteable": {
     "cell_type": "python"
    }
   },
   "outputs": [],
   "source": [
    "df.columns = [column.replace(' ', '_') for column in df.columns]\n",
    "df.rename({'customer': 'customer_id', 'country': 'country_code'}, axis=1, inplace=True)"
   ]
  },
  {
   "cell_type": "code",
   "execution_count": 4,
   "id": "3b0f1a32-db5b-4f90-970d-287f9e637f84",
   "metadata": {
    "ExecuteTime": {
     "end_time": "2023-07-16T14:20:01.495236+00:00",
     "start_time": "2023-07-16T14:20:01.332730+00:00"
    },
    "jupyter": {
     "outputs_hidden": false,
     "source_hidden": false
    },
    "noteable": {
     "cell_type": "code"
    }
   },
   "outputs": [
    {
     "data": {
      "text/plain": [
       "Index(['id', 'item_date', 'quantity_tons', 'customer_id', 'country_code',\n",
       "       'status', 'item_type', 'application', 'thickness', 'width',\n",
       "       'material_ref', 'product_ref', 'delivery_date', 'selling_price'],\n",
       "      dtype='object')"
      ]
     },
     "execution_count": 4,
     "metadata": {},
     "output_type": "execute_result"
    }
   ],
   "source": [
    "df.columns"
   ]
  },
  {
   "cell_type": "code",
   "execution_count": 5,
   "id": "190f0880-d3a2-42b6-846e-3fd69fd8fa63",
   "metadata": {
    "ExecuteTime": {
     "end_time": "2023-07-16T14:20:01.889335+00:00",
     "start_time": "2023-07-16T14:20:01.730041+00:00"
    },
    "jupyter": {
     "outputs_hidden": false,
     "source_hidden": false
    },
    "noteable": {
     "cell_type": "code"
    }
   },
   "outputs": [
    {
     "data": {
      "text/plain": [
       "(181673, 14)"
      ]
     },
     "execution_count": 5,
     "metadata": {},
     "output_type": "execute_result"
    }
   ],
   "source": [
    "df.shape"
   ]
  },
  {
   "cell_type": "code",
   "execution_count": 6,
   "id": "b89b616d-1e6f-496d-a864-1096914f07aa",
   "metadata": {
    "ExecuteTime": {
     "end_time": "2023-07-16T14:20:02.293342+00:00",
     "start_time": "2023-07-16T14:20:01.968787+00:00"
    },
    "jupyter": {
     "outputs_hidden": false,
     "source_hidden": false
    },
    "noteable": {
     "cell_type": "code"
    }
   },
   "outputs": [
    {
     "name": "stdout",
     "output_type": "stream",
     "text": [
      "<class 'pandas.core.frame.DataFrame'>\n",
      "RangeIndex: 181673 entries, 0 to 181672\n",
      "Data columns (total 14 columns):\n",
      " #   Column         Non-Null Count   Dtype  \n",
      "---  ------         --------------   -----  \n",
      " 0   id             181671 non-null  object \n",
      " 1   item_date      181672 non-null  float64\n",
      " 2   quantity_tons  181673 non-null  object \n",
      " 3   customer_id    181672 non-null  float64\n",
      " 4   country_code   181645 non-null  float64\n",
      " 5   status         181671 non-null  object \n",
      " 6   item_type      181673 non-null  object \n",
      " 7   application    181649 non-null  float64\n",
      " 8   thickness      181672 non-null  float64\n",
      " 9   width          181673 non-null  float64\n",
      " 10  material_ref   103754 non-null  object \n",
      " 11  product_ref    181673 non-null  int64  \n",
      " 12  delivery_date  181672 non-null  float64\n",
      " 13  selling_price  181672 non-null  float64\n",
      "dtypes: float64(8), int64(1), object(5)\n",
      "memory usage: 19.4+ MB\n"
     ]
    }
   ],
   "source": [
    "df.info()"
   ]
  },
  {
   "cell_type": "code",
   "execution_count": null,
   "id": "0685ab25",
   "metadata": {},
   "outputs": [],
   "source": []
  },
  {
   "cell_type": "code",
   "execution_count": 7,
   "id": "09e1f110-453f-45ed-988d-92b8966840dd",
   "metadata": {
    "ExecuteTime": {
     "end_time": "2023-07-16T14:20:02.733628+00:00",
     "start_time": "2023-07-16T14:20:02.304401+00:00"
    },
    "jupyter": {
     "outputs_hidden": false,
     "source_hidden": false
    },
    "noteable": {
     "cell_type": "code"
    }
   },
   "outputs": [
    {
     "data": {
      "text/plain": [
       "0"
      ]
     },
     "execution_count": 7,
     "metadata": {},
     "output_type": "execute_result"
    }
   ],
   "source": [
    "df.duplicated().sum()"
   ]
  },
  {
   "cell_type": "code",
   "execution_count": 8,
   "id": "ef55cce7-4bc6-44d5-86c3-9f158a321791",
   "metadata": {
    "ExecuteTime": {
     "end_time": "2023-07-16T14:20:03.284273+00:00",
     "start_time": "2023-07-16T14:20:02.928956+00:00"
    },
    "datalink": {
     "0452d26a-7531-4fd7-bba0-1bb19dc7dafc": {
      "applied_filters": [],
      "dataframe_info": {
       "default_index_used": false,
       "orig_num_cols": 1,
       "orig_num_rows": 14,
       "orig_size_bytes": 224,
       "truncated_num_cols": 1,
       "truncated_num_rows": 14,
       "truncated_size_bytes": 224,
       "truncated_string_columns": []
      },
      "display_id": "0452d26a-7531-4fd7-bba0-1bb19dc7dafc",
      "dx_settings": {
       "ALLOW_NOTEABLE_ATTRS": true,
       "COLUMN_SAMPLING_METHOD": "outer",
       "DB_LOCATION": ":memory:",
       "DEV_MODE": false,
       "DISPLAY_MAX_COLUMNS": 100,
       "DISPLAY_MAX_ROWS": 50000,
       "DISPLAY_MODE": "simple",
       "ENABLE_ASSIGNMENT": true,
       "ENABLE_DATALINK": true,
       "FLATTEN_COLUMN_VALUES": true,
       "FLATTEN_INDEX_VALUES": false,
       "GENERATE_DEX_METADATA": false,
       "HTML_TABLE_SCHEMA": false,
       "LOG_LEVEL": 30,
       "MAX_RENDER_SIZE_BYTES": 104857600,
       "MAX_STRING_LENGTH": 250,
       "NUM_PAST_SAMPLES_TRACKED": 3,
       "RANDOM_STATE": 12648430,
       "RESET_INDEX_VALUES": false,
       "ROW_SAMPLING_METHOD": "random",
       "SAMPLING_FACTOR": 0.1,
       "SAMPLING_METHOD": "random",
       "STRINGIFY_COLUMN_VALUES": true,
       "STRINGIFY_INDEX_VALUES": false
      },
      "sample_history": [],
      "sampling_time": "2023-07-16T13:09:02.330347",
      "user_variable_name": null,
      "variable_name": "unk_dataframe_778336769653491c8d4408eea36447bd"
     },
     "460760b6-fc4b-4172-b51f-16d42199d6f3": {
      "applied_filters": [],
      "dataframe_info": {
       "default_index_used": false,
       "orig_num_cols": 1,
       "orig_num_rows": 14,
       "orig_size_bytes": 224,
       "truncated_num_cols": 1,
       "truncated_num_rows": 14,
       "truncated_size_bytes": 224,
       "truncated_string_columns": []
      },
      "display_id": "460760b6-fc4b-4172-b51f-16d42199d6f3",
      "dx_settings": {
       "ALLOW_NOTEABLE_ATTRS": true,
       "COLUMN_SAMPLING_METHOD": "outer",
       "DB_LOCATION": ":memory:",
       "DEV_MODE": false,
       "DISPLAY_MAX_COLUMNS": 100,
       "DISPLAY_MAX_ROWS": 50000,
       "DISPLAY_MODE": "simple",
       "ENABLE_ASSIGNMENT": true,
       "ENABLE_DATALINK": true,
       "FLATTEN_COLUMN_VALUES": true,
       "FLATTEN_INDEX_VALUES": false,
       "GENERATE_DEX_METADATA": false,
       "HTML_TABLE_SCHEMA": false,
       "LOG_LEVEL": 30,
       "MAX_RENDER_SIZE_BYTES": 104857600,
       "MAX_STRING_LENGTH": 250,
       "NUM_PAST_SAMPLES_TRACKED": 3,
       "RANDOM_STATE": 12648430,
       "RESET_INDEX_VALUES": false,
       "ROW_SAMPLING_METHOD": "random",
       "SAMPLING_FACTOR": 0.1,
       "SAMPLING_METHOD": "random",
       "STRINGIFY_COLUMN_VALUES": true,
       "STRINGIFY_INDEX_VALUES": false
      },
      "sample_history": [],
      "sampling_time": "2023-07-16T14:20:03.126475",
      "user_variable_name": null,
      "variable_name": "unk_dataframe_ccfe6fea87024a7db33a0bfd062d2a4f"
     },
     "5804a6b6-6e30-4dd9-8b13-a62a0782d459": {
      "applied_filters": [],
      "dataframe_info": {
       "default_index_used": false,
       "orig_num_cols": 1,
       "orig_num_rows": 14,
       "orig_size_bytes": 224,
       "truncated_num_cols": 1,
       "truncated_num_rows": 14,
       "truncated_size_bytes": 224,
       "truncated_string_columns": []
      },
      "display_id": "5804a6b6-6e30-4dd9-8b13-a62a0782d459",
      "dx_settings": {
       "ALLOW_NOTEABLE_ATTRS": true,
       "COLUMN_SAMPLING_METHOD": "outer",
       "DB_LOCATION": ":memory:",
       "DEV_MODE": false,
       "DISPLAY_MAX_COLUMNS": 100,
       "DISPLAY_MAX_ROWS": 50000,
       "DISPLAY_MODE": "simple",
       "ENABLE_ASSIGNMENT": true,
       "ENABLE_DATALINK": true,
       "FLATTEN_COLUMN_VALUES": true,
       "FLATTEN_INDEX_VALUES": false,
       "GENERATE_DEX_METADATA": false,
       "HTML_TABLE_SCHEMA": false,
       "LOG_LEVEL": 30,
       "MAX_RENDER_SIZE_BYTES": 104857600,
       "MAX_STRING_LENGTH": 250,
       "NUM_PAST_SAMPLES_TRACKED": 3,
       "RANDOM_STATE": 12648430,
       "RESET_INDEX_VALUES": false,
       "ROW_SAMPLING_METHOD": "random",
       "SAMPLING_FACTOR": 0.1,
       "SAMPLING_METHOD": "random",
       "STRINGIFY_COLUMN_VALUES": true,
       "STRINGIFY_INDEX_VALUES": false
      },
      "sample_history": [],
      "sampling_time": "2023-07-16T12:28:54.452302",
      "user_variable_name": null,
      "variable_name": "unk_dataframe_4be2c405de1d46dfbf14dd7417d9c559"
     },
     "ad702353-4140-4132-b2ce-04fd15c7899e": {
      "applied_filters": [],
      "dataframe_info": {
       "default_index_used": false,
       "orig_num_cols": 1,
       "orig_num_rows": 14,
       "orig_size_bytes": 224,
       "truncated_num_cols": 1,
       "truncated_num_rows": 14,
       "truncated_size_bytes": 224,
       "truncated_string_columns": []
      },
      "display_id": "ad702353-4140-4132-b2ce-04fd15c7899e",
      "dx_settings": {
       "ALLOW_NOTEABLE_ATTRS": true,
       "COLUMN_SAMPLING_METHOD": "outer",
       "DB_LOCATION": ":memory:",
       "DEV_MODE": false,
       "DISPLAY_MAX_COLUMNS": 100,
       "DISPLAY_MAX_ROWS": 50000,
       "DISPLAY_MODE": "simple",
       "ENABLE_ASSIGNMENT": true,
       "ENABLE_DATALINK": true,
       "FLATTEN_COLUMN_VALUES": true,
       "FLATTEN_INDEX_VALUES": false,
       "GENERATE_DEX_METADATA": false,
       "HTML_TABLE_SCHEMA": false,
       "LOG_LEVEL": 30,
       "MAX_RENDER_SIZE_BYTES": 104857600,
       "MAX_STRING_LENGTH": 250,
       "NUM_PAST_SAMPLES_TRACKED": 3,
       "RANDOM_STATE": 12648430,
       "RESET_INDEX_VALUES": false,
       "ROW_SAMPLING_METHOD": "random",
       "SAMPLING_FACTOR": 0.1,
       "SAMPLING_METHOD": "random",
       "STRINGIFY_COLUMN_VALUES": true,
       "STRINGIFY_INDEX_VALUES": false
      },
      "sample_history": [],
      "sampling_time": "2023-07-16T08:49:17.566020",
      "user_variable_name": null,
      "variable_name": "unk_dataframe_9d42550f60bb44f49c290c2d83ec94b8"
     },
     "cdf675d7-002b-4962-bf3e-4cd50d3cef3a": {
      "applied_filters": [],
      "dataframe_info": {
       "default_index_used": false,
       "orig_num_cols": 1,
       "orig_num_rows": 14,
       "orig_size_bytes": 224,
       "truncated_num_cols": 1,
       "truncated_num_rows": 14,
       "truncated_size_bytes": 224,
       "truncated_string_columns": []
      },
      "display_id": "cdf675d7-002b-4962-bf3e-4cd50d3cef3a",
      "dx_settings": {
       "ALLOW_NOTEABLE_ATTRS": true,
       "COLUMN_SAMPLING_METHOD": "outer",
       "DB_LOCATION": ":memory:",
       "DEV_MODE": false,
       "DISPLAY_MAX_COLUMNS": 100,
       "DISPLAY_MAX_ROWS": 50000,
       "DISPLAY_MODE": "simple",
       "ENABLE_ASSIGNMENT": true,
       "ENABLE_DATALINK": true,
       "FLATTEN_COLUMN_VALUES": true,
       "FLATTEN_INDEX_VALUES": false,
       "GENERATE_DEX_METADATA": false,
       "HTML_TABLE_SCHEMA": false,
       "LOG_LEVEL": 30,
       "MAX_RENDER_SIZE_BYTES": 104857600,
       "MAX_STRING_LENGTH": 250,
       "NUM_PAST_SAMPLES_TRACKED": 3,
       "RANDOM_STATE": 12648430,
       "RESET_INDEX_VALUES": false,
       "ROW_SAMPLING_METHOD": "random",
       "SAMPLING_FACTOR": 0.1,
       "SAMPLING_METHOD": "random",
       "STRINGIFY_COLUMN_VALUES": true,
       "STRINGIFY_INDEX_VALUES": false
      },
      "sample_history": [],
      "sampling_time": "2023-07-16T12:34:19.512595",
      "user_variable_name": null,
      "variable_name": "unk_dataframe_e8c542f524d34438aaf015a73a4a9555"
     },
     "ef0ee1c3-481d-4690-a791-77fd023ddafd": {
      "applied_filters": [],
      "dataframe_info": {
       "default_index_used": false,
       "orig_num_cols": 1,
       "orig_num_rows": 14,
       "orig_size_bytes": 224,
       "truncated_num_cols": 1,
       "truncated_num_rows": 14,
       "truncated_size_bytes": 224,
       "truncated_string_columns": []
      },
      "display_id": "ef0ee1c3-481d-4690-a791-77fd023ddafd",
      "dx_settings": {
       "ALLOW_NOTEABLE_ATTRS": true,
       "COLUMN_SAMPLING_METHOD": "outer",
       "DB_LOCATION": ":memory:",
       "DEV_MODE": false,
       "DISPLAY_MAX_COLUMNS": 100,
       "DISPLAY_MAX_ROWS": 50000,
       "DISPLAY_MODE": "simple",
       "ENABLE_ASSIGNMENT": true,
       "ENABLE_DATALINK": true,
       "FLATTEN_COLUMN_VALUES": true,
       "FLATTEN_INDEX_VALUES": false,
       "GENERATE_DEX_METADATA": false,
       "HTML_TABLE_SCHEMA": false,
       "LOG_LEVEL": 30,
       "MAX_RENDER_SIZE_BYTES": 104857600,
       "MAX_STRING_LENGTH": 250,
       "NUM_PAST_SAMPLES_TRACKED": 3,
       "RANDOM_STATE": 12648430,
       "RESET_INDEX_VALUES": false,
       "ROW_SAMPLING_METHOD": "random",
       "SAMPLING_FACTOR": 0.1,
       "SAMPLING_METHOD": "random",
       "STRINGIFY_COLUMN_VALUES": true,
       "STRINGIFY_INDEX_VALUES": false
      },
      "sample_history": [],
      "sampling_time": "2023-07-16T10:25:23.218095",
      "user_variable_name": null,
      "variable_name": "unk_dataframe_c1e589c2e81f48f5b347e793a05cabd5"
     }
    },
    "dx": {
     "dashboard": {
      "multiViews": []
     },
     "fieldMetadata": {},
     "updated": 1689512975034,
     "views": [
      {
       "annotationRules": [],
       "chart": {},
       "chartMode": "grid",
       "confoRules": [],
       "decoration": {
        "footer": "",
        "subtitle": "",
        "title": "Table"
       },
       "facets": [],
       "filterSettings": {
        "SHOW_FILTER_PANEL": true,
        "filters": []
       },
       "id": "first-view",
       "isDefault": true,
       "type": "public",
       "userID": ""
      },
      {
       "annotationRules": [],
       "chart": {},
       "chartMode": "grid",
       "confoRules": [],
       "decoration": {
        "footer": "",
        "subtitle": "",
        "title": "Table"
       },
       "facets": [],
       "filterSettings": {
        "SHOW_FILTER_PANEL": true,
        "filters": []
       },
       "id": "first-view",
       "isDefault": true,
       "isTransitory": true,
       "type": "public",
       "userID": ""
      }
     ]
    },
    "jupyter": {
     "outputs_hidden": false,
     "source_hidden": false
    },
    "noteable": {
     "cell_type": "code"
    }
   },
   "outputs": [
    {
     "data": {
      "text/plain": [
       "id                   2\n",
       "item_date            1\n",
       "quantity_tons        0\n",
       "customer_id          1\n",
       "country_code        28\n",
       "status               2\n",
       "item_type            0\n",
       "application         24\n",
       "thickness            1\n",
       "width                0\n",
       "material_ref     77919\n",
       "product_ref          0\n",
       "delivery_date        1\n",
       "selling_price        1\n",
       "dtype: int64"
      ]
     },
     "execution_count": 8,
     "metadata": {},
     "output_type": "execute_result"
    }
   ],
   "source": [
    "df.isnull().sum()"
   ]
  },
  {
   "cell_type": "markdown",
   "id": "6f72f0f4",
   "metadata": {},
   "source": [
    "### Managing some basic inconsistencies"
   ]
  },
  {
   "cell_type": "markdown",
   "id": "dc88cd3e",
   "metadata": {},
   "source": [
    "`id` column doesn't hold any value... So,  lets drop it straightaway..."
   ]
  },
  {
   "cell_type": "code",
   "execution_count": 9,
   "id": "64e6cab8-dae3-4540-a585-4b3805a69603",
   "metadata": {
    "ExecuteTime": {
     "end_time": "2023-07-16T14:20:03.465575+00:00",
     "start_time": "2023-07-16T14:20:03.296162+00:00"
    },
    "jupyter": {
     "outputs_hidden": false,
     "source_hidden": false
    },
    "noteable": {
     "cell_type": "code"
    }
   },
   "outputs": [],
   "source": [
    "df.drop('id', axis = 1, inplace = True)"
   ]
  },
  {
   "cell_type": "markdown",
   "id": "612fcd2e",
   "metadata": {},
   "source": [
    "`quantity_tons` column has object dtype while it should actually be float... Let's change it..."
   ]
  },
  {
   "cell_type": "code",
   "execution_count": 10,
   "id": "b71679a7",
   "metadata": {},
   "outputs": [
    {
     "name": "stdout",
     "output_type": "stream",
     "text": [
      "An Error Occurred: could not convert string to float: 'e'\n"
     ]
    }
   ],
   "source": [
    "try:\n",
    "    df['quantity_tons'] =  df['quantity_tons'].astype('float64')\n",
    "except Exception as e:\n",
    "    print(f'An Error Occurred: {e}')"
   ]
  },
  {
   "cell_type": "markdown",
   "id": "c451e62f",
   "metadata": {},
   "source": [
    "There seems to be some actual string within this column which is stopping the column from getting converted to float... Let's handle it..."
   ]
  },
  {
   "cell_type": "code",
   "execution_count": 11,
   "id": "075bf7dd",
   "metadata": {},
   "outputs": [
    {
     "data": {
      "text/plain": [
       "1"
      ]
     },
     "execution_count": 11,
     "metadata": {},
     "output_type": "execute_result"
    }
   ],
   "source": [
    "df['quantity_tons'] = pd.to_numeric(df['quantity_tons'], errors='coerce')\n",
    "\n",
    "df['quantity_tons'].isnull().sum()"
   ]
  },
  {
   "cell_type": "markdown",
   "id": "75ac2103",
   "metadata": {},
   "source": [
    "Let's handle this null value later..."
   ]
  },
  {
   "cell_type": "markdown",
   "id": "341554fd",
   "metadata": {},
   "source": [
    "Let's change the datatype of temporal variables to Datetime now as they are framed as float dtype"
   ]
  },
  {
   "cell_type": "code",
   "execution_count": 12,
   "id": "3bce5b02-b699-4606-890a-67997d74649b",
   "metadata": {
    "ExecuteTime": {
     "end_time": "2023-07-16T14:20:03.634145+00:00",
     "start_time": "2023-07-16T14:20:03.476058+00:00"
    },
    "jupyter": {
     "outputs_hidden": false,
     "source_hidden": false
    },
    "noteable": {
     "cell_type": "code"
    }
   },
   "outputs": [
    {
     "name": "stdout",
     "output_type": "stream",
     "text": [
      "19950000.0 \n",
      " 20210401.0\n"
     ]
    }
   ],
   "source": [
    "print(df['item_date'].min(), '\\n', df['item_date'].max())"
   ]
  },
  {
   "cell_type": "markdown",
   "id": "f4851bce",
   "metadata": {},
   "source": [
    "There seems to be some inconsistency in the data... The lower ceiling is 1991(way out of the boundary) and date and month can't be 00.... We will coerce and make those NaT and then probably will see null count and see what to do with them..."
   ]
  },
  {
   "cell_type": "code",
   "execution_count": 13,
   "id": "ce87921a-0727-41a5-a1d3-a7794aecca60",
   "metadata": {
    "ExecuteTime": {
     "end_time": "2023-07-16T14:20:04.267289+00:00",
     "start_time": "2023-07-16T14:20:03.963424+00:00"
    },
    "datalink": {
     "116ad3b4-14fb-46dc-9d11-1a9bd907afe9": {
      "applied_filters": [],
      "dataframe_info": {
       "default_index_used": true,
       "orig_num_cols": 1,
       "orig_num_rows": 181673,
       "orig_size_bytes": 2906768,
       "truncated_num_cols": 1,
       "truncated_num_rows": 50000,
       "truncated_size_bytes": 800000,
       "truncated_string_columns": []
      },
      "display_id": "116ad3b4-14fb-46dc-9d11-1a9bd907afe9",
      "dx_settings": {
       "ALLOW_NOTEABLE_ATTRS": true,
       "COLUMN_SAMPLING_METHOD": "outer",
       "DB_LOCATION": ":memory:",
       "DEV_MODE": false,
       "DISPLAY_MAX_COLUMNS": 100,
       "DISPLAY_MAX_ROWS": 50000,
       "DISPLAY_MODE": "simple",
       "ENABLE_ASSIGNMENT": true,
       "ENABLE_DATALINK": true,
       "FLATTEN_COLUMN_VALUES": true,
       "FLATTEN_INDEX_VALUES": false,
       "GENERATE_DEX_METADATA": false,
       "HTML_TABLE_SCHEMA": false,
       "LOG_LEVEL": 30,
       "MAX_RENDER_SIZE_BYTES": 104857600,
       "MAX_STRING_LENGTH": 250,
       "NUM_PAST_SAMPLES_TRACKED": 3,
       "RANDOM_STATE": 12648430,
       "RESET_INDEX_VALUES": false,
       "ROW_SAMPLING_METHOD": "random",
       "SAMPLING_FACTOR": 0.1,
       "SAMPLING_METHOD": "random",
       "STRINGIFY_COLUMN_VALUES": true,
       "STRINGIFY_INDEX_VALUES": false
      },
      "sample_history": [],
      "sampling_time": "2023-07-16T09:04:05.786778",
      "user_variable_name": null,
      "variable_name": "unk_dataframe_c1e45a922e6e4d87a1e87e5c30eb69f8"
     },
     "1f65d637-55c4-4eac-9c4b-919fbd9faf8b": {
      "applied_filters": [],
      "dataframe_info": {
       "default_index_used": true,
       "orig_num_cols": 13,
       "orig_num_rows": 181673,
       "orig_size_bytes": 20347376,
       "truncated_num_cols": 13,
       "truncated_num_rows": 50000,
       "truncated_size_bytes": 5600000,
       "truncated_string_columns": []
      },
      "display_id": "1f65d637-55c4-4eac-9c4b-919fbd9faf8b",
      "dx_settings": {
       "ALLOW_NOTEABLE_ATTRS": true,
       "COLUMN_SAMPLING_METHOD": "outer",
       "DB_LOCATION": ":memory:",
       "DEV_MODE": false,
       "DISPLAY_MAX_COLUMNS": 100,
       "DISPLAY_MAX_ROWS": 50000,
       "DISPLAY_MODE": "simple",
       "ENABLE_ASSIGNMENT": true,
       "ENABLE_DATALINK": true,
       "FLATTEN_COLUMN_VALUES": true,
       "FLATTEN_INDEX_VALUES": false,
       "GENERATE_DEX_METADATA": false,
       "HTML_TABLE_SCHEMA": false,
       "LOG_LEVEL": 30,
       "MAX_RENDER_SIZE_BYTES": 104857600,
       "MAX_STRING_LENGTH": 250,
       "NUM_PAST_SAMPLES_TRACKED": 3,
       "RANDOM_STATE": 12648430,
       "RESET_INDEX_VALUES": false,
       "ROW_SAMPLING_METHOD": "random",
       "SAMPLING_FACTOR": 0.1,
       "SAMPLING_METHOD": "random",
       "STRINGIFY_COLUMN_VALUES": true,
       "STRINGIFY_INDEX_VALUES": false
      },
      "sample_history": [],
      "sampling_time": "2023-07-16T08:53:10.373636",
      "user_variable_name": "df",
      "variable_name": "df"
     },
     "2663a2f7-5431-4387-9b17-13dc714f4ace": {
      "applied_filters": [],
      "dataframe_info": {
       "default_index_used": true,
       "orig_num_cols": 1,
       "orig_num_rows": 181673,
       "orig_size_bytes": 2906768,
       "truncated_num_cols": 1,
       "truncated_num_rows": 50000,
       "truncated_size_bytes": 800000,
       "truncated_string_columns": []
      },
      "display_id": "2663a2f7-5431-4387-9b17-13dc714f4ace",
      "dx_settings": {
       "ALLOW_NOTEABLE_ATTRS": true,
       "COLUMN_SAMPLING_METHOD": "outer",
       "DB_LOCATION": ":memory:",
       "DEV_MODE": false,
       "DISPLAY_MAX_COLUMNS": 100,
       "DISPLAY_MAX_ROWS": 50000,
       "DISPLAY_MODE": "simple",
       "ENABLE_ASSIGNMENT": true,
       "ENABLE_DATALINK": true,
       "FLATTEN_COLUMN_VALUES": true,
       "FLATTEN_INDEX_VALUES": false,
       "GENERATE_DEX_METADATA": false,
       "HTML_TABLE_SCHEMA": false,
       "LOG_LEVEL": 30,
       "MAX_RENDER_SIZE_BYTES": 104857600,
       "MAX_STRING_LENGTH": 250,
       "NUM_PAST_SAMPLES_TRACKED": 3,
       "RANDOM_STATE": 12648430,
       "RESET_INDEX_VALUES": false,
       "ROW_SAMPLING_METHOD": "random",
       "SAMPLING_FACTOR": 0.1,
       "SAMPLING_METHOD": "random",
       "STRINGIFY_COLUMN_VALUES": true,
       "STRINGIFY_INDEX_VALUES": false
      },
      "sample_history": [],
      "sampling_time": "2023-07-16T09:02:08.441076",
      "user_variable_name": null,
      "variable_name": "unk_dataframe_ff495ec6f2004faab673a325d95597e2"
     },
     "618c38c4-134d-4de2-aee6-24c3386d1149": {
      "applied_filters": [],
      "dataframe_info": {
       "default_index_used": true,
       "orig_num_cols": 1,
       "orig_num_rows": 181673,
       "orig_size_bytes": 2906768,
       "truncated_num_cols": 1,
       "truncated_num_rows": 50000,
       "truncated_size_bytes": 800000,
       "truncated_string_columns": []
      },
      "display_id": "618c38c4-134d-4de2-aee6-24c3386d1149",
      "dx_settings": {
       "ALLOW_NOTEABLE_ATTRS": true,
       "COLUMN_SAMPLING_METHOD": "outer",
       "DB_LOCATION": ":memory:",
       "DEV_MODE": false,
       "DISPLAY_MAX_COLUMNS": 100,
       "DISPLAY_MAX_ROWS": 50000,
       "DISPLAY_MODE": "simple",
       "ENABLE_ASSIGNMENT": true,
       "ENABLE_DATALINK": true,
       "FLATTEN_COLUMN_VALUES": true,
       "FLATTEN_INDEX_VALUES": false,
       "GENERATE_DEX_METADATA": false,
       "HTML_TABLE_SCHEMA": false,
       "LOG_LEVEL": 30,
       "MAX_RENDER_SIZE_BYTES": 104857600,
       "MAX_STRING_LENGTH": 250,
       "NUM_PAST_SAMPLES_TRACKED": 3,
       "RANDOM_STATE": 12648430,
       "RESET_INDEX_VALUES": false,
       "ROW_SAMPLING_METHOD": "random",
       "SAMPLING_FACTOR": 0.1,
       "SAMPLING_METHOD": "random",
       "STRINGIFY_COLUMN_VALUES": true,
       "STRINGIFY_INDEX_VALUES": false
      },
      "sample_history": [],
      "sampling_time": "2023-07-16T08:52:34.641046",
      "user_variable_name": null,
      "variable_name": "unk_dataframe_4e8a09a8c84c4e07812fa1028b68b93f"
     }
    },
    "dx": {
     "fieldMetadata": {},
     "simpleTable": true,
     "updated": 1689502592760,
     "views": []
    },
    "jupyter": {
     "outputs_hidden": false,
     "source_hidden": false
    },
    "noteable": {
     "cell_type": "code"
    }
   },
   "outputs": [],
   "source": [
    "df['item_date'] = pd.to_datetime(df['item_date'], format='%Y%m%d', errors='coerce')"
   ]
  },
  {
   "cell_type": "code",
   "execution_count": 14,
   "id": "16b0c44a",
   "metadata": {},
   "outputs": [
    {
     "name": "stdout",
     "output_type": "stream",
     "text": [
      "2020-07-02 00:00:00 \n",
      " 2021-04-01 00:00:00\n"
     ]
    }
   ],
   "source": [
    "print(df['item_date'].min(), '\\n', df['item_date'].max())"
   ]
  },
  {
   "cell_type": "code",
   "execution_count": 15,
   "id": "3d2fad4f-5beb-441c-8275-a26b3ca5af21",
   "metadata": {
    "ExecuteTime": {
     "end_time": "2023-07-16T14:20:04.442251+00:00",
     "start_time": "2023-07-16T14:20:04.278839+00:00"
    },
    "jupyter": {
     "outputs_hidden": false,
     "source_hidden": false
    },
    "noteable": {
     "cell_type": "code"
    }
   },
   "outputs": [
    {
     "name": "stdout",
     "output_type": "stream",
     "text": [
      "20190401.0 \n",
      " 30310101.0\n"
     ]
    }
   ],
   "source": [
    "print(df['delivery_date'].min(), '\\n', df['delivery_date'].max())"
   ]
  },
  {
   "cell_type": "markdown",
   "id": "b3d66c28-263f-4740-bb26-c47bed6d861e",
   "metadata": {
    "noteable": {
     "cell_type": "markdown"
    }
   },
   "source": [
    "There seems to be some inconsistency in the data... The upper ceiling is 3031 which can't be the year for item date.... We will coerce and make it NaT and then probably will see null count and see what to do with it..."
   ]
  },
  {
   "cell_type": "code",
   "execution_count": 16,
   "id": "94c76c9c-8c18-47db-8c9a-ffb16a58c1f7",
   "metadata": {
    "ExecuteTime": {
     "end_time": "2023-07-16T14:20:04.763983+00:00",
     "start_time": "2023-07-16T14:20:04.453657+00:00"
    },
    "jupyter": {
     "outputs_hidden": false,
     "source_hidden": false
    },
    "noteable": {
     "cell_type": "code"
    }
   },
   "outputs": [],
   "source": [
    "df['delivery_date'] = pd.to_datetime(df['delivery_date'], format='%Y%m%d', errors='coerce')"
   ]
  },
  {
   "cell_type": "code",
   "execution_count": 17,
   "id": "8cdd8412",
   "metadata": {},
   "outputs": [
    {
     "name": "stdout",
     "output_type": "stream",
     "text": [
      "2019-04-01 00:00:00 \n",
      " 2022-01-01 00:00:00\n"
     ]
    }
   ],
   "source": [
    "print(df['delivery_date'].min(), '\\n', df['delivery_date'].max())"
   ]
  },
  {
   "cell_type": "markdown",
   "id": "fd90dc1a",
   "metadata": {},
   "source": [
    "There seems to be mismatch between item date and delivery date... While delivery date min value is somewhere in 2019, item date min value starts from 2020 only.... Let's explore this further later on..."
   ]
  },
  {
   "cell_type": "code",
   "execution_count": 18,
   "id": "9c09dcc8",
   "metadata": {
    "scrolled": true
   },
   "outputs": [
    {
     "name": "stdout",
     "output_type": "stream",
     "text": [
      "\n",
      "Item Date Value Counts by Year:\n",
      "2020.0    110777\n",
      "2021.0     70893\n",
      "Name: item_date, dtype: int64\n",
      "Delivery Date Value Counts by Year:\n",
      "2019.0         5\n",
      "2020.0     59036\n",
      "2021.0    122623\n",
      "2022.0         6\n",
      "Name: delivery_date, dtype: int64\n"
     ]
    }
   ],
   "source": [
    "item_year_counts = df['item_date'].dt.year.value_counts().sort_index()\n",
    "print(\"\\nItem Date Value Counts by Year:\")\n",
    "print(item_year_counts)\n",
    "\n",
    "delivery_year_counts = df['delivery_date'].dt.year.value_counts().sort_index()\n",
    "print(\"Delivery Date Value Counts by Year:\")\n",
    "print(delivery_year_counts)"
   ]
  },
  {
   "cell_type": "code",
   "execution_count": 19,
   "id": "90ae695e",
   "metadata": {},
   "outputs": [
    {
     "name": "stdout",
     "output_type": "stream",
     "text": [
      "Delivery Date Value Counts Before 2020-07-02 00:00:00: \n",
      "2019       5\n",
      "2020    7940\n",
      "Name: delivery_date, dtype: int64\n",
      "\n",
      "Delivery Date Value Counts After 2020-07-02 00:00:00: \n",
      "2020     51096\n",
      "2021    122623\n",
      "2022         6\n",
      "Name: delivery_date, dtype: int64\n"
     ]
    }
   ],
   "source": [
    "before_date = '2020-07-02 00:00:00'\n",
    "df_before = df[df['delivery_date'] < before_date]\n",
    "df_after = df[df['delivery_date'] >= before_date]\n",
    "\n",
    "before_counts = df_before['delivery_date'].dt.year.value_counts().sort_index()\n",
    "after_counts = df_after['delivery_date'].dt.year.value_counts().sort_index()\n",
    "\n",
    "print(\"Delivery Date Value Counts Before {}: \\n{}\".format(before_date, before_counts))\n",
    "print(\"\\nDelivery Date Value Counts After {}: \\n{}\".format(before_date, after_counts))"
   ]
  },
  {
   "cell_type": "markdown",
   "id": "a70bfbb3",
   "metadata": {},
   "source": [
    "Let's see unique values to know whether there are anymore inconsistency in data..."
   ]
  },
  {
   "cell_type": "code",
   "execution_count": 20,
   "id": "ccdf4a80-e0a5-4998-ae30-e5f39a46fd22",
   "metadata": {
    "ExecuteTime": {
     "end_time": "2023-07-16T14:20:04.934009+00:00",
     "start_time": "2023-07-16T14:20:04.772726+00:00"
    },
    "datalink": {
     "0e4f2c6e-442e-46fe-a3ba-e0b5d303d4ca": {
      "applied_filters": [],
      "dataframe_info": {
       "default_index_used": true,
       "orig_num_cols": 13,
       "orig_num_rows": 181673,
       "orig_size_bytes": 20347376,
       "truncated_num_cols": 13,
       "truncated_num_rows": 50000,
       "truncated_size_bytes": 5600000,
       "truncated_string_columns": []
      },
      "display_id": "0e4f2c6e-442e-46fe-a3ba-e0b5d303d4ca",
      "dx_settings": {
       "ALLOW_NOTEABLE_ATTRS": true,
       "COLUMN_SAMPLING_METHOD": "outer",
       "DB_LOCATION": ":memory:",
       "DEV_MODE": false,
       "DISPLAY_MAX_COLUMNS": 100,
       "DISPLAY_MAX_ROWS": 50000,
       "DISPLAY_MODE": "simple",
       "ENABLE_ASSIGNMENT": true,
       "ENABLE_DATALINK": true,
       "FLATTEN_COLUMN_VALUES": true,
       "FLATTEN_INDEX_VALUES": false,
       "GENERATE_DEX_METADATA": false,
       "HTML_TABLE_SCHEMA": false,
       "LOG_LEVEL": 30,
       "MAX_RENDER_SIZE_BYTES": 104857600,
       "MAX_STRING_LENGTH": 250,
       "NUM_PAST_SAMPLES_TRACKED": 3,
       "RANDOM_STATE": 12648430,
       "RESET_INDEX_VALUES": false,
       "ROW_SAMPLING_METHOD": "random",
       "SAMPLING_FACTOR": 0.1,
       "SAMPLING_METHOD": "random",
       "STRINGIFY_COLUMN_VALUES": true,
       "STRINGIFY_INDEX_VALUES": false
      },
      "sample_history": [],
      "sampling_time": "2023-07-16T12:35:05.010317",
      "user_variable_name": "df",
      "variable_name": "df"
     }
    },
    "jupyter": {
     "outputs_hidden": false,
     "source_hidden": false
    },
    "noteable": {
     "cell_type": "code"
    }
   },
   "outputs": [],
   "source": [
    "def unique_values(df, exclude_cols=[]):\n",
    "    for col in df.columns:\n",
    "        if col in exclude_cols:\n",
    "            continue\n",
    "        unique_vals = df[col].nunique()\n",
    "        print(f\"{col}: {unique_vals} unique values\")\n",
    "        if unique_vals < 35:\n",
    "            print()\n",
    "            print(df[col].unique())\n",
    "        print(\"\\n\", 55 * \"_\", \"\\n\")"
   ]
  },
  {
   "cell_type": "code",
   "execution_count": 21,
   "id": "bc6822c5-4032-4bf7-aa08-21fb59d7b58f",
   "metadata": {
    "ExecuteTime": {
     "end_time": "2023-07-16T14:20:05.289642+00:00",
     "start_time": "2023-07-16T14:20:04.941953+00:00"
    },
    "jupyter": {
     "outputs_hidden": false,
     "source_hidden": false
    },
    "noteable": {
     "cell_type": "code"
    }
   },
   "outputs": [
    {
     "name": "stdout",
     "output_type": "stream",
     "text": [
      "item_date: 250 unique values\n",
      "\n",
      " _______________________________________________________ \n",
      "\n",
      "quantity_tons: 181672 unique values\n",
      "\n",
      " _______________________________________________________ \n",
      "\n",
      "customer_id: 1169 unique values\n",
      "\n",
      " _______________________________________________________ \n",
      "\n",
      "country_code: 17 unique values\n",
      "\n",
      "[ 28.  25.  30.  32.  38.  78.  27.  77. 113.  79.  26.  39.  40.  84.\n",
      "  80. 107.  89.  nan]\n",
      "\n",
      " _______________________________________________________ \n",
      "\n",
      "status: 9 unique values\n",
      "\n",
      "['Won' 'Draft' 'To be approved' 'Lost' 'Not lost for AM' 'Wonderful'\n",
      " 'Revised' 'Offered' 'Offerable' nan]\n",
      "\n",
      " _______________________________________________________ \n",
      "\n",
      "item_type: 7 unique values\n",
      "\n",
      "['W' 'WI' 'S' 'Others' 'PL' 'IPL' 'SLAWR']\n",
      "\n",
      " _______________________________________________________ \n",
      "\n",
      "application: 30 unique values\n",
      "\n",
      "[10. 41. 28. 59. 15.  4. 38. 56. 42. 26. 27. 19. 20. 66. 29. 22. 40. 25.\n",
      " 67. 79.  3. 99.  2.  5. 39. 69. 70. 65. 58. 68. nan]\n",
      "\n",
      " _______________________________________________________ \n",
      "\n",
      "thickness: 594 unique values\n",
      "\n",
      " _______________________________________________________ \n",
      "\n",
      "width: 1386 unique values\n",
      "\n",
      " _______________________________________________________ \n",
      "\n",
      "material_ref: 16563 unique values\n",
      "\n",
      " _______________________________________________________ \n",
      "\n",
      "product_ref: 33 unique values\n",
      "\n",
      "[1670798778 1668701718     628377     640665     611993 1668701376\n",
      "  164141591 1671863738 1332077137     640405 1693867550 1665572374\n",
      " 1282007633 1668701698     628117 1690738206     628112     640400\n",
      " 1671876026  164336407  164337175 1668701725 1665572032     611728\n",
      " 1721130331 1693867563     611733 1690738219 1722207579  929423819\n",
      " 1665584320 1665584662 1665584642]\n",
      "\n",
      " _______________________________________________________ \n",
      "\n",
      "delivery_date: 26 unique values\n",
      "\n",
      "['2021-07-01T00:00:00.000000000' '2021-04-01T00:00:00.000000000'\n",
      " '2021-01-01T00:00:00.000000000' '2021-03-01T00:00:00.000000000'\n",
      " '2021-06-01T00:00:00.000000000' '2021-05-01T00:00:00.000000000'\n",
      " '2021-08-01T00:00:00.000000000'                           'NaT'\n",
      " '2021-09-01T00:00:00.000000000' '2021-10-01T00:00:00.000000000'\n",
      " '2021-11-01T00:00:00.000000000' '2022-01-01T00:00:00.000000000'\n",
      " '2020-07-01T00:00:00.000000000' '2020-10-01T00:00:00.000000000'\n",
      " '2020-01-01T00:00:00.000000000' '2021-02-01T00:00:00.000000000'\n",
      " '2021-12-01T00:00:00.000000000' '2019-07-01T00:00:00.000000000'\n",
      " '2020-08-01T00:00:00.000000000' '2020-11-01T00:00:00.000000000'\n",
      " '2020-12-01T00:00:00.000000000' '2019-04-01T00:00:00.000000000'\n",
      " '2020-06-01T00:00:00.000000000' '2020-04-01T00:00:00.000000000'\n",
      " '2020-09-01T00:00:00.000000000' '2020-05-01T00:00:00.000000000'\n",
      " '2019-10-01T00:00:00.000000000']\n",
      "\n",
      " _______________________________________________________ \n",
      "\n",
      "selling_price: 9795 unique values\n",
      "\n",
      " _______________________________________________________ \n",
      "\n"
     ]
    }
   ],
   "source": [
    "unique_values(df)"
   ]
  },
  {
   "cell_type": "markdown",
   "id": "b2cc3869",
   "metadata": {},
   "source": [
    "`customer_id`, `country_code`, `application`, `material_ref`, `product_ref` columns has customer ids, country codes, where copper is goig to be used, some unique values representing that specific product and material the product has been made up of all in float dtype while they should actually be considered categorical variables... We would be changing them to object dtype and then would do encoding later on when we handle categorical data...\n",
    "\n",
    "In `status` column we would just need `won` or `lost`... So, we would drop all other instances...\n",
    "\n",
    "`item_type` column has 7 unique values and it would be encoded later on while handling cat vars...\n",
    "\n",
    "Other than these nothing looks to be problematic as of now..."
   ]
  },
  {
   "cell_type": "markdown",
   "id": "9f649557",
   "metadata": {},
   "source": [
    "Let's first change dtype of those 5 columns"
   ]
  },
  {
   "cell_type": "code",
   "execution_count": 22,
   "id": "e7c13c6e",
   "metadata": {},
   "outputs": [],
   "source": [
    "columns_to_convert = ['customer_id', 'country_code', 'application', 'material_ref', 'product_ref']\n",
    "\n",
    "for column in columns_to_convert:\n",
    "    df[column] = df[column].astype(str)\n",
    "    df[column] = df[column].replace('\\.0', '', regex=True)"
   ]
  },
  {
   "cell_type": "markdown",
   "id": "7a7ae758",
   "metadata": {},
   "source": [
    "Let's trim the dataset and have just those instances which has either `won` or `lost` in status column and then let's rename the column as `leads`..."
   ]
  },
  {
   "cell_type": "code",
   "execution_count": 23,
   "id": "56d012cd-69c1-4f06-ab36-8fbcd0591115",
   "metadata": {
    "ExecuteTime": {
     "end_time": "2023-07-16T14:21:18.186254+00:00",
     "start_time": "2023-07-16T14:21:09.810318+00:00"
    },
    "datalink": {
     "4af8e30b-227b-4374-96cf-e2d6738df49c": {
      "applied_filters": [],
      "dataframe_info": {
       "default_index_used": false,
       "orig_num_cols": 1,
       "orig_num_rows": 9,
       "orig_size_bytes": 144,
       "truncated_num_cols": 1,
       "truncated_num_rows": 9,
       "truncated_size_bytes": 144,
       "truncated_string_columns": []
      },
      "display_id": "4af8e30b-227b-4374-96cf-e2d6738df49c",
      "dx_settings": {
       "ALLOW_NOTEABLE_ATTRS": true,
       "COLUMN_SAMPLING_METHOD": "outer",
       "DB_LOCATION": ":memory:",
       "DEV_MODE": false,
       "DISPLAY_MAX_COLUMNS": 100,
       "DISPLAY_MAX_ROWS": 50000,
       "DISPLAY_MODE": "simple",
       "ENABLE_ASSIGNMENT": true,
       "ENABLE_DATALINK": true,
       "FLATTEN_COLUMN_VALUES": true,
       "FLATTEN_INDEX_VALUES": false,
       "GENERATE_DEX_METADATA": false,
       "HTML_TABLE_SCHEMA": false,
       "LOG_LEVEL": 30,
       "MAX_RENDER_SIZE_BYTES": 104857600,
       "MAX_STRING_LENGTH": 250,
       "NUM_PAST_SAMPLES_TRACKED": 3,
       "RANDOM_STATE": 12648430,
       "RESET_INDEX_VALUES": false,
       "ROW_SAMPLING_METHOD": "random",
       "SAMPLING_FACTOR": 0.1,
       "SAMPLING_METHOD": "random",
       "STRINGIFY_COLUMN_VALUES": true,
       "STRINGIFY_INDEX_VALUES": false
      },
      "sample_history": [],
      "sampling_time": "2023-07-16T14:21:18.029814",
      "user_variable_name": null,
      "variable_name": "unk_dataframe_f2ff804889604205a349b58b2812d1ac"
     }
    },
    "jupyter": {
     "outputs_hidden": false,
     "source_hidden": false
    },
    "noteable": {
     "cell_type": "code"
    }
   },
   "outputs": [
    {
     "data": {
      "text/plain": [
       "Won                116010\n",
       "Lost                34438\n",
       "Not lost for AM     19573\n",
       "Revised              4276\n",
       "To be approved       4170\n",
       "Draft                3140\n",
       "Offered                53\n",
       "Offerable              10\n",
       "Wonderful               1\n",
       "Name: status, dtype: int64"
      ]
     },
     "execution_count": 23,
     "metadata": {},
     "output_type": "execute_result"
    }
   ],
   "source": [
    "df['status'].value_counts()"
   ]
  },
  {
   "cell_type": "code",
   "execution_count": 24,
   "id": "0694548c-631b-4d32-8f05-30d055783f61",
   "metadata": {
    "jupyter": {
     "outputs_hidden": false,
     "source_hidden": false
    },
    "noteable": {
     "cell_type": "code"
    }
   },
   "outputs": [],
   "source": [
    "df = df[df['status'].isin(['Won', 'Lost'])]\n",
    "df.rename({'status': 'leads'}, axis=1, inplace=True)"
   ]
  },
  {
   "cell_type": "code",
   "execution_count": 25,
   "id": "7534e6a1-5e47-4fbe-b963-39402008559e",
   "metadata": {
    "jupyter": {
     "outputs_hidden": false,
     "source_hidden": false
    },
    "noteable": {
     "cell_type": "code"
    }
   },
   "outputs": [
    {
     "data": {
      "text/plain": [
       "Won     116010\n",
       "Lost     34438\n",
       "Name: leads, dtype: int64"
      ]
     },
     "execution_count": 25,
     "metadata": {},
     "output_type": "execute_result"
    }
   ],
   "source": [
    "df['leads'].value_counts()"
   ]
  },
  {
   "cell_type": "markdown",
   "id": "21f6bf74",
   "metadata": {},
   "source": [
    "Has imbalance... Let's handle it later while building the model..."
   ]
  },
  {
   "cell_type": "code",
   "execution_count": 26,
   "id": "1bf82a87-7164-429f-95d1-fe696b95d93d",
   "metadata": {
    "jupyter": {
     "outputs_hidden": false,
     "source_hidden": false
    },
    "noteable": {
     "cell_type": "code"
    }
   },
   "outputs": [
    {
     "name": "stdout",
     "output_type": "stream",
     "text": [
      "<class 'pandas.core.frame.DataFrame'>\n",
      "Int64Index: 150448 entries, 0 to 181672\n",
      "Data columns (total 13 columns):\n",
      " #   Column         Non-Null Count   Dtype         \n",
      "---  ------         --------------   -----         \n",
      " 0   item_date      150445 non-null  datetime64[ns]\n",
      " 1   quantity_tons  150447 non-null  float64       \n",
      " 2   customer_id    150448 non-null  object        \n",
      " 3   country_code   150448 non-null  object        \n",
      " 4   leads          150448 non-null  object        \n",
      " 5   item_type      150448 non-null  object        \n",
      " 6   application    150448 non-null  object        \n",
      " 7   thickness      150448 non-null  float64       \n",
      " 8   width          150448 non-null  float64       \n",
      " 9   material_ref   150448 non-null  object        \n",
      " 10  product_ref    150448 non-null  object        \n",
      " 11  delivery_date  150446 non-null  datetime64[ns]\n",
      " 12  selling_price  150447 non-null  float64       \n",
      "dtypes: datetime64[ns](2), float64(4), object(7)\n",
      "memory usage: 16.1+ MB\n"
     ]
    }
   ],
   "source": [
    "df.info()"
   ]
  },
  {
   "cell_type": "markdown",
   "id": "7bcd5ebc",
   "metadata": {},
   "source": [
    "Datatypes and some basic inconsistencies has got addressed... Lets, handle null values and outliers now..."
   ]
  },
  {
   "cell_type": "code",
   "execution_count": 27,
   "id": "029b257c-8e42-44d1-93a7-507c4b56169b",
   "metadata": {
    "jupyter": {
     "outputs_hidden": false,
     "source_hidden": false
    },
    "noteable": {
     "cell_type": "code"
    }
   },
   "outputs": [
    {
     "data": {
      "text/plain": [
       "item_date        3\n",
       "quantity_tons    1\n",
       "customer_id      0\n",
       "country_code     0\n",
       "leads            0\n",
       "item_type        0\n",
       "application      0\n",
       "thickness        0\n",
       "width            0\n",
       "material_ref     0\n",
       "product_ref      0\n",
       "delivery_date    2\n",
       "selling_price    1\n",
       "dtype: int64"
      ]
     },
     "execution_count": 27,
     "metadata": {},
     "output_type": "execute_result"
    }
   ],
   "source": [
    "df.isnull().sum()"
   ]
  },
  {
   "cell_type": "markdown",
   "id": "0cdc14fc",
   "metadata": {
    "jupyter": {
     "outputs_hidden": false,
     "source_hidden": false
    },
    "noteable": {
     "cell_type": "code"
    }
   },
   "source": [
    "We could have considered some kinda imputation if the proportion of null value is large. But, as they are of negligible amount and as the dataset is pretty large, let's drop null values here..."
   ]
  },
  {
   "cell_type": "code",
   "execution_count": 28,
   "id": "4e66d9c2-30e8-4cad-9534-c0a474e73065",
   "metadata": {
    "jupyter": {
     "outputs_hidden": false,
     "source_hidden": false
    },
    "noteable": {
     "cell_type": "code"
    }
   },
   "outputs": [],
   "source": [
    "df.dropna(inplace=True)"
   ]
  },
  {
   "cell_type": "markdown",
   "id": "7ac21c59",
   "metadata": {
    "jupyter": {
     "outputs_hidden": false,
     "source_hidden": false
    },
    "noteable": {
     "cell_type": "code"
    }
   },
   "source": [
    "Now that the missing values are handled, let's check for outliers, distribution and range of continuous variables"
   ]
  },
  {
   "cell_type": "code",
   "execution_count": 29,
   "id": "abde683b-b397-4ba6-96a4-cf0a23f2110d",
   "metadata": {
    "jupyter": {
     "outputs_hidden": false,
     "source_hidden": false
    },
    "noteable": {
     "cell_type": "code"
    }
   },
   "outputs": [
    {
     "data": {
      "text/plain": [
       "item_date           248\n",
       "quantity_tons    150441\n",
       "customer_id        1125\n",
       "country_code         18\n",
       "leads                 2\n",
       "item_type             7\n",
       "application          31\n",
       "thickness           569\n",
       "width              1347\n",
       "material_ref      15821\n",
       "product_ref          32\n",
       "delivery_date        25\n",
       "selling_price      8943\n",
       "dtype: int64"
      ]
     },
     "execution_count": 29,
     "metadata": {},
     "output_type": "execute_result"
    }
   ],
   "source": [
    "df.nunique()"
   ]
  },
  {
   "cell_type": "markdown",
   "id": "6d4ea9ad",
   "metadata": {},
   "source": [
    "Based on data we have and after considering the unique values and dtype of columns.... We can categorize our columns like below...\n",
    "\n",
    "Categorical Nominal Variables - `customer_id`, `country_code`, `leads`, `item_type`, `application`, `material_ref`, `product_ref`\n",
    "\n",
    "Continuous Variables - `quantity_tons`, `thickness`, `width`, `selling_price`\n",
    "\n",
    "Temporal Variables - `item_date`, `delivery_date`"
   ]
  },
  {
   "cell_type": "markdown",
   "id": "14a68185",
   "metadata": {},
   "source": [
    "### Handling Temporal Variables"
   ]
  },
  {
   "cell_type": "markdown",
   "id": "b7fb9be5",
   "metadata": {},
   "source": [
    "We have noted some inconsistency between item date and delivery date... Let's explore it further..."
   ]
  },
  {
   "cell_type": "code",
   "execution_count": 30,
   "id": "6ddfc929",
   "metadata": {
    "scrolled": true
   },
   "outputs": [
    {
     "name": "stdout",
     "output_type": "stream",
     "text": [
      "\n",
      "Item Date Value Counts by Year:\n",
      "2020    92068\n",
      "2021    58373\n",
      "Name: item_date, dtype: int64\n",
      "Delivery Date Value Counts by Year:\n",
      "2019         3\n",
      "2020     49343\n",
      "2021    101089\n",
      "2022         6\n",
      "Name: delivery_date, dtype: int64\n"
     ]
    }
   ],
   "source": [
    "item_year_counts = df['item_date'].dt.year.value_counts().sort_index()\n",
    "print(\"\\nItem Date Value Counts by Year:\")\n",
    "print(item_year_counts)\n",
    "\n",
    "delivery_year_counts = df['delivery_date'].dt.year.value_counts().sort_index()\n",
    "print(\"Delivery Date Value Counts by Year:\")\n",
    "print(delivery_year_counts)"
   ]
  },
  {
   "cell_type": "markdown",
   "id": "40ffa3bc",
   "metadata": {},
   "source": [
    "As we can clearly see delivery dates can't be before item date (provided item date is something like auction date)... So, there could be either of the following two possible reasons behind this inconsistency...\n",
    "\n",
    "1. Data entry error if 3 entries in `2019` alone has got entered wrongly and nothing before the min `item_date` in `2020` or negligible instances before  the min `item_date` in `2020`...\n",
    "\n",
    "2. `item_date` could be something totally unrelated to `delivery_date` if significant proportion of data in `2020` falls before the min `item_date` in `2020`... In such case we would be dropping both dates as they won't be useful to build either of regression or classification model standalone...\n",
    "\n",
    "Now, let's dig deep to know whether there are significant no. of data points in `delivery_date` falling behind  the min `item_date` in `2020`..."
   ]
  },
  {
   "cell_type": "code",
   "execution_count": 31,
   "id": "e4769f06",
   "metadata": {},
   "outputs": [
    {
     "name": "stdout",
     "output_type": "stream",
     "text": [
      "Delivery Date Value Counts Before 2020-07-02 00:00:00: \n",
      "2019       3\n",
      "2020    7295\n",
      "Name: delivery_date, dtype: int64\n",
      "\n",
      "Delivery Date Value Counts After 2020-07-02 00:00:00: \n",
      "2020     42048\n",
      "2021    101089\n",
      "2022         6\n",
      "Name: delivery_date, dtype: int64\n"
     ]
    }
   ],
   "source": [
    "before_date = '2020-07-02 00:00:00'  #  the min \"item_date\"...\n",
    "\n",
    "df_before = df[df['delivery_date'] < before_date]\n",
    "df_after = df[df['delivery_date'] >= before_date]\n",
    "\n",
    "before_counts = df_before['delivery_date'].dt.year.value_counts().sort_index()\n",
    "after_counts = df_after['delivery_date'].dt.year.value_counts().sort_index()\n",
    "\n",
    "print(\"Delivery Date Value Counts Before {}: \\n{}\".format(before_date, before_counts))\n",
    "print(\"\\nDelivery Date Value Counts After {}: \\n{}\".format(before_date, after_counts))"
   ]
  },
  {
   "cell_type": "code",
   "execution_count": 32,
   "id": "9dcf8703-abdd-4f25-b7a3-64e7321919f9",
   "metadata": {
    "jupyter": {
     "outputs_hidden": false,
     "source_hidden": false
    },
    "noteable": {
     "cell_type": "code"
    }
   },
   "outputs": [
    {
     "data": {
      "text/plain": [
       "Text(0.5, 1.0, 'Selling Price vs Delivery Date')"
      ]
     },
     "execution_count": 32,
     "metadata": {},
     "output_type": "execute_result"
    },
    {
     "data": {
      "image/png": "[encoded data removed]",
      "text/plain": [
       "<Figure size 640x480 with 1 Axes>"
      ]
     },
     "metadata": {},
     "output_type": "display_data"
    }
   ],
   "source": [
    "df.groupby('delivery_date')['selling_price'].median().plot()\n",
    "plt.xlabel('Date')\n",
    "plt.ylabel('Median Selling Price')\n",
    "plt.title(\"Selling Price vs Delivery Date\")"
   ]
  },
  {
   "cell_type": "markdown",
   "id": "150356b1",
   "metadata": {},
   "source": [
    "This holds no value as it is not representing any proportional insight.... We would drop this..."
   ]
  },
  {
   "cell_type": "code",
   "execution_count": 33,
   "id": "cedc8caa-6eb6-40af-8849-997c18a715e4",
   "metadata": {
    "jupyter": {
     "outputs_hidden": false,
     "source_hidden": false
    },
    "noteable": {
     "cell_type": "code"
    }
   },
   "outputs": [
    {
     "data": {
      "text/plain": [
       "Text(0.5, 1.0, 'Selling Price vs Item Date')"
      ]
     },
     "execution_count": 33,
     "metadata": {},
     "output_type": "execute_result"
    },
    {
     "data": {
      "image/png": "[encoded data removed]",
      "text/plain": [
       "<Figure size 640x480 with 1 Axes>"
      ]
     },
     "metadata": {},
     "output_type": "display_data"
    }
   ],
   "source": [
    "df.groupby('item_date')['selling_price'].median().plot()\n",
    "plt.xlabel('Date')\n",
    "plt.ylabel('Median Selling Price')\n",
    "plt.title(\"Selling Price vs Item Date\")"
   ]
  },
  {
   "cell_type": "markdown",
   "id": "166f9fa4",
   "metadata": {},
   "source": [
    "This as well doesn't hold much value as it is so instable in delivering any insight as time progresses.... No steady rise or fall can be observed over here and we can't observe any seasonal pattern as well with the limited data(Jul 2020 to Apr 2021) that we have... So, it would be ideal if we drop both these date columns and move forward with other features..."
   ]
  },
  {
   "cell_type": "code",
   "execution_count": 34,
   "id": "159404ef",
   "metadata": {},
   "outputs": [],
   "source": [
    "df.drop(['item_date', 'delivery_date'], axis=1, inplace=True)"
   ]
  },
  {
   "cell_type": "markdown",
   "id": "2a647b55",
   "metadata": {},
   "source": [
    "### Splitting Data into Categorical and Continuous"
   ]
  },
  {
   "cell_type": "code",
   "execution_count": 35,
   "id": "dc0019ed",
   "metadata": {
    "jupyter": {
     "outputs_hidden": false,
     "source_hidden": false
    },
    "noteable": {
     "cell_type": "code"
    }
   },
   "outputs": [
    {
     "name": "stdout",
     "output_type": "stream",
     "text": [
      "Categorical Variables:\n",
      "\n",
      "['customer_id', 'country_code', 'leads', 'item_type', 'application', 'material_ref', 'product_ref']\n",
      "\n",
      " ____________________________________________________________________________________________________ \n",
      "\n",
      "Continuous Variables:\n",
      "\n",
      "['quantity_tons', 'thickness', 'width', 'selling_price']\n"
     ]
    }
   ],
   "source": [
    "categorical_vars = []\n",
    "continuous_vars = []\n",
    "\n",
    "for col in df.columns:\n",
    "\n",
    "    unique_values = df[col].nunique()\n",
    "    \n",
    "    if df[col].dtype == 'object':\n",
    "        categorical_vars.append(col)\n",
    "    else:\n",
    "        continuous_vars.append(col)\n",
    "\n",
    "print(\"Categorical Variables:\\n\")\n",
    "print(categorical_vars)\n",
    "print(\"\\n\", 100 * \"_\", \"\\n\")\n",
    "print(\"Continuous Variables:\\n\")\n",
    "print(continuous_vars)"
   ]
  },
  {
   "cell_type": "markdown",
   "id": "953d3b3a",
   "metadata": {},
   "source": [
    "### Handling Continuous Variables"
   ]
  },
  {
   "cell_type": "code",
   "execution_count": 36,
   "id": "a9938384",
   "metadata": {},
   "outputs": [
    {
     "data": {
      "image/png": "[encoded data removed]",
      "text/plain": [
       "<Figure size 1200x1000 with 4 Axes>"
      ]
     },
     "metadata": {},
     "output_type": "display_data"
    }
   ],
   "source": [
    "num_plots = len(continuous_vars)\n",
    "\n",
    "num_rows = (num_plots + 1) // 2  # Number of rows for subplots\n",
    "\n",
    "fig, axes = plt.subplots(num_rows, 2, figsize=(12, 5 * num_rows))\n",
    "\n",
    "for i, feature in enumerate(continuous_vars):\n",
    "    \n",
    "    data = df.copy()\n",
    "\n",
    "    row = i // 2\n",
    "    col = i % 2\n",
    "    ax = axes[row, col]\n",
    "\n",
    "    sns.histplot(data[feature], ax=ax, bins=25, kde=True, color='darkblue')\n",
    "    ax.set_xlabel(feature.replace('_', ' ').title())\n",
    "    ax.set_ylabel(\"Frequency\")\n",
    "\n",
    "# Remove any empty subplots\n",
    "if num_plots < num_rows * 2:\n",
    "    fig.delaxes(axes[num_rows-1, 1])\n",
    "\n",
    "plt.tight_layout()\n",
    "plt.show()"
   ]
  },
  {
   "cell_type": "markdown",
   "id": "500c6e8f",
   "metadata": {},
   "source": [
    "There seems to be outliers in 3 of the four columns making them right skewed distributions... Let's see how many outliers are there and then decide what we can do about them..."
   ]
  },
  {
   "cell_type": "code",
   "execution_count": 37,
   "id": "7a7973c9",
   "metadata": {},
   "outputs": [
    {
     "data": {
      "image/png": "[encoded data removed]",
      "text/plain": [
       "<Figure size 1200x1000 with 4 Axes>"
      ]
     },
     "metadata": {},
     "output_type": "display_data"
    }
   ],
   "source": [
    "num_plots = len(continuous_vars)\n",
    "\n",
    "num_rows = (num_plots + 1) // 2  # Number of rows for subplots\n",
    "\n",
    "fig, axes = plt.subplots(num_rows, 2, figsize=(12, 5 * num_rows))\n",
    "\n",
    "for i, feature in enumerate(continuous_vars):\n",
    "    \n",
    "    data = df.copy()\n",
    "\n",
    "    row = i // 2\n",
    "    col = i % 2\n",
    "    ax = axes[row, col]\n",
    "\n",
    "    sns.boxplot(data[feature], ax=ax)\n",
    "    ax.set_xlabel(feature.replace('_', ' ').title())\n",
    "    ax.set_ylabel(\"Frequency\")\n",
    "\n",
    "# Remove any empty subplots\n",
    "if num_plots < num_rows * 2:\n",
    "    fig.delaxes(axes[num_rows-1, 1])\n",
    "\n",
    "plt.tight_layout()\n",
    "plt.show()"
   ]
  },
  {
   "cell_type": "code",
   "execution_count": 38,
   "id": "8236c7b7",
   "metadata": {},
   "outputs": [],
   "source": [
    "def count_outliers(df):\n",
    "    outliers = {}\n",
    "    for col in df.select_dtypes(include='number').columns:\n",
    "        q1 = df[col].quantile(0.25)\n",
    "        q3 = df[col].quantile(0.75)\n",
    "        iqr = q3 - q1\n",
    "        upper_bound = q3 + (1.5 * iqr)\n",
    "        lower_bound = q1 - (1.5 * iqr)\n",
    "        num_outliers = len(df[(df[col] > upper_bound) | (df[col] < lower_bound)])\n",
    "        percent_outliers = (num_outliers / len(df)) * 100\n",
    "        outliers[col] = {'count': num_outliers, 'percent': percent_outliers}\n",
    "    return outliers"
   ]
  },
  {
   "cell_type": "code",
   "execution_count": 39,
   "id": "b59f1b90",
   "metadata": {},
   "outputs": [
    {
     "name": "stdout",
     "output_type": "stream",
     "text": [
      "Column: quantity_tons\n",
      "Count of outliers: 17577\n",
      "Percentage of outliers: 11.68%\n",
      "\n",
      "Column: thickness\n",
      "Count of outliers: 11851\n",
      "Percentage of outliers: 7.88%\n",
      "\n",
      "Column: width\n",
      "Count of outliers: 9564\n",
      "Percentage of outliers: 6.36%\n",
      "\n",
      "Column: selling_price\n",
      "Count of outliers: 1342\n",
      "Percentage of outliers: 0.89%\n",
      "\n"
     ]
    }
   ],
   "source": [
    "outliers = count_outliers(df)\n",
    "for col, info in outliers.items():\n",
    "    print(f\"Column: {col}\")\n",
    "    print(f\"Count of outliers: {info['count']}\")\n",
    "    print(f\"Percentage of outliers: {round(info['percent'], 2)}%\")\n",
    "    print()"
   ]
  },
  {
   "cell_type": "code",
   "execution_count": 40,
   "id": "0a4acead",
   "metadata": {},
   "outputs": [
    {
     "data": {
      "text/plain": [
       "['quantity_tons', 'thickness', 'width', 'selling_price']"
      ]
     },
     "execution_count": 40,
     "metadata": {},
     "output_type": "execute_result"
    }
   ],
   "source": [
    "continuous_vars"
   ]
  },
  {
   "cell_type": "code",
   "execution_count": 41,
   "id": "921b9a69",
   "metadata": {},
   "outputs": [],
   "source": [
    "data = df.copy()\n",
    "\n",
    "data['quantity_tons'] = data['quantity_tons'].clip(upper=data['quantity_tons'].quantile(0.88), lower=data['quantity_tons'].quantile(0.01))\n",
    "data['thickness'] = data['thickness'].clip(upper=data['thickness'].quantile(0.92))\n",
    "data['width'] = data['width'].clip(upper=data['width'].quantile(0.94), lower=data['width'].quantile(0.02))\n",
    "data['selling_price'] = data['selling_price'].clip(upper=data['selling_price'].quantile(0.99), lower=data['selling_price'].quantile(0.01))"
   ]
  },
  {
   "cell_type": "code",
   "execution_count": 42,
   "id": "6311721e",
   "metadata": {},
   "outputs": [
    {
     "name": "stdout",
     "output_type": "stream",
     "text": [
      "Column: quantity_tons\n",
      "Count of outliers: 0\n",
      "Percentage of outliers: 0.0%\n",
      "\n",
      "Column: thickness\n",
      "Count of outliers: 0\n",
      "Percentage of outliers: 0.0%\n",
      "\n",
      "Column: width\n",
      "Count of outliers: 0\n",
      "Percentage of outliers: 0.0%\n",
      "\n",
      "Column: selling_price\n",
      "Count of outliers: 0\n",
      "Percentage of outliers: 0.0%\n",
      "\n"
     ]
    }
   ],
   "source": [
    "outliers = count_outliers(data)\n",
    "for col, info in outliers.items():\n",
    "    print(f\"Column: {col}\")\n",
    "    print(f\"Count of outliers: {info['count']}\")\n",
    "    print(f\"Percentage of outliers: {round(info['percent'], 2)}%\")\n",
    "    print()"
   ]
  },
  {
   "cell_type": "code",
   "execution_count": 43,
   "id": "06ff00ee",
   "metadata": {
    "scrolled": false
   },
   "outputs": [
    {
     "data": {
      "image/png": "[encoded data removed]",
      "text/plain": [
       "<Figure size 1200x1000 with 4 Axes>"
      ]
     },
     "metadata": {},
     "output_type": "display_data"
    }
   ],
   "source": [
    "num_plots = len(continuous_vars)\n",
    "\n",
    "num_rows = (num_plots + 1) // 2  # Number of rows for subplots\n",
    "\n",
    "fig, axes = plt.subplots(num_rows, 2, figsize=(12, 5 * num_rows))\n",
    "\n",
    "for i, feature in enumerate(continuous_vars):\n",
    "    \n",
    "    row = i // 2\n",
    "    col = i % 2\n",
    "    ax = axes[row, col]\n",
    "\n",
    "    sns.boxplot(data[feature], ax=ax)\n",
    "    ax.set_xlabel(feature.replace('_', ' ').title())\n",
    "    ax.set_ylabel(\"Frequency\")\n",
    "\n",
    "# Remove any empty subplots\n",
    "if num_plots < num_rows * 2:\n",
    "    fig.delaxes(axes[num_rows-1, 1])\n",
    "\n",
    "plt.tight_layout()\n",
    "plt.show()"
   ]
  },
  {
   "cell_type": "markdown",
   "id": "52764af5",
   "metadata": {},
   "source": [
    "Let's see range in which the data is distributed across all continuous variables and decide whether we have to scale it or not..."
   ]
  },
  {
   "cell_type": "code",
   "execution_count": 44,
   "id": "70b9543b",
   "metadata": {},
   "outputs": [],
   "source": [
    "def get_column_ranges(df):\n",
    "    ranges = {}\n",
    "    for column in continuous_vars:\n",
    "        column_min = df[column].min()\n",
    "        column_max = df[column].max()\n",
    "        column_range = column_max - column_min\n",
    "        ranges[column] = [column_min, column_max, column_range]\n",
    "    return ranges"
   ]
  },
  {
   "cell_type": "code",
   "execution_count": 45,
   "id": "c770d429",
   "metadata": {},
   "outputs": [
    {
     "name": "stdout",
     "output_type": "stream",
     "text": [
      "Column: quantity_tons\n",
      "Minimum: 0.77290697736, Maximum: 139.32285744, Range: 138.54995046264\n",
      "\n",
      "Column: thickness\n",
      "Minimum: 0.18, Maximum: 6.06, Range: 5.88\n",
      "\n",
      "Column: width\n",
      "Minimum: 803.0, Maximum: 1780.0, Range: 977.0\n",
      "\n",
      "Column: selling_price\n",
      "Minimum: 471.0, Maximum: 1361.0, Range: 890.0\n",
      "\n"
     ]
    }
   ],
   "source": [
    "ranges = get_column_ranges(data)\n",
    "\n",
    "for column, values in ranges.items():\n",
    "    print(f\"Column: {column}\")\n",
    "    print(f\"Minimum: {values[0]}, Maximum: {values[1]}, Range: {values[2]}\")\n",
    "    print()"
   ]
  },
  {
   "cell_type": "markdown",
   "id": "247d8b9b",
   "metadata": {},
   "source": [
    "As we can see, the min, max values and range across columns are varying a lot... So, we would do scaling later on inorder to bring all of them to a same scale... Now, let's move on towards categorical variables..."
   ]
  },
  {
   "cell_type": "markdown",
   "id": "5ad63d50",
   "metadata": {},
   "source": [
    "### Handling Categorical Variables"
   ]
  },
  {
   "cell_type": "code",
   "execution_count": 46,
   "id": "ceb4db19",
   "metadata": {},
   "outputs": [
    {
     "data": {
      "text/plain": [
       "['customer_id',\n",
       " 'country_code',\n",
       " 'leads',\n",
       " 'item_type',\n",
       " 'application',\n",
       " 'material_ref',\n",
       " 'product_ref']"
      ]
     },
     "execution_count": 46,
     "metadata": {},
     "output_type": "execute_result"
    }
   ],
   "source": [
    "categorical_vars"
   ]
  },
  {
   "cell_type": "markdown",
   "id": "6a60d1b1",
   "metadata": {},
   "source": [
    "As we have already noticed, all of these are nominal columns..."
   ]
  },
  {
   "cell_type": "code",
   "execution_count": 47,
   "id": "76659124",
   "metadata": {},
   "outputs": [
    {
     "name": "stdout",
     "output_type": "stream",
     "text": [
      "customer_id: 1125 unique values\n",
      "\n",
      " _______________________________________________________ \n",
      "\n",
      "country_code: 18 unique values\n",
      "\n",
      "['28' '25' '30' '32' '38' '78' '27' '77' '113' '79' '26' '39' '40' '84'\n",
      " '80' '89' 'nan' '107']\n",
      "\n",
      " _______________________________________________________ \n",
      "\n",
      "leads: 2 unique values\n",
      "\n",
      "['Won' 'Lost']\n",
      "\n",
      " _______________________________________________________ \n",
      "\n",
      "item_type: 7 unique values\n",
      "\n",
      "['W' 'WI' 'S' 'Others' 'PL' 'IPL' 'SLAWR']\n",
      "\n",
      " _______________________________________________________ \n",
      "\n",
      "application: 31 unique values\n",
      "\n",
      "['10' '41' '28' '59' '15' '4' '38' '56' '42' '26' '27' '19' '20' '66' '29'\n",
      " '22' '25' '40' '79' '3' '99' '2' '67' '5' '39' '69' '70' '65' '58' '68'\n",
      " 'nan']\n",
      "\n",
      " _______________________________________________________ \n",
      "\n",
      "material_ref: 15821 unique values\n",
      "\n",
      " _______________________________________________________ \n",
      "\n",
      "product_ref: 32 unique values\n",
      "\n",
      "['1670798778' '1668701718' '628377' '640665' '611993' '1668701376'\n",
      " '164141591' '1671863738' '1332077137' '640405' '1693867550' '1665572374'\n",
      " '1282007633' '1668701698' '628117' '1690738206' '628112' '640400'\n",
      " '1671876026' '164336407' '1665572032' '164337175' '611728' '1721130331'\n",
      " '1693867563' '611733' '1690738219' '1722207579' '929423819' '1668701725'\n",
      " '1665584320' '1665584642']\n",
      "\n",
      " _______________________________________________________ \n",
      "\n"
     ]
    }
   ],
   "source": [
    "def unique_values(df, exclude_cols=[]):\n",
    "    for col in df.columns:\n",
    "        if col in exclude_cols:\n",
    "            continue\n",
    "        unique_vals = df[col].nunique()\n",
    "        print(f\"{col}: {unique_vals} unique values\")\n",
    "        if unique_vals < 35:\n",
    "            print()\n",
    "            print(df[col].unique())\n",
    "        print(\"\\n\", 55 * \"_\", \"\\n\")\n",
    "\n",
    "unique_values(data, exclude_cols=continuous_vars)"
   ]
  },
  {
   "cell_type": "markdown",
   "id": "8363a64d",
   "metadata": {},
   "source": [
    "We can see that few columns where there are `NaN` values under the hood of `nan`... Also, we understood from the project assigner that `material_ref` column has few values starting with `00000` and those as well should be treated as null values... Let's handle these two first..."
   ]
  },
  {
   "cell_type": "code",
   "execution_count": 48,
   "id": "4f9b4324",
   "metadata": {},
   "outputs": [],
   "source": [
    "data = data.replace('nan', np.nan)"
   ]
  },
  {
   "cell_type": "code",
   "execution_count": 49,
   "id": "0d5f4e6f",
   "metadata": {},
   "outputs": [
    {
     "data": {
      "text/plain": [
       "quantity_tons        0\n",
       "customer_id          1\n",
       "country_code         4\n",
       "leads                0\n",
       "item_type            0\n",
       "application          3\n",
       "thickness            0\n",
       "width                0\n",
       "material_ref     62793\n",
       "product_ref          0\n",
       "selling_price        0\n",
       "dtype: int64"
      ]
     },
     "execution_count": 49,
     "metadata": {},
     "output_type": "execute_result"
    }
   ],
   "source": [
    "data.isnull().sum()"
   ]
  },
  {
   "cell_type": "code",
   "execution_count": 50,
   "id": "9c0aab5c",
   "metadata": {},
   "outputs": [
    {
     "name": "stdout",
     "output_type": "stream",
     "text": [
      "Number of values starting with '00000': 19619\n"
     ]
    }
   ],
   "source": [
    "count = (data['material_ref'].str.startswith('00000')).sum()\n",
    "\n",
    "print(f\"Number of values starting with '00000': {count}\")"
   ]
  },
  {
   "cell_type": "code",
   "execution_count": 51,
   "id": "d76fd855",
   "metadata": {},
   "outputs": [
    {
     "data": {
      "text/plain": [
       "82412"
      ]
     },
     "execution_count": 51,
     "metadata": {},
     "output_type": "execute_result"
    }
   ],
   "source": [
    "null_mat_ref = data.isnull().sum()['material_ref'] + count\n",
    "null_mat_ref"
   ]
  },
  {
   "cell_type": "code",
   "execution_count": 52,
   "id": "fc0e4c55",
   "metadata": {},
   "outputs": [
    {
     "data": {
      "text/plain": [
       "54.7802793121556"
      ]
     },
     "execution_count": 52,
     "metadata": {},
     "output_type": "execute_result"
    }
   ],
   "source": [
    "percent_null_mat_ref = (null_mat_ref/len(data)) * 100\n",
    "percent_null_mat_ref"
   ]
  },
  {
   "cell_type": "markdown",
   "id": "07c876f3",
   "metadata": {},
   "source": [
    "As we can see, more than half of the data is filled with null values... We could have considered imputing values based on some methodology  if the proportion of null values is smaller... But, we can't impute majority of data using minor portion of available data which would probably lead to misleading output... So, it would be ideal to drop this column altogether...\n",
    "\n",
    "**Note:** In a real world scenario, we should probably consult with client and decide on it whether we can proceed with imputation or dropping..."
   ]
  },
  {
   "cell_type": "code",
   "execution_count": 53,
   "id": "d157cf34",
   "metadata": {},
   "outputs": [
    {
     "data": {
      "text/plain": [
       "['customer_id',\n",
       " 'country_code',\n",
       " 'leads',\n",
       " 'item_type',\n",
       " 'application',\n",
       " 'product_ref']"
      ]
     },
     "execution_count": 53,
     "metadata": {},
     "output_type": "execute_result"
    }
   ],
   "source": [
    "data.drop('material_ref', axis=1, inplace=True)\n",
    "categorical_vars.remove('material_ref')\n",
    "categorical_vars"
   ]
  },
  {
   "cell_type": "markdown",
   "id": "5f5270e4",
   "metadata": {},
   "source": [
    "All other columns, let's use mode to impute values as they are of negligible proportion..."
   ]
  },
  {
   "cell_type": "code",
   "execution_count": 54,
   "id": "9f62207e",
   "metadata": {},
   "outputs": [],
   "source": [
    "data.fillna(data.mode().iloc[0], inplace=True)"
   ]
  },
  {
   "cell_type": "code",
   "execution_count": 55,
   "id": "239e29e8",
   "metadata": {},
   "outputs": [
    {
     "data": {
      "text/plain": [
       "quantity_tons    0\n",
       "customer_id      0\n",
       "country_code     0\n",
       "leads            0\n",
       "item_type        0\n",
       "application      0\n",
       "thickness        0\n",
       "width            0\n",
       "product_ref      0\n",
       "selling_price    0\n",
       "dtype: int64"
      ]
     },
     "execution_count": 55,
     "metadata": {},
     "output_type": "execute_result"
    }
   ],
   "source": [
    "data.isnull().sum()"
   ]
  },
  {
   "cell_type": "markdown",
   "id": "daddac07",
   "metadata": {},
   "source": [
    "Having handled null values successfully, let's encode cat vars..."
   ]
  },
  {
   "cell_type": "code",
   "execution_count": 56,
   "id": "6b63509e",
   "metadata": {},
   "outputs": [
    {
     "name": "stdout",
     "output_type": "stream",
     "text": [
      "customer_id: 1124 unique values\n",
      "\n",
      " _______________________________________________________ \n",
      "\n",
      "country_code: 17 unique values\n",
      "\n",
      "['28' '25' '30' '32' '38' '78' '27' '77' '113' '79' '26' '39' '40' '84'\n",
      " '80' '89' '107']\n",
      "\n",
      " _______________________________________________________ \n",
      "\n",
      "leads: 2 unique values\n",
      "\n",
      "['Won' 'Lost']\n",
      "\n",
      " _______________________________________________________ \n",
      "\n",
      "item_type: 7 unique values\n",
      "\n",
      "['W' 'WI' 'S' 'Others' 'PL' 'IPL' 'SLAWR']\n",
      "\n",
      " _______________________________________________________ \n",
      "\n",
      "application: 30 unique values\n",
      "\n",
      "['10' '41' '28' '59' '15' '4' '38' '56' '42' '26' '27' '19' '20' '66' '29'\n",
      " '22' '25' '40' '79' '3' '99' '2' '67' '5' '39' '69' '70' '65' '58' '68']\n",
      "\n",
      " _______________________________________________________ \n",
      "\n",
      "product_ref: 32 unique values\n",
      "\n",
      "['1670798778' '1668701718' '628377' '640665' '611993' '1668701376'\n",
      " '164141591' '1671863738' '1332077137' '640405' '1693867550' '1665572374'\n",
      " '1282007633' '1668701698' '628117' '1690738206' '628112' '640400'\n",
      " '1671876026' '164336407' '1665572032' '164337175' '611728' '1721130331'\n",
      " '1693867563' '611733' '1690738219' '1722207579' '929423819' '1668701725'\n",
      " '1665584320' '1665584642']\n",
      "\n",
      " _______________________________________________________ \n",
      "\n"
     ]
    }
   ],
   "source": [
    "unique_values(data, exclude_cols=continuous_vars)"
   ]
  },
  {
   "cell_type": "markdown",
   "id": "c8964084",
   "metadata": {},
   "source": [
    "Let's first check correlation of categorical variables against the regression target variable and classification target variable..."
   ]
  },
  {
   "cell_type": "code",
   "execution_count": 57,
   "id": "95ee037b",
   "metadata": {},
   "outputs": [],
   "source": [
    "def calculate_correlation(df, categorical_vars, target_var):\n",
    "    correlations = []\n",
    "    for var in categorical_vars:\n",
    "        crosstab = pd.crosstab(df[var], df[target_var])\n",
    "        chi2, _, _, _ = chi2_contingency(crosstab)\n",
    "        n = crosstab.sum().sum()\n",
    "        phi = np.sqrt(chi2 / n)\n",
    "        correlations.append((var, phi))\n",
    "\n",
    "    return correlations\n",
    "\n",
    "def plot_correlation(correlations, target_var):\n",
    "    df_corr = pd.DataFrame(correlations, columns=['Variable', 'Correlation'])\n",
    "    df_corr.sort_values(by='Correlation', inplace=True)\n",
    "\n",
    "    fig, ax = plt.subplots(figsize=(8, 6))\n",
    "    ax.barh(df_corr['Variable'], df_corr['Correlation'])\n",
    "    ax.set_xlabel('Correlation')\n",
    "    ax.set_ylabel('Variable')\n",
    "    ax.set_title(f'Correlation between Categorical Variables and {target_var.title()}')\n",
    "    plt.show()"
   ]
  },
  {
   "cell_type": "code",
   "execution_count": 58,
   "id": "a883b7ac",
   "metadata": {},
   "outputs": [
    {
     "data": {
      "image/png": "[encoded data removed]",
      "text/plain": [
       "<Figure size 800x600 with 1 Axes>"
      ]
     },
     "metadata": {},
     "output_type": "display_data"
    }
   ],
   "source": [
    "temp_list = [var for var in categorical_vars if var != 'leads']\n",
    "\n",
    "correlations = calculate_correlation(data, temp_list, 'leads')\n",
    "plot_correlation(correlations, 'leads')"
   ]
  },
  {
   "cell_type": "markdown",
   "id": "2a6d3fe6",
   "metadata": {},
   "source": [
    "`leads` - Just `won` or `lost`. So, one hot encoding would be apt thing to do...\n",
    "\n",
    "Now let's compare no. of unique values and the correlation with target column to decide which encoding technique we would be using for each of the categorical variables...\n",
    "\n",
    "As we can see, apart from customer_id nothing else has much correlation with target... So, considering the high correlation and high cardinality, we would do `target encoding` over `customer_id` column...\n",
    "\n",
    "All other columns we would choose type of encoding purely based on intuition, logical reasoning and the cardinality (no. of unique values)...\n",
    "\n",
    "One Hot Encoding Columns:\n",
    "\n",
    "Too many features encoded with target encoding would probably lead to overfitting... So, we would try to reduce the no. of columns getting target encoded... Considering this and based on few other intuition, we would go with OHE for `country_code` and `product_ref` columns apart from `leads`\n",
    "\n",
    "Target encoding columns:\n",
    "\n",
    "Let's use target_encoding over other two columns along with `customer_id`"
   ]
  },
  {
   "cell_type": "code",
   "execution_count": 59,
   "id": "63182ef7",
   "metadata": {},
   "outputs": [],
   "source": [
    "encoded_df = data.copy()\n",
    "\n",
    "encoded_df = pd.get_dummies(encoded_df, columns=['leads', 'country_code', 'product_ref'], drop_first=True)\n",
    "\n",
    "encoded_df.rename({'leads_Won':'leads'}, axis=1, inplace=True)"
   ]
  },
  {
   "cell_type": "code",
   "execution_count": 60,
   "id": "b19161a7",
   "metadata": {},
   "outputs": [
    {
     "data": {
      "text/plain": [
       "(150441, 55)"
      ]
     },
     "execution_count": 60,
     "metadata": {},
     "output_type": "execute_result"
    }
   ],
   "source": [
    "encoded_df.shape"
   ]
  },
  {
   "cell_type": "markdown",
   "id": "91c87fca",
   "metadata": {},
   "source": [
    "Before doing target encoding we must do train, test split... Otherwise there would be data leakage which probably leads to overfitting..."
   ]
  },
  {
   "cell_type": "code",
   "execution_count": 61,
   "id": "3bfac3dc",
   "metadata": {},
   "outputs": [
    {
     "name": "stdout",
     "output_type": "stream",
     "text": [
      "Regression - Train set: (90264, 54) (90264,)\n",
      "Regression - Test set: (30089, 54) (30089,)\n",
      "Regression - Validation set: (30088, 54) (30088,)\n"
     ]
    }
   ],
   "source": [
    "X_regression = encoded_df.drop('selling_price', axis=1)\n",
    "y_regression = encoded_df['selling_price']\n",
    "\n",
    "X_train_reg, X_test_reg, y_train_reg, y_test_reg = train_test_split(X_regression, y_regression, test_size=0.2, random_state=42)\n",
    "X_train_reg, X_val_reg, y_train_reg, y_val_reg = train_test_split(X_train_reg, y_train_reg, test_size=0.25, random_state=42)\n",
    "\n",
    "print(\"Regression - Train set:\", X_train_reg.shape, y_train_reg.shape)\n",
    "print(\"Regression - Test set:\", X_test_reg.shape, y_test_reg.shape)\n",
    "print(\"Regression - Validation set:\", X_val_reg.shape, y_val_reg.shape)"
   ]
  },
  {
   "cell_type": "code",
   "execution_count": 62,
   "id": "79a899a6",
   "metadata": {},
   "outputs": [
    {
     "name": "stdout",
     "output_type": "stream",
     "text": [
      "Classification - Train set: (90264, 54) (90264,)\n",
      "Classification - Test set: (30089, 54) (30089,)\n",
      "Classification - Validation set: (30088, 54) (30088,)\n"
     ]
    }
   ],
   "source": [
    "X_classification = encoded_df.drop('leads', axis=1)\n",
    "y_classification = encoded_df['leads']\n",
    "\n",
    "X_train_cls, X_test_cls, y_train_cls, y_test_cls = train_test_split(X_classification, y_classification, test_size=0.2, random_state=42)\n",
    "X_train_cls, X_val_cls, y_train_cls, y_val_cls = train_test_split(X_train_cls, y_train_cls, test_size=0.25, random_state=42)\n",
    "\n",
    "print(\"Classification - Train set:\", X_train_cls.shape, y_train_cls.shape)\n",
    "print(\"Classification - Test set:\", X_test_cls.shape, y_test_cls.shape)\n",
    "print(\"Classification - Validation set:\", X_val_cls.shape, y_val_cls.shape)"
   ]
  },
  {
   "cell_type": "markdown",
   "id": "36327c5e",
   "metadata": {},
   "source": [
    "Now that we have done split, let's encode those three remaining columns using target encoder"
   ]
  },
  {
   "cell_type": "code",
   "execution_count": 63,
   "id": "cc7dd7b6",
   "metadata": {},
   "outputs": [],
   "source": [
    "target_encoder_reg = ce.TargetEncoder(cols=['customer_id', 'item_type', 'application'])\n",
    "\n",
    "X_train_reg_encoded = target_encoder_reg.fit_transform(X_train_reg, y_train_reg)\n",
    "X_test_reg_encoded = target_encoder_reg.transform(X_test_reg)\n",
    "X_val_reg_encoded = target_encoder_reg.transform(X_val_reg)\n",
    "\n",
    "\n",
    "target_encoder_cls = ce.TargetEncoder(cols=['customer_id', 'item_type', 'application'])\n",
    "\n",
    "X_train_cls_encoded = target_encoder_cls.fit_transform(X_train_cls, y_train_cls)\n",
    "X_test_cls_encoded = target_encoder_cls.transform(X_test_cls)\n",
    "X_val_cls_encoded = target_encoder_cls.transform(X_val_cls)"
   ]
  },
  {
   "cell_type": "markdown",
   "id": "3044a6c0",
   "metadata": {},
   "source": [
    "We have already observed that there is variation in scale among continuous variables... So, let's scale them down using Standard Scaler..."
   ]
  },
  {
   "cell_type": "code",
   "execution_count": 64,
   "id": "d363ea20",
   "metadata": {},
   "outputs": [],
   "source": [
    "continuous_vars_reg = ['quantity_tons', 'thickness', 'width']\n",
    "\n",
    "scaler_reg = StandardScaler()\n",
    "X_train_reg_encoded[continuous_vars_reg] = scaler_reg.fit_transform(X_train_reg_encoded[continuous_vars_reg])\n",
    "X_test_reg_encoded[continuous_vars_reg] = scaler_reg.transform(X_test_reg_encoded[continuous_vars_reg])\n",
    "X_val_reg_encoded[continuous_vars_reg] = scaler_reg.transform(X_val_reg_encoded[continuous_vars_reg])\n",
    "\n",
    "\n",
    "# Also we have noted that selling price has to be scaled down...\n",
    "\n",
    "y_train_reg_scaled = scaler_reg.fit_transform(y_train_reg.values.reshape(-1, 1))\n",
    "y_test_reg_scaled = scaler_reg.transform(y_test_reg.values.reshape(-1, 1))\n",
    "y_val_reg_scaled = scaler_reg.transform(y_val_reg.values.reshape(-1, 1))\n",
    "\n",
    "\n",
    "continuous_vars_cls = ['quantity_tons', 'thickness', 'width', 'selling_price']\n",
    "\n",
    "scaler_cls = StandardScaler()\n",
    "X_train_cls_encoded[continuous_vars_cls] = scaler_cls.fit_transform(X_train_cls_encoded[continuous_vars_cls])\n",
    "X_test_cls_encoded[continuous_vars_cls] = scaler_cls.transform(X_test_cls_encoded[continuous_vars_cls])\n",
    "X_val_cls_encoded[continuous_vars_cls] = scaler_cls.transform(X_val_cls_encoded[continuous_vars_cls])"
   ]
  },
  {
   "cell_type": "code",
   "execution_count": 65,
   "id": "93039997",
   "metadata": {},
   "outputs": [
    {
     "data": {
      "text/plain": [
       "<Axes: title={'center': 'Leads Proportion in Train Set'}>"
      ]
     },
     "execution_count": 65,
     "metadata": {},
     "output_type": "execute_result"
    },
    {
     "data": {
      "image/png": "[encoded data removed]",
      "text/plain": [
       "<Figure size 640x480 with 1 Axes>"
      ]
     },
     "metadata": {},
     "output_type": "display_data"
    }
   ],
   "source": [
    "y_train_cls.value_counts().plot.pie(autopct='%.2f', label='', title = 'Leads Proportion in Train Set')"
   ]
  },
  {
   "cell_type": "code",
   "execution_count": 66,
   "id": "9f1cabca",
   "metadata": {},
   "outputs": [
    {
     "data": {
      "text/plain": [
       "(90264,)"
      ]
     },
     "execution_count": 66,
     "metadata": {},
     "output_type": "execute_result"
    }
   ],
   "source": [
    "y_train_cls.shape"
   ]
  },
  {
   "cell_type": "code",
   "execution_count": 67,
   "id": "d525a56c",
   "metadata": {},
   "outputs": [
    {
     "data": {
      "text/html": [
       "<div>\n",
       "<style scoped>\n",
       "    .dataframe tbody tr th:only-of-type {\n",
       "        vertical-align: middle;\n",
       "    }\n",
       "\n",
       "    .dataframe tbody tr th {\n",
       "        vertical-align: top;\n",
       "    }\n",
       "\n",
       "    .dataframe thead th {\n",
       "        text-align: right;\n",
       "    }\n",
       "</style>\n",
       "<table border=\"1\" class=\"dataframe\">\n",
       "  <thead>\n",
       "    <tr style=\"text-align: right;\">\n",
       "      <th></th>\n",
       "      <th>Model</th>\n",
       "      <th>Imbalance Technique</th>\n",
       "      <th>Accuracy</th>\n",
       "      <th>Precision</th>\n",
       "      <th>Recall</th>\n",
       "      <th>F1-Score</th>\n",
       "    </tr>\n",
       "  </thead>\n",
       "  <tbody>\n",
       "    <tr>\n",
       "      <th>0</th>\n",
       "      <td>LogisticRegression</td>\n",
       "      <td>Undersampling</td>\n",
       "      <td>0.826343</td>\n",
       "      <td>0.760553</td>\n",
       "      <td>0.807781</td>\n",
       "      <td>0.777465</td>\n",
       "    </tr>\n",
       "    <tr>\n",
       "      <th>1</th>\n",
       "      <td>RandomForestClassifier</td>\n",
       "      <td>Undersampling</td>\n",
       "      <td>0.899063</td>\n",
       "      <td>0.847069</td>\n",
       "      <td>0.912194</td>\n",
       "      <td>0.871094</td>\n",
       "    </tr>\n",
       "    <tr>\n",
       "      <th>2</th>\n",
       "      <td>XGBClassifier</td>\n",
       "      <td>Undersampling</td>\n",
       "      <td>0.865029</td>\n",
       "      <td>0.808512</td>\n",
       "      <td>0.879107</td>\n",
       "      <td>0.831466</td>\n",
       "    </tr>\n",
       "    <tr>\n",
       "      <th>3</th>\n",
       "      <td>LogisticRegression</td>\n",
       "      <td>Oversampling</td>\n",
       "      <td>0.825877</td>\n",
       "      <td>0.759808</td>\n",
       "      <td>0.806122</td>\n",
       "      <td>0.776511</td>\n",
       "    </tr>\n",
       "    <tr>\n",
       "      <th>4</th>\n",
       "      <td>RandomForestClassifier</td>\n",
       "      <td>Oversampling</td>\n",
       "      <td>0.930072</td>\n",
       "      <td>0.898483</td>\n",
       "      <td>0.907248</td>\n",
       "      <td>0.902749</td>\n",
       "    </tr>\n",
       "    <tr>\n",
       "      <th>5</th>\n",
       "      <td>XGBClassifier</td>\n",
       "      <td>Oversampling</td>\n",
       "      <td>0.877127</td>\n",
       "      <td>0.821483</td>\n",
       "      <td>0.887378</td>\n",
       "      <td>0.844543</td>\n",
       "    </tr>\n",
       "    <tr>\n",
       "      <th>6</th>\n",
       "      <td>LogisticRegression</td>\n",
       "      <td>SMOTE</td>\n",
       "      <td>0.826742</td>\n",
       "      <td>0.760573</td>\n",
       "      <td>0.805881</td>\n",
       "      <td>0.777101</td>\n",
       "    </tr>\n",
       "    <tr>\n",
       "      <th>7</th>\n",
       "      <td>RandomForestClassifier</td>\n",
       "      <td>SMOTE</td>\n",
       "      <td>0.929241</td>\n",
       "      <td>0.896201</td>\n",
       "      <td>0.908265</td>\n",
       "      <td>0.902010</td>\n",
       "    </tr>\n",
       "    <tr>\n",
       "      <th>8</th>\n",
       "      <td>XGBClassifier</td>\n",
       "      <td>SMOTE</td>\n",
       "      <td>0.886433</td>\n",
       "      <td>0.833878</td>\n",
       "      <td>0.865904</td>\n",
       "      <td>0.847854</td>\n",
       "    </tr>\n",
       "  </tbody>\n",
       "</table>\n",
       "</div>"
      ],
      "text/plain": [
       "                    Model Imbalance Technique  Accuracy  Precision    Recall  \\\n",
       "0      LogisticRegression       Undersampling  0.826343   0.760553  0.807781   \n",
       "1  RandomForestClassifier       Undersampling  0.899063   0.847069  0.912194   \n",
       "2           XGBClassifier       Undersampling  0.865029   0.808512  0.879107   \n",
       "3      LogisticRegression        Oversampling  0.825877   0.759808  0.806122   \n",
       "4  RandomForestClassifier        Oversampling  0.930072   0.898483  0.907248   \n",
       "5           XGBClassifier        Oversampling  0.877127   0.821483  0.887378   \n",
       "6      LogisticRegression               SMOTE  0.826742   0.760573  0.805881   \n",
       "7  RandomForestClassifier               SMOTE  0.929241   0.896201  0.908265   \n",
       "8           XGBClassifier               SMOTE  0.886433   0.833878  0.865904   \n",
       "\n",
       "   F1-Score  \n",
       "0  0.777465  \n",
       "1  0.871094  \n",
       "2  0.831466  \n",
       "3  0.776511  \n",
       "4  0.902749  \n",
       "5  0.844543  \n",
       "6  0.777101  \n",
       "7  0.902010  \n",
       "8  0.847854  "
      ]
     },
     "execution_count": 67,
     "metadata": {},
     "output_type": "execute_result"
    }
   ],
   "source": [
    "from imblearn.under_sampling import RandomUnderSampler\n",
    "from imblearn.over_sampling import SMOTE, RandomOverSampler\n",
    "from sklearn.metrics import accuracy_score, precision_score, recall_score, f1_score\n",
    "\n",
    "important_models = [LogisticRegression(), RandomForestClassifier(), XGBClassifier()]\n",
    "\n",
    "imbalance_techniques = [('Undersampling', RandomUnderSampler()), ('Oversampling', RandomOverSampler()), ('SMOTE', SMOTE())]\n",
    "\n",
    "results_df = pd.DataFrame(columns=['Model', 'Imbalance Technique', 'Accuracy', 'Precision', 'Recall', 'F1-Score'])\n",
    "\n",
    "for imbalance_name, imbalance_technique in imbalance_techniques:\n",
    "    \n",
    "    X_train_resampled, y_train_resampled = imbalance_technique.fit_resample(X_train_cls_encoded, y_train_cls)\n",
    "    \n",
    "    for model in important_models:\n",
    "        \n",
    "        model.fit(X_train_resampled, y_train_resampled)\n",
    "        \n",
    "        y_pred = model.predict(X_val_cls_encoded)\n",
    "        \n",
    "        accuracy = accuracy_score(y_val_cls, y_pred)\n",
    "        precision = precision_score(y_val_cls, y_pred, average='macro')\n",
    "        recall = recall_score(y_val_cls, y_pred, average='macro')\n",
    "        f1 = f1_score(y_val_cls, y_pred, average='macro')\n",
    "        \n",
    "        results_df = results_df.append({\n",
    "            'Model': model.__class__.__name__,\n",
    "            'Imbalance Technique': imbalance_name,\n",
    "            'Accuracy': accuracy,\n",
    "            'Precision': precision,\n",
    "            'Recall': recall,\n",
    "            'F1-Score': f1\n",
    "        }, ignore_index=True)\n",
    "\n",
    "results_df"
   ]
  },
  {
   "cell_type": "markdown",
   "id": "a4902071",
   "metadata": {},
   "source": [
    "With SMOTE all models are performing above par... Let's go with SMOTE then..."
   ]
  },
  {
   "cell_type": "code",
   "execution_count": 68,
   "id": "eb308aff",
   "metadata": {},
   "outputs": [],
   "source": [
    "smote = SMOTE()\n",
    "X_train_res, y_train_res = smote.fit_resample(X_train_cls_encoded, y_train_cls)"
   ]
  },
  {
   "cell_type": "markdown",
   "id": "c7714a52",
   "metadata": {},
   "source": [
    "Now, we are all set to build both regression and classification models... Let's move forward..."
   ]
  },
  {
   "cell_type": "markdown",
   "id": "ba818a71",
   "metadata": {},
   "source": [
    "For regression, we have X_train_reg_encoded, X_test_reg_encoded, X_val_reg_encoded and y_train_reg_scaled, y_test_reg_scaled, y_val_reg_scaled\n",
    "\n",
    "For classification, we have X_train_res, X_test_cls_encoded, X_val_cls_encoded, y_train_res, y_test_cls, y_val_cls"
   ]
  },
  {
   "cell_type": "code",
   "execution_count": 69,
   "id": "7f17b350",
   "metadata": {},
   "outputs": [
    {
     "data": {
      "text/html": [
       "<div>\n",
       "<style scoped>\n",
       "    .dataframe tbody tr th:only-of-type {\n",
       "        vertical-align: middle;\n",
       "    }\n",
       "\n",
       "    .dataframe tbody tr th {\n",
       "        vertical-align: top;\n",
       "    }\n",
       "\n",
       "    .dataframe thead th {\n",
       "        text-align: right;\n",
       "    }\n",
       "</style>\n",
       "<table border=\"1\" class=\"dataframe\">\n",
       "  <thead>\n",
       "    <tr style=\"text-align: right;\">\n",
       "      <th></th>\n",
       "      <th>Model</th>\n",
       "      <th>MSE</th>\n",
       "      <th>MAE</th>\n",
       "      <th>RMSE</th>\n",
       "      <th>R2</th>\n",
       "      <th>Adjusted R2</th>\n",
       "    </tr>\n",
       "  </thead>\n",
       "  <tbody>\n",
       "    <tr>\n",
       "      <th>4</th>\n",
       "      <td>RandomForestRegressor</td>\n",
       "      <td>0.363236</td>\n",
       "      <td>0.457479</td>\n",
       "      <td>0.602691</td>\n",
       "      <td>0.633087</td>\n",
       "      <td>0.632427</td>\n",
       "    </tr>\n",
       "    <tr>\n",
       "      <th>5</th>\n",
       "      <td>GradientBoostingRegressor</td>\n",
       "      <td>0.487473</td>\n",
       "      <td>0.594036</td>\n",
       "      <td>0.698193</td>\n",
       "      <td>0.507593</td>\n",
       "      <td>0.506707</td>\n",
       "    </tr>\n",
       "    <tr>\n",
       "      <th>0</th>\n",
       "      <td>LinearRegression</td>\n",
       "      <td>0.529215</td>\n",
       "      <td>0.615442</td>\n",
       "      <td>0.727472</td>\n",
       "      <td>0.465429</td>\n",
       "      <td>0.464467</td>\n",
       "    </tr>\n",
       "    <tr>\n",
       "      <th>1</th>\n",
       "      <td>Ridge</td>\n",
       "      <td>0.529235</td>\n",
       "      <td>0.615454</td>\n",
       "      <td>0.727486</td>\n",
       "      <td>0.465408</td>\n",
       "      <td>0.464447</td>\n",
       "    </tr>\n",
       "    <tr>\n",
       "      <th>6</th>\n",
       "      <td>AdaBoostRegressor</td>\n",
       "      <td>0.574067</td>\n",
       "      <td>0.652801</td>\n",
       "      <td>0.757672</td>\n",
       "      <td>0.420122</td>\n",
       "      <td>0.419080</td>\n",
       "    </tr>\n",
       "    <tr>\n",
       "      <th>8</th>\n",
       "      <td>ElasticNet</td>\n",
       "      <td>0.591204</td>\n",
       "      <td>0.633528</td>\n",
       "      <td>0.768898</td>\n",
       "      <td>0.402813</td>\n",
       "      <td>0.401739</td>\n",
       "    </tr>\n",
       "    <tr>\n",
       "      <th>2</th>\n",
       "      <td>Lasso</td>\n",
       "      <td>0.592145</td>\n",
       "      <td>0.634415</td>\n",
       "      <td>0.769510</td>\n",
       "      <td>0.401861</td>\n",
       "      <td>0.400786</td>\n",
       "    </tr>\n",
       "    <tr>\n",
       "      <th>7</th>\n",
       "      <td>SVR</td>\n",
       "      <td>0.592565</td>\n",
       "      <td>0.628745</td>\n",
       "      <td>0.769783</td>\n",
       "      <td>0.401437</td>\n",
       "      <td>0.400361</td>\n",
       "    </tr>\n",
       "    <tr>\n",
       "      <th>3</th>\n",
       "      <td>DecisionTreeRegressor</td>\n",
       "      <td>0.600547</td>\n",
       "      <td>0.539606</td>\n",
       "      <td>0.774950</td>\n",
       "      <td>0.393374</td>\n",
       "      <td>0.392283</td>\n",
       "    </tr>\n",
       "  </tbody>\n",
       "</table>\n",
       "</div>"
      ],
      "text/plain": [
       "                       Model       MSE       MAE      RMSE        R2  \\\n",
       "4      RandomForestRegressor  0.363236  0.457479  0.602691  0.633087   \n",
       "5  GradientBoostingRegressor  0.487473  0.594036  0.698193  0.507593   \n",
       "0           LinearRegression  0.529215  0.615442  0.727472  0.465429   \n",
       "1                      Ridge  0.529235  0.615454  0.727486  0.465408   \n",
       "6          AdaBoostRegressor  0.574067  0.652801  0.757672  0.420122   \n",
       "8                 ElasticNet  0.591204  0.633528  0.768898  0.402813   \n",
       "2                      Lasso  0.592145  0.634415  0.769510  0.401861   \n",
       "7                        SVR  0.592565  0.628745  0.769783  0.401437   \n",
       "3      DecisionTreeRegressor  0.600547  0.539606  0.774950  0.393374   \n",
       "\n",
       "   Adjusted R2  \n",
       "4     0.632427  \n",
       "5     0.506707  \n",
       "0     0.464467  \n",
       "1     0.464447  \n",
       "6     0.419080  \n",
       "8     0.401739  \n",
       "2     0.400786  \n",
       "7     0.400361  \n",
       "3     0.392283  "
      ]
     },
     "execution_count": 69,
     "metadata": {},
     "output_type": "execute_result"
    }
   ],
   "source": [
    "regression_models = [\n",
    "    LinearRegression(),\n",
    "    Ridge(),\n",
    "    Lasso(),\n",
    "    DecisionTreeRegressor(),\n",
    "    RandomForestRegressor(),\n",
    "    GradientBoostingRegressor(),\n",
    "    AdaBoostRegressor(),\n",
    "    SVR(),\n",
    "    ElasticNet()\n",
    "]\n",
    "\n",
    "reg_results_df = pd.DataFrame(columns=['Model', 'MSE', 'MAE', 'RMSE', 'R2', 'Adjusted R2'])\n",
    "\n",
    "for model in regression_models:\n",
    "\n",
    "    model_name = model.__class__.__name__\n",
    "    model.fit(X_train_reg_encoded, y_train_reg_scaled)\n",
    "    y_pred = model.predict(X_val_reg_encoded)\n",
    "    mse = mean_squared_error(y_val_reg_scaled, y_pred)\n",
    "    mae = mean_absolute_error(y_val_reg_scaled, y_pred)\n",
    "    rmse = np.sqrt(mse)\n",
    "    r2 = r2_score(y_val_reg_scaled, y_pred)\n",
    "    adjusted_r2 = 1 - (1 - r2) * (len(X_val_reg_encoded) - 1) / (len(X_val_reg_encoded) - X_val_reg_encoded.shape[1] - 1)\n",
    "    reg_results_df = reg_results_df.append({'Model': model_name, 'MSE': mse, 'MAE': mae, 'RMSE': rmse, 'R2': r2, 'Adjusted R2': adjusted_r2}, ignore_index=True)\n",
    "\n",
    "reg_results_df.sort_values(by='MSE', inplace=True)\n",
    "reg_results_df"
   ]
  },
  {
   "cell_type": "markdown",
   "id": "c227348b",
   "metadata": {},
   "source": [
    "We would choose RF Regressor here which has least MSE and finetune it..."
   ]
  },
  {
   "cell_type": "code",
   "execution_count": 70,
   "id": "96223b5e",
   "metadata": {},
   "outputs": [
    {
     "data": {
      "text/html": [
       "<div>\n",
       "<style scoped>\n",
       "    .dataframe tbody tr th:only-of-type {\n",
       "        vertical-align: middle;\n",
       "    }\n",
       "\n",
       "    .dataframe tbody tr th {\n",
       "        vertical-align: top;\n",
       "    }\n",
       "\n",
       "    .dataframe thead th {\n",
       "        text-align: right;\n",
       "    }\n",
       "</style>\n",
       "<table border=\"1\" class=\"dataframe\">\n",
       "  <thead>\n",
       "    <tr style=\"text-align: right;\">\n",
       "      <th></th>\n",
       "      <th>Model</th>\n",
       "      <th>Accuracy</th>\n",
       "      <th>Precision</th>\n",
       "      <th>Recall</th>\n",
       "      <th>F1-Score</th>\n",
       "      <th>ROC-AUC</th>\n",
       "    </tr>\n",
       "  </thead>\n",
       "  <tbody>\n",
       "    <tr>\n",
       "      <th>2</th>\n",
       "      <td>RandomForestClassifier</td>\n",
       "      <td>0.928875</td>\n",
       "      <td>0.895310</td>\n",
       "      <td>0.908529</td>\n",
       "      <td>0.901652</td>\n",
       "      <td>0.908529</td>\n",
       "    </tr>\n",
       "    <tr>\n",
       "      <th>1</th>\n",
       "      <td>DecisionTreeClassifier</td>\n",
       "      <td>0.907903</td>\n",
       "      <td>0.866073</td>\n",
       "      <td>0.880874</td>\n",
       "      <td>0.873100</td>\n",
       "      <td>0.880874</td>\n",
       "    </tr>\n",
       "    <tr>\n",
       "      <th>5</th>\n",
       "      <td>XGBClassifier</td>\n",
       "      <td>0.884738</td>\n",
       "      <td>0.831714</td>\n",
       "      <td>0.863445</td>\n",
       "      <td>0.845562</td>\n",
       "      <td>0.863445</td>\n",
       "    </tr>\n",
       "    <tr>\n",
       "      <th>9</th>\n",
       "      <td>LGBMClassifier</td>\n",
       "      <td>0.865195</td>\n",
       "      <td>0.806397</td>\n",
       "      <td>0.855205</td>\n",
       "      <td>0.825230</td>\n",
       "      <td>0.855205</td>\n",
       "    </tr>\n",
       "    <tr>\n",
       "      <th>7</th>\n",
       "      <td>KNeighborsClassifier</td>\n",
       "      <td>0.854992</td>\n",
       "      <td>0.794937</td>\n",
       "      <td>0.850627</td>\n",
       "      <td>0.814929</td>\n",
       "      <td>0.850627</td>\n",
       "    </tr>\n",
       "    <tr>\n",
       "      <th>6</th>\n",
       "      <td>SVC</td>\n",
       "      <td>0.842828</td>\n",
       "      <td>0.782853</td>\n",
       "      <td>0.846633</td>\n",
       "      <td>0.803379</td>\n",
       "      <td>0.846633</td>\n",
       "    </tr>\n",
       "    <tr>\n",
       "      <th>4</th>\n",
       "      <td>GradientBoostingClassifier</td>\n",
       "      <td>0.823983</td>\n",
       "      <td>0.763257</td>\n",
       "      <td>0.827946</td>\n",
       "      <td>0.782298</td>\n",
       "      <td>0.827946</td>\n",
       "    </tr>\n",
       "    <tr>\n",
       "      <th>0</th>\n",
       "      <td>LogisticRegression</td>\n",
       "      <td>0.826509</td>\n",
       "      <td>0.760101</td>\n",
       "      <td>0.804474</td>\n",
       "      <td>0.776413</td>\n",
       "      <td>0.804474</td>\n",
       "    </tr>\n",
       "    <tr>\n",
       "      <th>3</th>\n",
       "      <td>AdaBoostClassifier</td>\n",
       "      <td>0.809725</td>\n",
       "      <td>0.748399</td>\n",
       "      <td>0.811891</td>\n",
       "      <td>0.765993</td>\n",
       "      <td>0.811891</td>\n",
       "    </tr>\n",
       "    <tr>\n",
       "      <th>8</th>\n",
       "      <td>GaussianNB</td>\n",
       "      <td>0.292642</td>\n",
       "      <td>0.573263</td>\n",
       "      <td>0.528906</td>\n",
       "      <td>0.275142</td>\n",
       "      <td>0.528906</td>\n",
       "    </tr>\n",
       "  </tbody>\n",
       "</table>\n",
       "</div>"
      ],
      "text/plain": [
       "                        Model  Accuracy  Precision    Recall  F1-Score  \\\n",
       "2      RandomForestClassifier  0.928875   0.895310  0.908529  0.901652   \n",
       "1      DecisionTreeClassifier  0.907903   0.866073  0.880874  0.873100   \n",
       "5               XGBClassifier  0.884738   0.831714  0.863445  0.845562   \n",
       "9              LGBMClassifier  0.865195   0.806397  0.855205  0.825230   \n",
       "7        KNeighborsClassifier  0.854992   0.794937  0.850627  0.814929   \n",
       "6                         SVC  0.842828   0.782853  0.846633  0.803379   \n",
       "4  GradientBoostingClassifier  0.823983   0.763257  0.827946  0.782298   \n",
       "0          LogisticRegression  0.826509   0.760101  0.804474  0.776413   \n",
       "3          AdaBoostClassifier  0.809725   0.748399  0.811891  0.765993   \n",
       "8                  GaussianNB  0.292642   0.573263  0.528906  0.275142   \n",
       "\n",
       "    ROC-AUC  \n",
       "2  0.908529  \n",
       "1  0.880874  \n",
       "5  0.863445  \n",
       "9  0.855205  \n",
       "7  0.850627  \n",
       "6  0.846633  \n",
       "4  0.827946  \n",
       "0  0.804474  \n",
       "3  0.811891  \n",
       "8  0.528906  "
      ]
     },
     "execution_count": 70,
     "metadata": {},
     "output_type": "execute_result"
    }
   ],
   "source": [
    "classification_models = [\n",
    "    LogisticRegression(),\n",
    "    DecisionTreeClassifier(),\n",
    "    RandomForestClassifier(),\n",
    "    AdaBoostClassifier(),\n",
    "    GradientBoostingClassifier(),\n",
    "    XGBClassifier(),\n",
    "    SVC(),\n",
    "    KNeighborsClassifier(),\n",
    "    GaussianNB(),\n",
    "    LGBMClassifier()\n",
    "]\n",
    "\n",
    "cls_results_df = pd.DataFrame(columns=['Model', 'Accuracy', 'Precision', 'Recall', 'F1-Score', 'ROC-AUC'])\n",
    "\n",
    "for model in classification_models:\n",
    "    model_name = model.__class__.__name__\n",
    "    model.fit(X_train_res, y_train_res)\n",
    "    y_pred = model.predict(X_val_cls_encoded)\n",
    "    accuracy = accuracy_score(y_val_cls, y_pred)\n",
    "    precision = precision_score(y_val_cls, y_pred, average='macro')\n",
    "    recall = recall_score(y_val_cls, y_pred, average='macro')\n",
    "    f1 = f1_score(y_val_cls, y_pred, average='macro')\n",
    "    roc_auc = roc_auc_score(y_val_cls, y_pred)\n",
    "    cls_results_df = cls_results_df.append({'Model': model_name, 'Accuracy': accuracy, 'Precision': precision, 'Recall': recall, 'F1-Score': f1, 'ROC-AUC': roc_auc}, ignore_index=True)\n",
    "\n",
    "cls_results_df.sort_values(by='F1-Score', ascending=False, inplace=True)\n",
    "cls_results_df"
   ]
  },
  {
   "cell_type": "markdown",
   "id": "9cb2e67f",
   "metadata": {},
   "source": [
    "We would choose RF Classifier here which has hi the benchmarks in all sections and finetune it as per our need..."
   ]
  },
  {
   "cell_type": "code",
   "execution_count": 71,
   "id": "31cb755a",
   "metadata": {},
   "outputs": [
    {
     "name": "stderr",
     "output_type": "stream",
     "text": [
      "\n",
      "KeyboardInterrupt\n",
      "\n"
     ]
    }
   ],
   "source": [
    "reg_param_grid = {\n",
    "    'n_estimators': [100, 200, 300],\n",
    "    'max_depth': [None, 5, 10],\n",
    "    'min_samples_split': [2, 5, 10],\n",
    "    'min_samples_leaf': [1, 2, 4],\n",
    "    'max_features': ['auto', 'sqrt', 'log2']\n",
    "}\n",
    "\n",
    "rf_regressor = RandomForestRegressor(random_state=42)\n",
    "\n",
    "grid_search = GridSearchCV(estimator=rf_regressor, param_grid=reg_param_grid, cv=5, scoring='neg_mean_squared_error')\n",
    "grid_search.fit(X_train_reg_encoded, y_train_reg_scaled)\n",
    "\n",
    "print(\"Best Parameters: \", grid_search.best_params_)\n",
    "print(\"Best Score (Negative MSE): \", grid_search.best_score_)"
   ]
  },
  {
   "cell_type": "code",
   "execution_count": null,
   "id": "50760524",
   "metadata": {},
   "outputs": [],
   "source": [
    "cls_param_grid = {\n",
    "    'n_estimators': [100, 200, 300],\n",
    "    'max_depth': [None, 5, 10],\n",
    "    'min_samples_split': [2, 5, 10],\n",
    "    'min_samples_leaf': [1, 2, 4],\n",
    "    'max_features': ['auto', 'sqrt', 'log2'],\n",
    "    'criterion' :['gini', 'entropy']\n",
    "}\n",
    "\n",
    "rf_classifier = RandomForestClassifier(random_state=42)\n",
    "\n",
    "grid_search = GridSearchCV(estimator=rf_classifier, param_grid=cls_param_grid, cv=5, scoring='accuracy')\n",
    "grid_search.fit(X_train_res, y_train_res)\n",
    "\n",
    "print(\"Best Parameters: \", grid_search.best_params_)\n",
    "print(\"Best Score (Accuracy): \", grid_search.best_score_)"
   ]
  },
  {
   "cell_type": "code",
   "execution_count": null,
   "id": "668fc6fe",
   "metadata": {},
   "outputs": [],
   "source": []
  },
  {
   "cell_type": "code",
   "execution_count": null,
   "id": "9f8c2546",
   "metadata": {},
   "outputs": [],
   "source": []
  },
  {
   "cell_type": "code",
   "execution_count": null,
   "id": "1c52a813",
   "metadata": {},
   "outputs": [],
   "source": []
  },
  {
   "cell_type": "code",
   "execution_count": null,
   "id": "ee1b0162",
   "metadata": {},
   "outputs": [],
   "source": []
  },
  {
   "cell_type": "code",
   "execution_count": null,
   "id": "d622abec",
   "metadata": {},
   "outputs": [],
   "source": []
  },
  {
   "cell_type": "code",
   "execution_count": null,
   "id": "d4de5eb2",
   "metadata": {},
   "outputs": [],
   "source": []
  },
  {
   "cell_type": "code",
   "execution_count": null,
   "id": "22777bd4",
   "metadata": {},
   "outputs": [],
   "source": []
  },
  {
   "cell_type": "code",
   "execution_count": null,
   "id": "1ecbbd54",
   "metadata": {},
   "outputs": [],
   "source": []
  },
  {
   "cell_type": "code",
   "execution_count": null,
   "id": "d2ce6c64",
   "metadata": {},
   "outputs": [],
   "source": []
  },
  {
   "cell_type": "code",
   "execution_count": null,
   "id": "680cf8ee",
   "metadata": {},
   "outputs": [],
   "source": []
  },
  {
   "cell_type": "code",
   "execution_count": null,
   "id": "c4232db6",
   "metadata": {},
   "outputs": [],
   "source": []
  },
  {
   "cell_type": "code",
   "execution_count": null,
   "id": "486fb4dc",
   "metadata": {},
   "outputs": [],
   "source": []
  },
  {
   "cell_type": "code",
   "execution_count": null,
   "id": "6e3f2054",
   "metadata": {},
   "outputs": [],
   "source": []
  },
  {
   "cell_type": "code",
   "execution_count": null,
   "id": "7488f4e1",
   "metadata": {},
   "outputs": [],
   "source": []
  },
  {
   "cell_type": "code",
   "execution_count": null,
   "id": "00725f89",
   "metadata": {},
   "outputs": [],
   "source": []
  },
  {
   "cell_type": "code",
   "execution_count": null,
   "id": "e7229310",
   "metadata": {},
   "outputs": [],
   "source": []
  },
  {
   "cell_type": "code",
   "execution_count": null,
   "id": "970f6b4e",
   "metadata": {},
   "outputs": [],
   "source": []
  },
  {
   "cell_type": "code",
   "execution_count": null,
   "id": "d342951f",
   "metadata": {},
   "outputs": [],
   "source": []
  },
  {
   "cell_type": "code",
   "execution_count": null,
   "id": "b9074220",
   "metadata": {},
   "outputs": [],
   "source": []
  },
  {
   "cell_type": "code",
   "execution_count": null,
   "id": "f847635d",
   "metadata": {},
   "outputs": [],
   "source": []
  },
  {
   "cell_type": "code",
   "execution_count": null,
   "id": "38c4478c",
   "metadata": {},
   "outputs": [],
   "source": []
  },
  {
   "cell_type": "code",
   "execution_count": null,
   "id": "bf6c7ece",
   "metadata": {},
   "outputs": [],
   "source": []
  },
  {
   "cell_type": "code",
   "execution_count": null,
   "id": "0161ac95-0f81-427a-97c7-d9c677cd81d1",
   "metadata": {
    "jupyter": {
     "outputs_hidden": false,
     "source_hidden": false
    },
    "noteable": {
     "cell_type": "code"
    }
   },
   "outputs": [],
   "source": []
  },
  {
   "cell_type": "code",
   "execution_count": null,
   "id": "112f6dc4-2b38-4e4e-b7cf-cc42b408ee49",
   "metadata": {
    "jupyter": {
     "outputs_hidden": false,
     "source_hidden": false
    },
    "noteable": {
     "cell_type": "code"
    }
   },
   "outputs": [],
   "source": []
  }
 ],
 "metadata": {
  "kernelspec": {
   "display_name": "Python 3 (ipykernel)",
   "language": "python",
   "name": "python3"
  },
  "language_info": {
   "codemirror_mode": {
    "name": "ipython",
    "version": 3
   },
   "file_extension": ".py",
   "mimetype": "text/x-python",
   "name": "python",
   "nbconvert_exporter": "python",
   "pygments_lexer": "ipython3",
   "version": "3.10.11"
  },
  "noteable": {
   "db_connection": "@noteable",
   "last_delta_id": "dbbbfa64-2eb5-4e79-b7c8-7e0af1e82815"
  },
  "nteract": {
   "version": "noteable@2.9.0"
  },
  "selected_hardware_size": "small"
 },
 "nbformat": 4,
 "nbformat_minor": 5
}
