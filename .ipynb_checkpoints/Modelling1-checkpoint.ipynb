{
 "cells": [
  {
   "cell_type": "markdown",
   "id": "ac6dbecc",
   "metadata": {
    "id": "ac6dbecc"
   },
   "source": [
    "# Copper Price Prediction and Leads Classification"
   ]
  },
  {
   "cell_type": "markdown",
   "id": "658f32aa",
   "metadata": {
    "id": "658f32aa"
   },
   "source": [
    "### Importing Libraries and Setting up the Notebook"
   ]
  },
  {
   "cell_type": "code",
   "execution_count": null,
   "id": "f32d23f0d2a24500992f3aa2b1bdc556",
   "metadata": {
    "ExecuteTime": {
     "end_time": "2023-07-16T14:19:49.154464+00:00",
     "start_time": "2023-07-16T14:19:47.895678+00:00"
    },
    "id": "f32d23f0d2a24500992f3aa2b1bdc556",
    "noteable": {}
   },
   "outputs": [],
   "source": [
    "from sklearn.metrics import accuracy_score, f1_score, roc_auc_score, precision_score, recall_score, confusion_matrix, classification_report\n",
    "from sklearn.ensemble import RandomForestClassifier, AdaBoostClassifier, GradientBoostingClassifier\n",
    "from sklearn.ensemble import RandomForestRegressor, GradientBoostingRegressor, AdaBoostRegressor\n",
    "from sklearn.metrics import mean_squared_error, mean_absolute_error, r2_score\n",
    "from sklearn.linear_model import LinearRegression, Lasso, Ridge, ElasticNet\n",
    "from sklearn.model_selection import train_test_split\n",
    "from sklearn.linear_model import LogisticRegression\n",
    "from sklearn.neighbors import KNeighborsClassifier\n",
    "from sklearn.preprocessing import StandardScaler\n",
    "from sklearn.model_selection import GridSearchCV\n",
    "from sklearn.tree import DecisionTreeClassifier\n",
    "from sklearn.tree import DecisionTreeRegressor\n",
    "from sklearn.naive_bayes import GaussianNB\n",
    "from imblearn.over_sampling import SMOTE\n",
    "from scipy.stats import chi2_contingency\n",
    "from lightgbm import LGBMClassifier\n",
    "from xgboost import XGBClassifier\n",
    "import matplotlib.pyplot as plt\n",
    "import category_encoders as ce\n",
    "from sklearn.svm import SVC\n",
    "from sklearn.svm import SVR\n",
    "import seaborn as sns\n",
    "import pandas as pd\n",
    "import numpy as np\n",
    "import warnings\n",
    "\n",
    "\n",
    "\n",
    "pd.pandas.set_option('display.max_columns',None)\n",
    "sns.set_theme()\n",
    "warnings.filterwarnings('ignore')\n",
    "%matplotlib inline"
   ]
  },
  {
   "cell_type": "markdown",
   "id": "da521475",
   "metadata": {
    "id": "da521475"
   },
   "source": [
    "### Reading Data and Knowing the Primaries"
   ]
  },
  {
   "cell_type": "code",
   "execution_count": null,
   "id": "020f8594-7ba7-46cf-81a5-772936603e8a",
   "metadata": {
    "ExecuteTime": {
     "end_time": "2023-07-16T14:19:53.879163+00:00",
     "start_time": "2023-07-16T14:19:49.162244+00:00"
    },
    "datalink": {
     "48266ea0-5311-4cd8-8330-d4a13b6fbc96": {
      "applied_filters": [],
      "dataframe_info": {
       "default_index_used": true,
       "orig_num_cols": 14,
       "orig_num_rows": 181673,
       "orig_size_bytes": 21800760,
       "truncated_num_cols": 14,
       "truncated_num_rows": 50000,
       "truncated_size_bytes": 6000000,
       "truncated_string_columns": []
      },
      "display_id": "48266ea0-5311-4cd8-8330-d4a13b6fbc96",
      "dx_settings": {
       "ALLOW_NOTEABLE_ATTRS": true,
       "COLUMN_SAMPLING_METHOD": "outer",
       "DB_LOCATION": ":memory:",
       "DEV_MODE": false,
       "DISPLAY_MAX_COLUMNS": 100,
       "DISPLAY_MAX_ROWS": 50000,
       "DISPLAY_MODE": "simple",
       "ENABLE_ASSIGNMENT": true,
       "ENABLE_DATALINK": true,
       "FLATTEN_COLUMN_VALUES": true,
       "FLATTEN_INDEX_VALUES": false,
       "GENERATE_DEX_METADATA": false,
       "HTML_TABLE_SCHEMA": false,
       "LOG_LEVEL": 30,
       "MAX_RENDER_SIZE_BYTES": 104857600,
       "MAX_STRING_LENGTH": 250,
       "NUM_PAST_SAMPLES_TRACKED": 3,
       "RANDOM_STATE": 12648430,
       "RESET_INDEX_VALUES": false,
       "ROW_SAMPLING_METHOD": "random",
       "SAMPLING_FACTOR": 0.1,
       "SAMPLING_METHOD": "random",
       "STRINGIFY_COLUMN_VALUES": true,
       "STRINGIFY_INDEX_VALUES": false
      },
      "sample_history": [],
      "sampling_time": "2023-07-16T14:19:53.143261",
      "user_variable_name": "df",
      "variable_name": "df"
     },
     "5bf1c9d0-ac84-4e32-a19b-ed084d9a132f": {
      "applied_filters": [],
      "dataframe_info": {
       "default_index_used": true,
       "orig_num_cols": 14,
       "orig_num_rows": 181673,
       "orig_size_bytes": 21800760,
       "truncated_num_cols": 14,
       "truncated_num_rows": 50000,
       "truncated_size_bytes": 6000000,
       "truncated_string_columns": []
      },
      "display_id": "5bf1c9d0-ac84-4e32-a19b-ed084d9a132f",
      "dx_settings": {
       "ALLOW_NOTEABLE_ATTRS": true,
       "COLUMN_SAMPLING_METHOD": "outer",
       "DB_LOCATION": ":memory:",
       "DEV_MODE": false,
       "DISPLAY_MAX_COLUMNS": 100,
       "DISPLAY_MAX_ROWS": 50000,
       "DISPLAY_MODE": "simple",
       "ENABLE_ASSIGNMENT": true,
       "ENABLE_DATALINK": true,
       "FLATTEN_COLUMN_VALUES": true,
       "FLATTEN_INDEX_VALUES": false,
       "GENERATE_DEX_METADATA": false,
       "HTML_TABLE_SCHEMA": false,
       "LOG_LEVEL": 30,
       "MAX_RENDER_SIZE_BYTES": 104857600,
       "MAX_STRING_LENGTH": 250,
       "NUM_PAST_SAMPLES_TRACKED": 3,
       "RANDOM_STATE": 12648430,
       "RESET_INDEX_VALUES": false,
       "ROW_SAMPLING_METHOD": "random",
       "SAMPLING_FACTOR": 0.1,
       "SAMPLING_METHOD": "random",
       "STRINGIFY_COLUMN_VALUES": true,
       "STRINGIFY_INDEX_VALUES": false
      },
      "sample_history": [],
      "sampling_time": "2023-07-16T13:07:39.429602",
      "user_variable_name": "df",
      "variable_name": "df"
     },
     "5df2503f-9e47-4c92-85fc-a165b8bf5290": {
      "applied_filters": [],
      "dataframe_info": {
       "default_index_used": true,
       "orig_num_cols": 14,
       "orig_num_rows": 181673,
       "orig_size_bytes": 21800760,
       "truncated_num_cols": 14,
       "truncated_num_rows": 50000,
       "truncated_size_bytes": 6000000,
       "truncated_string_columns": []
      },
      "display_id": "5df2503f-9e47-4c92-85fc-a165b8bf5290",
      "dx_settings": {
       "ALLOW_NOTEABLE_ATTRS": true,
       "COLUMN_SAMPLING_METHOD": "outer",
       "DB_LOCATION": ":memory:",
       "DEV_MODE": false,
       "DISPLAY_MAX_COLUMNS": 100,
       "DISPLAY_MAX_ROWS": 50000,
       "DISPLAY_MODE": "simple",
       "ENABLE_ASSIGNMENT": true,
       "ENABLE_DATALINK": true,
       "FLATTEN_COLUMN_VALUES": true,
       "FLATTEN_INDEX_VALUES": false,
       "GENERATE_DEX_METADATA": false,
       "HTML_TABLE_SCHEMA": false,
       "LOG_LEVEL": 30,
       "MAX_RENDER_SIZE_BYTES": 104857600,
       "MAX_STRING_LENGTH": 250,
       "NUM_PAST_SAMPLES_TRACKED": 3,
       "RANDOM_STATE": 12648430,
       "RESET_INDEX_VALUES": false,
       "ROW_SAMPLING_METHOD": "random",
       "SAMPLING_FACTOR": 0.1,
       "SAMPLING_METHOD": "random",
       "STRINGIFY_COLUMN_VALUES": true,
       "STRINGIFY_INDEX_VALUES": false
      },
      "sample_history": [],
      "sampling_time": "2023-07-16T12:34:11.191297",
      "user_variable_name": "df",
      "variable_name": "df"
     },
     "70d466c0-e0bc-4523-8af8-1d7c7f124ff5": {
      "applied_filters": [],
      "dataframe_info": {
       "default_index_used": true,
       "orig_num_cols": 14,
       "orig_num_rows": 181673,
       "orig_size_bytes": 21800760,
       "truncated_num_cols": 14,
       "truncated_num_rows": 50000,
       "truncated_size_bytes": 6000000,
       "truncated_string_columns": []
      },
      "display_id": "70d466c0-e0bc-4523-8af8-1d7c7f124ff5",
      "dx_settings": {
       "ALLOW_NOTEABLE_ATTRS": true,
       "COLUMN_SAMPLING_METHOD": "outer",
       "DB_LOCATION": ":memory:",
       "DEV_MODE": false,
       "DISPLAY_MAX_COLUMNS": 100,
       "DISPLAY_MAX_ROWS": 50000,
       "DISPLAY_MODE": "simple",
       "ENABLE_ASSIGNMENT": true,
       "ENABLE_DATALINK": true,
       "FLATTEN_COLUMN_VALUES": true,
       "FLATTEN_INDEX_VALUES": false,
       "GENERATE_DEX_METADATA": false,
       "HTML_TABLE_SCHEMA": false,
       "LOG_LEVEL": 30,
       "MAX_RENDER_SIZE_BYTES": 104857600,
       "MAX_STRING_LENGTH": 250,
       "NUM_PAST_SAMPLES_TRACKED": 3,
       "RANDOM_STATE": 12648430,
       "RESET_INDEX_VALUES": false,
       "ROW_SAMPLING_METHOD": "random",
       "SAMPLING_FACTOR": 0.1,
       "SAMPLING_METHOD": "random",
       "STRINGIFY_COLUMN_VALUES": true,
       "STRINGIFY_INDEX_VALUES": false
      },
      "sample_history": [],
      "sampling_time": "2023-07-16T12:28:04.626820",
      "user_variable_name": "df",
      "variable_name": "df"
     },
     "a4180291-5420-443a-b1a3-1c17ff5fab7d": {
      "applied_filters": [],
      "dataframe_info": {
       "default_index_used": true,
       "orig_num_cols": 14,
       "orig_num_rows": 5,
       "orig_size_bytes": 600,
       "truncated_num_cols": 14,
       "truncated_num_rows": 5,
       "truncated_size_bytes": 600,
       "truncated_string_columns": []
      },
      "display_id": "a4180291-5420-443a-b1a3-1c17ff5fab7d",
      "dx_settings": {
       "ALLOW_NOTEABLE_ATTRS": true,
       "COLUMN_SAMPLING_METHOD": "outer",
       "DB_LOCATION": ":memory:",
       "DEV_MODE": false,
       "DISPLAY_MAX_COLUMNS": 100,
       "DISPLAY_MAX_ROWS": 50000,
       "DISPLAY_MODE": "simple",
       "ENABLE_ASSIGNMENT": true,
       "ENABLE_DATALINK": true,
       "FLATTEN_COLUMN_VALUES": true,
       "FLATTEN_INDEX_VALUES": false,
       "GENERATE_DEX_METADATA": false,
       "HTML_TABLE_SCHEMA": false,
       "LOG_LEVEL": 30,
       "MAX_RENDER_SIZE_BYTES": 104857600,
       "MAX_STRING_LENGTH": 250,
       "NUM_PAST_SAMPLES_TRACKED": 3,
       "RANDOM_STATE": 12648430,
       "RESET_INDEX_VALUES": false,
       "ROW_SAMPLING_METHOD": "random",
       "SAMPLING_FACTOR": 0.1,
       "SAMPLING_METHOD": "random",
       "STRINGIFY_COLUMN_VALUES": true,
       "STRINGIFY_INDEX_VALUES": false
      },
      "sample_history": [],
      "sampling_time": "2023-07-16T08:43:46.073967",
      "user_variable_name": null,
      "variable_name": "unk_dataframe_edd677449830443380e0e172fb960818"
     },
     "e98cc768-63f8-406f-ac4a-f9c36acf88d2": {
      "applied_filters": [],
      "dataframe_info": {
       "default_index_used": true,
       "orig_num_cols": 14,
       "orig_num_rows": 181673,
       "orig_size_bytes": 21800760,
       "truncated_num_cols": 14,
       "truncated_num_rows": 50000,
       "truncated_size_bytes": 6000000,
       "truncated_string_columns": []
      },
      "display_id": "e98cc768-63f8-406f-ac4a-f9c36acf88d2",
      "dx_settings": {
       "ALLOW_NOTEABLE_ATTRS": true,
       "COLUMN_SAMPLING_METHOD": "outer",
       "DB_LOCATION": ":memory:",
       "DEV_MODE": false,
       "DISPLAY_MAX_COLUMNS": 100,
       "DISPLAY_MAX_ROWS": 50000,
       "DISPLAY_MODE": "simple",
       "ENABLE_ASSIGNMENT": true,
       "ENABLE_DATALINK": true,
       "FLATTEN_COLUMN_VALUES": true,
       "FLATTEN_INDEX_VALUES": false,
       "GENERATE_DEX_METADATA": false,
       "HTML_TABLE_SCHEMA": false,
       "LOG_LEVEL": 30,
       "MAX_RENDER_SIZE_BYTES": 104857600,
       "MAX_STRING_LENGTH": 250,
       "NUM_PAST_SAMPLES_TRACKED": 3,
       "RANDOM_STATE": 12648430,
       "RESET_INDEX_VALUES": false,
       "ROW_SAMPLING_METHOD": "random",
       "SAMPLING_FACTOR": 0.1,
       "SAMPLING_METHOD": "random",
       "STRINGIFY_COLUMN_VALUES": true,
       "STRINGIFY_INDEX_VALUES": false
      },
      "sample_history": [],
      "sampling_time": "2023-07-16T08:45:02.460868",
      "user_variable_name": "df",
      "variable_name": "df"
     },
     "efc62a4c-cba0-4a1b-854d-3a2554139a0d": {
      "applied_filters": [],
      "dataframe_info": {
       "default_index_used": true,
       "orig_num_cols": 14,
       "orig_num_rows": 181673,
       "orig_size_bytes": 21800760,
       "truncated_num_cols": 14,
       "truncated_num_rows": 50000,
       "truncated_size_bytes": 6000000,
       "truncated_string_columns": []
      },
      "display_id": "efc62a4c-cba0-4a1b-854d-3a2554139a0d",
      "dx_settings": {
       "ALLOW_NOTEABLE_ATTRS": true,
       "COLUMN_SAMPLING_METHOD": "outer",
       "DB_LOCATION": ":memory:",
       "DEV_MODE": false,
       "DISPLAY_MAX_COLUMNS": 100,
       "DISPLAY_MAX_ROWS": 50000,
       "DISPLAY_MODE": "simple",
       "ENABLE_ASSIGNMENT": true,
       "ENABLE_DATALINK": true,
       "FLATTEN_COLUMN_VALUES": true,
       "FLATTEN_INDEX_VALUES": false,
       "GENERATE_DEX_METADATA": false,
       "HTML_TABLE_SCHEMA": false,
       "LOG_LEVEL": 30,
       "MAX_RENDER_SIZE_BYTES": 104857600,
       "MAX_STRING_LENGTH": 250,
       "NUM_PAST_SAMPLES_TRACKED": 3,
       "RANDOM_STATE": 12648430,
       "RESET_INDEX_VALUES": false,
       "ROW_SAMPLING_METHOD": "random",
       "SAMPLING_FACTOR": 0.1,
       "SAMPLING_METHOD": "random",
       "STRINGIFY_COLUMN_VALUES": true,
       "STRINGIFY_INDEX_VALUES": false
      },
      "sample_history": [],
      "sampling_time": "2023-07-16T10:25:02.516086",
      "user_variable_name": "df",
      "variable_name": "df"
     }
    },
    "dx": {
     "dashboard": {
      "multiViews": []
     },
     "fieldMetadata": {
      "application": {
       "columnPosition": 9
      },
      "country": {
       "columnPosition": 6
      },
      "customer": {
       "columnPosition": 5
      },
      "delivery date": {
       "columnPosition": 14
      },
      "id": {
       "columnPosition": 2
      },
      "index": {
       "columnPosition": 1
      },
      "item type": {
       "columnPosition": 8
      },
      "item_date": {
       "columnPosition": 3
      },
      "material_ref": {
       "columnPosition": 12
      },
      "product_ref": {
       "columnPosition": 13
      },
      "quantity tons": {
       "columnPosition": 4
      },
      "selling_price": {
       "columnPosition": 15
      },
      "status": {
       "columnPosition": 7
      },
      "thickness": {
       "columnPosition": 10
      },
      "width": {
       "columnPosition": 11
      }
     },
     "updated": 1689512734960,
     "views": [
      {
       "annotationRules": [],
       "chart": {},
       "chartMode": "grid",
       "confoRules": [],
       "decoration": {
        "footer": "",
        "subtitle": "",
        "title": "Table"
       },
       "facets": [],
       "filterSettings": {
        "SHOW_FILTER_PANEL": true,
        "filters": []
       },
       "id": "first-view",
       "isDefault": true,
       "type": "public",
       "userID": ""
      },
      {
       "annotationRules": [],
       "chart": {
        "tableSparklines": true
       },
       "chartMode": "grid",
       "confoRules": [],
       "decoration": {
        "footer": "",
        "subtitle": "",
        "title": "Table"
       },
       "facets": [],
       "filterSettings": {
        "SHOW_FILTER_PANEL": true,
        "filters": []
       },
       "id": "first-view",
       "isDefault": true,
       "isTransitory": true,
       "type": "public",
       "userID": ""
      }
     ]
    },
    "id": "020f8594-7ba7-46cf-81a5-772936603e8a",
    "jupyter": {
     "outputs_hidden": false,
     "source_hidden": false
    },
    "noteable": {
     "cell_type": "code"
    },
    "scrolled": false
   },
   "outputs": [],
   "source": [
    "df = pd.read_csv('Dataset/Copper.csv')\n",
    "df"
   ]
  },
  {
   "cell_type": "markdown",
   "id": "52a59c3f-66c5-43f2-ae33-54cc5d3291ec",
   "metadata": {
    "id": "52a59c3f-66c5-43f2-ae33-54cc5d3291ec",
    "noteable": {
     "cell_type": "markdown"
    }
   },
   "source": [
    "Column names seems to have space in between words... Let's replace space with underscore for convenience of calling..."
   ]
  },
  {
   "cell_type": "code",
   "execution_count": null,
   "id": "4db59e8a-9155-4a87-ae9d-8eebb605fb8c",
   "metadata": {
    "ExecuteTime": {
     "end_time": "2023-07-16T14:20:01.321953+00:00",
     "start_time": "2023-07-16T14:20:01.164315+00:00"
    },
    "id": "4db59e8a-9155-4a87-ae9d-8eebb605fb8c",
    "jupyter": {
     "outputs_hidden": false,
     "source_hidden": false
    },
    "noteable": {
     "cell_type": "python"
    }
   },
   "outputs": [],
   "source": [
    "df.columns = [column.replace(' ', '_') for column in df.columns]\n",
    "df.rename({'customer': 'customer_id', 'country': 'country_code'}, axis=1, inplace=True)"
   ]
  },
  {
   "cell_type": "code",
   "execution_count": null,
   "id": "3b0f1a32-db5b-4f90-970d-287f9e637f84",
   "metadata": {
    "ExecuteTime": {
     "end_time": "2023-07-16T14:20:01.495236+00:00",
     "start_time": "2023-07-16T14:20:01.332730+00:00"
    },
    "id": "3b0f1a32-db5b-4f90-970d-287f9e637f84",
    "jupyter": {
     "outputs_hidden": false,
     "source_hidden": false
    },
    "noteable": {
     "cell_type": "code"
    }
   },
   "outputs": [],
   "source": [
    "df.columns"
   ]
  },
  {
   "cell_type": "code",
   "execution_count": null,
   "id": "190f0880-d3a2-42b6-846e-3fd69fd8fa63",
   "metadata": {
    "ExecuteTime": {
     "end_time": "2023-07-16T14:20:01.889335+00:00",
     "start_time": "2023-07-16T14:20:01.730041+00:00"
    },
    "id": "190f0880-d3a2-42b6-846e-3fd69fd8fa63",
    "jupyter": {
     "outputs_hidden": false,
     "source_hidden": false
    },
    "noteable": {
     "cell_type": "code"
    }
   },
   "outputs": [],
   "source": [
    "df.shape"
   ]
  },
  {
   "cell_type": "code",
   "execution_count": null,
   "id": "b89b616d-1e6f-496d-a864-1096914f07aa",
   "metadata": {
    "ExecuteTime": {
     "end_time": "2023-07-16T14:20:02.293342+00:00",
     "start_time": "2023-07-16T14:20:01.968787+00:00"
    },
    "id": "b89b616d-1e6f-496d-a864-1096914f07aa",
    "jupyter": {
     "outputs_hidden": false,
     "source_hidden": false
    },
    "noteable": {
     "cell_type": "code"
    }
   },
   "outputs": [],
   "source": [
    "df.info()"
   ]
  },
  {
   "cell_type": "code",
   "execution_count": null,
   "id": "09e1f110-453f-45ed-988d-92b8966840dd",
   "metadata": {
    "ExecuteTime": {
     "end_time": "2023-07-16T14:20:02.733628+00:00",
     "start_time": "2023-07-16T14:20:02.304401+00:00"
    },
    "id": "09e1f110-453f-45ed-988d-92b8966840dd",
    "jupyter": {
     "outputs_hidden": false,
     "source_hidden": false
    },
    "noteable": {
     "cell_type": "code"
    }
   },
   "outputs": [],
   "source": [
    "df.duplicated().sum()"
   ]
  },
  {
   "cell_type": "code",
   "execution_count": null,
   "id": "ef55cce7-4bc6-44d5-86c3-9f158a321791",
   "metadata": {
    "ExecuteTime": {
     "end_time": "2023-07-16T14:20:03.284273+00:00",
     "start_time": "2023-07-16T14:20:02.928956+00:00"
    },
    "datalink": {
     "0452d26a-7531-4fd7-bba0-1bb19dc7dafc": {
      "applied_filters": [],
      "dataframe_info": {
       "default_index_used": false,
       "orig_num_cols": 1,
       "orig_num_rows": 14,
       "orig_size_bytes": 224,
       "truncated_num_cols": 1,
       "truncated_num_rows": 14,
       "truncated_size_bytes": 224,
       "truncated_string_columns": []
      },
      "display_id": "0452d26a-7531-4fd7-bba0-1bb19dc7dafc",
      "dx_settings": {
       "ALLOW_NOTEABLE_ATTRS": true,
       "COLUMN_SAMPLING_METHOD": "outer",
       "DB_LOCATION": ":memory:",
       "DEV_MODE": false,
       "DISPLAY_MAX_COLUMNS": 100,
       "DISPLAY_MAX_ROWS": 50000,
       "DISPLAY_MODE": "simple",
       "ENABLE_ASSIGNMENT": true,
       "ENABLE_DATALINK": true,
       "FLATTEN_COLUMN_VALUES": true,
       "FLATTEN_INDEX_VALUES": false,
       "GENERATE_DEX_METADATA": false,
       "HTML_TABLE_SCHEMA": false,
       "LOG_LEVEL": 30,
       "MAX_RENDER_SIZE_BYTES": 104857600,
       "MAX_STRING_LENGTH": 250,
       "NUM_PAST_SAMPLES_TRACKED": 3,
       "RANDOM_STATE": 12648430,
       "RESET_INDEX_VALUES": false,
       "ROW_SAMPLING_METHOD": "random",
       "SAMPLING_FACTOR": 0.1,
       "SAMPLING_METHOD": "random",
       "STRINGIFY_COLUMN_VALUES": true,
       "STRINGIFY_INDEX_VALUES": false
      },
      "sample_history": [],
      "sampling_time": "2023-07-16T13:09:02.330347",
      "user_variable_name": null,
      "variable_name": "unk_dataframe_778336769653491c8d4408eea36447bd"
     },
     "460760b6-fc4b-4172-b51f-16d42199d6f3": {
      "applied_filters": [],
      "dataframe_info": {
       "default_index_used": false,
       "orig_num_cols": 1,
       "orig_num_rows": 14,
       "orig_size_bytes": 224,
       "truncated_num_cols": 1,
       "truncated_num_rows": 14,
       "truncated_size_bytes": 224,
       "truncated_string_columns": []
      },
      "display_id": "460760b6-fc4b-4172-b51f-16d42199d6f3",
      "dx_settings": {
       "ALLOW_NOTEABLE_ATTRS": true,
       "COLUMN_SAMPLING_METHOD": "outer",
       "DB_LOCATION": ":memory:",
       "DEV_MODE": false,
       "DISPLAY_MAX_COLUMNS": 100,
       "DISPLAY_MAX_ROWS": 50000,
       "DISPLAY_MODE": "simple",
       "ENABLE_ASSIGNMENT": true,
       "ENABLE_DATALINK": true,
       "FLATTEN_COLUMN_VALUES": true,
       "FLATTEN_INDEX_VALUES": false,
       "GENERATE_DEX_METADATA": false,
       "HTML_TABLE_SCHEMA": false,
       "LOG_LEVEL": 30,
       "MAX_RENDER_SIZE_BYTES": 104857600,
       "MAX_STRING_LENGTH": 250,
       "NUM_PAST_SAMPLES_TRACKED": 3,
       "RANDOM_STATE": 12648430,
       "RESET_INDEX_VALUES": false,
       "ROW_SAMPLING_METHOD": "random",
       "SAMPLING_FACTOR": 0.1,
       "SAMPLING_METHOD": "random",
       "STRINGIFY_COLUMN_VALUES": true,
       "STRINGIFY_INDEX_VALUES": false
      },
      "sample_history": [],
      "sampling_time": "2023-07-16T14:20:03.126475",
      "user_variable_name": null,
      "variable_name": "unk_dataframe_ccfe6fea87024a7db33a0bfd062d2a4f"
     },
     "5804a6b6-6e30-4dd9-8b13-a62a0782d459": {
      "applied_filters": [],
      "dataframe_info": {
       "default_index_used": false,
       "orig_num_cols": 1,
       "orig_num_rows": 14,
       "orig_size_bytes": 224,
       "truncated_num_cols": 1,
       "truncated_num_rows": 14,
       "truncated_size_bytes": 224,
       "truncated_string_columns": []
      },
      "display_id": "5804a6b6-6e30-4dd9-8b13-a62a0782d459",
      "dx_settings": {
       "ALLOW_NOTEABLE_ATTRS": true,
       "COLUMN_SAMPLING_METHOD": "outer",
       "DB_LOCATION": ":memory:",
       "DEV_MODE": false,
       "DISPLAY_MAX_COLUMNS": 100,
       "DISPLAY_MAX_ROWS": 50000,
       "DISPLAY_MODE": "simple",
       "ENABLE_ASSIGNMENT": true,
       "ENABLE_DATALINK": true,
       "FLATTEN_COLUMN_VALUES": true,
       "FLATTEN_INDEX_VALUES": false,
       "GENERATE_DEX_METADATA": false,
       "HTML_TABLE_SCHEMA": false,
       "LOG_LEVEL": 30,
       "MAX_RENDER_SIZE_BYTES": 104857600,
       "MAX_STRING_LENGTH": 250,
       "NUM_PAST_SAMPLES_TRACKED": 3,
       "RANDOM_STATE": 12648430,
       "RESET_INDEX_VALUES": false,
       "ROW_SAMPLING_METHOD": "random",
       "SAMPLING_FACTOR": 0.1,
       "SAMPLING_METHOD": "random",
       "STRINGIFY_COLUMN_VALUES": true,
       "STRINGIFY_INDEX_VALUES": false
      },
      "sample_history": [],
      "sampling_time": "2023-07-16T12:28:54.452302",
      "user_variable_name": null,
      "variable_name": "unk_dataframe_4be2c405de1d46dfbf14dd7417d9c559"
     },
     "ad702353-4140-4132-b2ce-04fd15c7899e": {
      "applied_filters": [],
      "dataframe_info": {
       "default_index_used": false,
       "orig_num_cols": 1,
       "orig_num_rows": 14,
       "orig_size_bytes": 224,
       "truncated_num_cols": 1,
       "truncated_num_rows": 14,
       "truncated_size_bytes": 224,
       "truncated_string_columns": []
      },
      "display_id": "ad702353-4140-4132-b2ce-04fd15c7899e",
      "dx_settings": {
       "ALLOW_NOTEABLE_ATTRS": true,
       "COLUMN_SAMPLING_METHOD": "outer",
       "DB_LOCATION": ":memory:",
       "DEV_MODE": false,
       "DISPLAY_MAX_COLUMNS": 100,
       "DISPLAY_MAX_ROWS": 50000,
       "DISPLAY_MODE": "simple",
       "ENABLE_ASSIGNMENT": true,
       "ENABLE_DATALINK": true,
       "FLATTEN_COLUMN_VALUES": true,
       "FLATTEN_INDEX_VALUES": false,
       "GENERATE_DEX_METADATA": false,
       "HTML_TABLE_SCHEMA": false,
       "LOG_LEVEL": 30,
       "MAX_RENDER_SIZE_BYTES": 104857600,
       "MAX_STRING_LENGTH": 250,
       "NUM_PAST_SAMPLES_TRACKED": 3,
       "RANDOM_STATE": 12648430,
       "RESET_INDEX_VALUES": false,
       "ROW_SAMPLING_METHOD": "random",
       "SAMPLING_FACTOR": 0.1,
       "SAMPLING_METHOD": "random",
       "STRINGIFY_COLUMN_VALUES": true,
       "STRINGIFY_INDEX_VALUES": false
      },
      "sample_history": [],
      "sampling_time": "2023-07-16T08:49:17.566020",
      "user_variable_name": null,
      "variable_name": "unk_dataframe_9d42550f60bb44f49c290c2d83ec94b8"
     },
     "cdf675d7-002b-4962-bf3e-4cd50d3cef3a": {
      "applied_filters": [],
      "dataframe_info": {
       "default_index_used": false,
       "orig_num_cols": 1,
       "orig_num_rows": 14,
       "orig_size_bytes": 224,
       "truncated_num_cols": 1,
       "truncated_num_rows": 14,
       "truncated_size_bytes": 224,
       "truncated_string_columns": []
      },
      "display_id": "cdf675d7-002b-4962-bf3e-4cd50d3cef3a",
      "dx_settings": {
       "ALLOW_NOTEABLE_ATTRS": true,
       "COLUMN_SAMPLING_METHOD": "outer",
       "DB_LOCATION": ":memory:",
       "DEV_MODE": false,
       "DISPLAY_MAX_COLUMNS": 100,
       "DISPLAY_MAX_ROWS": 50000,
       "DISPLAY_MODE": "simple",
       "ENABLE_ASSIGNMENT": true,
       "ENABLE_DATALINK": true,
       "FLATTEN_COLUMN_VALUES": true,
       "FLATTEN_INDEX_VALUES": false,
       "GENERATE_DEX_METADATA": false,
       "HTML_TABLE_SCHEMA": false,
       "LOG_LEVEL": 30,
       "MAX_RENDER_SIZE_BYTES": 104857600,
       "MAX_STRING_LENGTH": 250,
       "NUM_PAST_SAMPLES_TRACKED": 3,
       "RANDOM_STATE": 12648430,
       "RESET_INDEX_VALUES": false,
       "ROW_SAMPLING_METHOD": "random",
       "SAMPLING_FACTOR": 0.1,
       "SAMPLING_METHOD": "random",
       "STRINGIFY_COLUMN_VALUES": true,
       "STRINGIFY_INDEX_VALUES": false
      },
      "sample_history": [],
      "sampling_time": "2023-07-16T12:34:19.512595",
      "user_variable_name": null,
      "variable_name": "unk_dataframe_e8c542f524d34438aaf015a73a4a9555"
     },
     "ef0ee1c3-481d-4690-a791-77fd023ddafd": {
      "applied_filters": [],
      "dataframe_info": {
       "default_index_used": false,
       "orig_num_cols": 1,
       "orig_num_rows": 14,
       "orig_size_bytes": 224,
       "truncated_num_cols": 1,
       "truncated_num_rows": 14,
       "truncated_size_bytes": 224,
       "truncated_string_columns": []
      },
      "display_id": "ef0ee1c3-481d-4690-a791-77fd023ddafd",
      "dx_settings": {
       "ALLOW_NOTEABLE_ATTRS": true,
       "COLUMN_SAMPLING_METHOD": "outer",
       "DB_LOCATION": ":memory:",
       "DEV_MODE": false,
       "DISPLAY_MAX_COLUMNS": 100,
       "DISPLAY_MAX_ROWS": 50000,
       "DISPLAY_MODE": "simple",
       "ENABLE_ASSIGNMENT": true,
       "ENABLE_DATALINK": true,
       "FLATTEN_COLUMN_VALUES": true,
       "FLATTEN_INDEX_VALUES": false,
       "GENERATE_DEX_METADATA": false,
       "HTML_TABLE_SCHEMA": false,
       "LOG_LEVEL": 30,
       "MAX_RENDER_SIZE_BYTES": 104857600,
       "MAX_STRING_LENGTH": 250,
       "NUM_PAST_SAMPLES_TRACKED": 3,
       "RANDOM_STATE": 12648430,
       "RESET_INDEX_VALUES": false,
       "ROW_SAMPLING_METHOD": "random",
       "SAMPLING_FACTOR": 0.1,
       "SAMPLING_METHOD": "random",
       "STRINGIFY_COLUMN_VALUES": true,
       "STRINGIFY_INDEX_VALUES": false
      },
      "sample_history": [],
      "sampling_time": "2023-07-16T10:25:23.218095",
      "user_variable_name": null,
      "variable_name": "unk_dataframe_c1e589c2e81f48f5b347e793a05cabd5"
     }
    },
    "dx": {
     "dashboard": {
      "multiViews": []
     },
     "fieldMetadata": {},
     "updated": 1689512975034,
     "views": [
      {
       "annotationRules": [],
       "chart": {},
       "chartMode": "grid",
       "confoRules": [],
       "decoration": {
        "footer": "",
        "subtitle": "",
        "title": "Table"
       },
       "facets": [],
       "filterSettings": {
        "SHOW_FILTER_PANEL": true,
        "filters": []
       },
       "id": "first-view",
       "isDefault": true,
       "type": "public",
       "userID": ""
      },
      {
       "annotationRules": [],
       "chart": {},
       "chartMode": "grid",
       "confoRules": [],
       "decoration": {
        "footer": "",
        "subtitle": "",
        "title": "Table"
       },
       "facets": [],
       "filterSettings": {
        "SHOW_FILTER_PANEL": true,
        "filters": []
       },
       "id": "first-view",
       "isDefault": true,
       "isTransitory": true,
       "type": "public",
       "userID": ""
      }
     ]
    },
    "id": "ef55cce7-4bc6-44d5-86c3-9f158a321791",
    "jupyter": {
     "outputs_hidden": false,
     "source_hidden": false
    },
    "noteable": {
     "cell_type": "code"
    }
   },
   "outputs": [],
   "source": [
    "df.isnull().sum()"
   ]
  },
  {
   "cell_type": "markdown",
   "id": "6f72f0f4",
   "metadata": {
    "id": "6f72f0f4"
   },
   "source": [
    "### Managing some basic inconsistencies"
   ]
  },
  {
   "cell_type": "markdown",
   "id": "dc88cd3e",
   "metadata": {
    "id": "dc88cd3e"
   },
   "source": [
    "`id` column doesn't hold any value... So,  lets drop it straightaway..."
   ]
  },
  {
   "cell_type": "code",
   "execution_count": null,
   "id": "64e6cab8-dae3-4540-a585-4b3805a69603",
   "metadata": {
    "ExecuteTime": {
     "end_time": "2023-07-16T14:20:03.465575+00:00",
     "start_time": "2023-07-16T14:20:03.296162+00:00"
    },
    "id": "64e6cab8-dae3-4540-a585-4b3805a69603",
    "jupyter": {
     "outputs_hidden": false,
     "source_hidden": false
    },
    "noteable": {
     "cell_type": "code"
    }
   },
   "outputs": [],
   "source": [
    "df.drop('id', axis = 1, inplace = True)"
   ]
  },
  {
   "cell_type": "markdown",
   "id": "612fcd2e",
   "metadata": {
    "id": "612fcd2e"
   },
   "source": [
    "`quantity_tons` column has object dtype while it should actually be float... Let's change it..."
   ]
  },
  {
   "cell_type": "code",
   "execution_count": null,
   "id": "b71679a7",
   "metadata": {
    "id": "b71679a7"
   },
   "outputs": [],
   "source": [
    "try:\n",
    "    df['quantity_tons'] =  df['quantity_tons'].astype('float64')\n",
    "except Exception as e:\n",
    "    print(f'An Error Occurred: {e}')"
   ]
  },
  {
   "cell_type": "markdown",
   "id": "c451e62f",
   "metadata": {
    "id": "c451e62f"
   },
   "source": [
    "There seems to be some actual string within this column which is stopping the column from getting converted to float... Let's handle it..."
   ]
  },
  {
   "cell_type": "code",
   "execution_count": null,
   "id": "075bf7dd",
   "metadata": {
    "id": "075bf7dd"
   },
   "outputs": [],
   "source": [
    "df['quantity_tons'] = pd.to_numeric(df['quantity_tons'], errors='coerce')\n",
    "\n",
    "df['quantity_tons'].isnull().sum()"
   ]
  },
  {
   "cell_type": "markdown",
   "id": "75ac2103",
   "metadata": {
    "id": "75ac2103"
   },
   "source": [
    "Let's handle this null value later..."
   ]
  },
  {
   "cell_type": "markdown",
   "id": "341554fd",
   "metadata": {
    "id": "341554fd"
   },
   "source": [
    "Let's change the datatype of temporal variables to Datetime now as they are framed as float dtype"
   ]
  },
  {
   "cell_type": "code",
   "execution_count": null,
   "id": "3bce5b02-b699-4606-890a-67997d74649b",
   "metadata": {
    "ExecuteTime": {
     "end_time": "2023-07-16T14:20:03.634145+00:00",
     "start_time": "2023-07-16T14:20:03.476058+00:00"
    },
    "id": "3bce5b02-b699-4606-890a-67997d74649b",
    "jupyter": {
     "outputs_hidden": false,
     "source_hidden": false
    },
    "noteable": {
     "cell_type": "code"
    }
   },
   "outputs": [],
   "source": [
    "print(df['item_date'].min(), '\\n', df['item_date'].max())"
   ]
  },
  {
   "cell_type": "markdown",
   "id": "f4851bce",
   "metadata": {
    "id": "f4851bce"
   },
   "source": [
    "There seems to be some inconsistency in the data... The lower ceiling is 1991(way out of the boundary) and date and month can't be 00.... We will coerce and make those NaT and then probably will see null count and see what to do with them..."
   ]
  },
  {
   "cell_type": "code",
   "execution_count": null,
   "id": "ce87921a-0727-41a5-a1d3-a7794aecca60",
   "metadata": {
    "ExecuteTime": {
     "end_time": "2023-07-16T14:20:04.267289+00:00",
     "start_time": "2023-07-16T14:20:03.963424+00:00"
    },
    "datalink": {
     "116ad3b4-14fb-46dc-9d11-1a9bd907afe9": {
      "applied_filters": [],
      "dataframe_info": {
       "default_index_used": true,
       "orig_num_cols": 1,
       "orig_num_rows": 181673,
       "orig_size_bytes": 2906768,
       "truncated_num_cols": 1,
       "truncated_num_rows": 50000,
       "truncated_size_bytes": 800000,
       "truncated_string_columns": []
      },
      "display_id": "116ad3b4-14fb-46dc-9d11-1a9bd907afe9",
      "dx_settings": {
       "ALLOW_NOTEABLE_ATTRS": true,
       "COLUMN_SAMPLING_METHOD": "outer",
       "DB_LOCATION": ":memory:",
       "DEV_MODE": false,
       "DISPLAY_MAX_COLUMNS": 100,
       "DISPLAY_MAX_ROWS": 50000,
       "DISPLAY_MODE": "simple",
       "ENABLE_ASSIGNMENT": true,
       "ENABLE_DATALINK": true,
       "FLATTEN_COLUMN_VALUES": true,
       "FLATTEN_INDEX_VALUES": false,
       "GENERATE_DEX_METADATA": false,
       "HTML_TABLE_SCHEMA": false,
       "LOG_LEVEL": 30,
       "MAX_RENDER_SIZE_BYTES": 104857600,
       "MAX_STRING_LENGTH": 250,
       "NUM_PAST_SAMPLES_TRACKED": 3,
       "RANDOM_STATE": 12648430,
       "RESET_INDEX_VALUES": false,
       "ROW_SAMPLING_METHOD": "random",
       "SAMPLING_FACTOR": 0.1,
       "SAMPLING_METHOD": "random",
       "STRINGIFY_COLUMN_VALUES": true,
       "STRINGIFY_INDEX_VALUES": false
      },
      "sample_history": [],
      "sampling_time": "2023-07-16T09:04:05.786778",
      "user_variable_name": null,
      "variable_name": "unk_dataframe_c1e45a922e6e4d87a1e87e5c30eb69f8"
     },
     "1f65d637-55c4-4eac-9c4b-919fbd9faf8b": {
      "applied_filters": [],
      "dataframe_info": {
       "default_index_used": true,
       "orig_num_cols": 13,
       "orig_num_rows": 181673,
       "orig_size_bytes": 20347376,
       "truncated_num_cols": 13,
       "truncated_num_rows": 50000,
       "truncated_size_bytes": 5600000,
       "truncated_string_columns": []
      },
      "display_id": "1f65d637-55c4-4eac-9c4b-919fbd9faf8b",
      "dx_settings": {
       "ALLOW_NOTEABLE_ATTRS": true,
       "COLUMN_SAMPLING_METHOD": "outer",
       "DB_LOCATION": ":memory:",
       "DEV_MODE": false,
       "DISPLAY_MAX_COLUMNS": 100,
       "DISPLAY_MAX_ROWS": 50000,
       "DISPLAY_MODE": "simple",
       "ENABLE_ASSIGNMENT": true,
       "ENABLE_DATALINK": true,
       "FLATTEN_COLUMN_VALUES": true,
       "FLATTEN_INDEX_VALUES": false,
       "GENERATE_DEX_METADATA": false,
       "HTML_TABLE_SCHEMA": false,
       "LOG_LEVEL": 30,
       "MAX_RENDER_SIZE_BYTES": 104857600,
       "MAX_STRING_LENGTH": 250,
       "NUM_PAST_SAMPLES_TRACKED": 3,
       "RANDOM_STATE": 12648430,
       "RESET_INDEX_VALUES": false,
       "ROW_SAMPLING_METHOD": "random",
       "SAMPLING_FACTOR": 0.1,
       "SAMPLING_METHOD": "random",
       "STRINGIFY_COLUMN_VALUES": true,
       "STRINGIFY_INDEX_VALUES": false
      },
      "sample_history": [],
      "sampling_time": "2023-07-16T08:53:10.373636",
      "user_variable_name": "df",
      "variable_name": "df"
     },
     "2663a2f7-5431-4387-9b17-13dc714f4ace": {
      "applied_filters": [],
      "dataframe_info": {
       "default_index_used": true,
       "orig_num_cols": 1,
       "orig_num_rows": 181673,
       "orig_size_bytes": 2906768,
       "truncated_num_cols": 1,
       "truncated_num_rows": 50000,
       "truncated_size_bytes": 800000,
       "truncated_string_columns": []
      },
      "display_id": "2663a2f7-5431-4387-9b17-13dc714f4ace",
      "dx_settings": {
       "ALLOW_NOTEABLE_ATTRS": true,
       "COLUMN_SAMPLING_METHOD": "outer",
       "DB_LOCATION": ":memory:",
       "DEV_MODE": false,
       "DISPLAY_MAX_COLUMNS": 100,
       "DISPLAY_MAX_ROWS": 50000,
       "DISPLAY_MODE": "simple",
       "ENABLE_ASSIGNMENT": true,
       "ENABLE_DATALINK": true,
       "FLATTEN_COLUMN_VALUES": true,
       "FLATTEN_INDEX_VALUES": false,
       "GENERATE_DEX_METADATA": false,
       "HTML_TABLE_SCHEMA": false,
       "LOG_LEVEL": 30,
       "MAX_RENDER_SIZE_BYTES": 104857600,
       "MAX_STRING_LENGTH": 250,
       "NUM_PAST_SAMPLES_TRACKED": 3,
       "RANDOM_STATE": 12648430,
       "RESET_INDEX_VALUES": false,
       "ROW_SAMPLING_METHOD": "random",
       "SAMPLING_FACTOR": 0.1,
       "SAMPLING_METHOD": "random",
       "STRINGIFY_COLUMN_VALUES": true,
       "STRINGIFY_INDEX_VALUES": false
      },
      "sample_history": [],
      "sampling_time": "2023-07-16T09:02:08.441076",
      "user_variable_name": null,
      "variable_name": "unk_dataframe_ff495ec6f2004faab673a325d95597e2"
     },
     "618c38c4-134d-4de2-aee6-24c3386d1149": {
      "applied_filters": [],
      "dataframe_info": {
       "default_index_used": true,
       "orig_num_cols": 1,
       "orig_num_rows": 181673,
       "orig_size_bytes": 2906768,
       "truncated_num_cols": 1,
       "truncated_num_rows": 50000,
       "truncated_size_bytes": 800000,
       "truncated_string_columns": []
      },
      "display_id": "618c38c4-134d-4de2-aee6-24c3386d1149",
      "dx_settings": {
       "ALLOW_NOTEABLE_ATTRS": true,
       "COLUMN_SAMPLING_METHOD": "outer",
       "DB_LOCATION": ":memory:",
       "DEV_MODE": false,
       "DISPLAY_MAX_COLUMNS": 100,
       "DISPLAY_MAX_ROWS": 50000,
       "DISPLAY_MODE": "simple",
       "ENABLE_ASSIGNMENT": true,
       "ENABLE_DATALINK": true,
       "FLATTEN_COLUMN_VALUES": true,
       "FLATTEN_INDEX_VALUES": false,
       "GENERATE_DEX_METADATA": false,
       "HTML_TABLE_SCHEMA": false,
       "LOG_LEVEL": 30,
       "MAX_RENDER_SIZE_BYTES": 104857600,
       "MAX_STRING_LENGTH": 250,
       "NUM_PAST_SAMPLES_TRACKED": 3,
       "RANDOM_STATE": 12648430,
       "RESET_INDEX_VALUES": false,
       "ROW_SAMPLING_METHOD": "random",
       "SAMPLING_FACTOR": 0.1,
       "SAMPLING_METHOD": "random",
       "STRINGIFY_COLUMN_VALUES": true,
       "STRINGIFY_INDEX_VALUES": false
      },
      "sample_history": [],
      "sampling_time": "2023-07-16T08:52:34.641046",
      "user_variable_name": null,
      "variable_name": "unk_dataframe_4e8a09a8c84c4e07812fa1028b68b93f"
     }
    },
    "dx": {
     "fieldMetadata": {},
     "simpleTable": true,
     "updated": 1689502592760,
     "views": []
    },
    "id": "ce87921a-0727-41a5-a1d3-a7794aecca60",
    "jupyter": {
     "outputs_hidden": false,
     "source_hidden": false
    },
    "noteable": {
     "cell_type": "code"
    }
   },
   "outputs": [],
   "source": [
    "df['item_date'] = pd.to_datetime(df['item_date'], format='%Y%m%d', errors='coerce')"
   ]
  },
  {
   "cell_type": "code",
   "execution_count": null,
   "id": "16b0c44a",
   "metadata": {
    "id": "16b0c44a"
   },
   "outputs": [],
   "source": [
    "print(df['item_date'].min(), '\\n', df['item_date'].max())"
   ]
  },
  {
   "cell_type": "code",
   "execution_count": null,
   "id": "3d2fad4f-5beb-441c-8275-a26b3ca5af21",
   "metadata": {
    "ExecuteTime": {
     "end_time": "2023-07-16T14:20:04.442251+00:00",
     "start_time": "2023-07-16T14:20:04.278839+00:00"
    },
    "id": "3d2fad4f-5beb-441c-8275-a26b3ca5af21",
    "jupyter": {
     "outputs_hidden": false,
     "source_hidden": false
    },
    "noteable": {
     "cell_type": "code"
    }
   },
   "outputs": [],
   "source": [
    "print(df['delivery_date'].min(), '\\n', df['delivery_date'].max())"
   ]
  },
  {
   "cell_type": "markdown",
   "id": "b3d66c28-263f-4740-bb26-c47bed6d861e",
   "metadata": {
    "id": "b3d66c28-263f-4740-bb26-c47bed6d861e",
    "noteable": {
     "cell_type": "markdown"
    }
   },
   "source": [
    "There seems to be some inconsistency in the data... The upper ceiling is 3031 which can't be the year for item date.... We will coerce and make it NaT and then probably will see null count and see what to do with it..."
   ]
  },
  {
   "cell_type": "code",
   "execution_count": null,
   "id": "94c76c9c-8c18-47db-8c9a-ffb16a58c1f7",
   "metadata": {
    "ExecuteTime": {
     "end_time": "2023-07-16T14:20:04.763983+00:00",
     "start_time": "2023-07-16T14:20:04.453657+00:00"
    },
    "id": "94c76c9c-8c18-47db-8c9a-ffb16a58c1f7",
    "jupyter": {
     "outputs_hidden": false,
     "source_hidden": false
    },
    "noteable": {
     "cell_type": "code"
    }
   },
   "outputs": [],
   "source": [
    "df['delivery_date'] = pd.to_datetime(df['delivery_date'], format='%Y%m%d', errors='coerce')"
   ]
  },
  {
   "cell_type": "code",
   "execution_count": null,
   "id": "8cdd8412",
   "metadata": {
    "id": "8cdd8412"
   },
   "outputs": [],
   "source": [
    "print(df['delivery_date'].min(), '\\n', df['delivery_date'].max())"
   ]
  },
  {
   "cell_type": "markdown",
   "id": "fd90dc1a",
   "metadata": {
    "id": "fd90dc1a"
   },
   "source": [
    "There seems to be mismatch between item date and delivery date... While delivery date min value is somewhere in 2019, item date min value starts from 2020 only.... Let's explore this further later on..."
   ]
  },
  {
   "cell_type": "code",
   "execution_count": null,
   "id": "9c09dcc8",
   "metadata": {
    "id": "9c09dcc8",
    "scrolled": true
   },
   "outputs": [],
   "source": [
    "item_year_counts = df['item_date'].dt.year.value_counts().sort_index()\n",
    "print(\"\\nItem Date Value Counts by Year:\")\n",
    "print(item_year_counts)\n",
    "\n",
    "delivery_year_counts = df['delivery_date'].dt.year.value_counts().sort_index()\n",
    "print(\"Delivery Date Value Counts by Year:\")\n",
    "print(delivery_year_counts)"
   ]
  },
  {
   "cell_type": "code",
   "execution_count": null,
   "id": "90ae695e",
   "metadata": {
    "id": "90ae695e"
   },
   "outputs": [],
   "source": [
    "before_date = '2020-07-02 00:00:00'\n",
    "df_before = df[df['delivery_date'] < before_date]\n",
    "df_after = df[df['delivery_date'] >= before_date]\n",
    "\n",
    "before_counts = df_before['delivery_date'].dt.year.value_counts().sort_index()\n",
    "after_counts = df_after['delivery_date'].dt.year.value_counts().sort_index()\n",
    "\n",
    "print(\"Delivery Date Value Counts Before {}: \\n{}\".format(before_date, before_counts))\n",
    "print(\"\\nDelivery Date Value Counts After {}: \\n{}\".format(before_date, after_counts))"
   ]
  },
  {
   "cell_type": "markdown",
   "id": "a70bfbb3",
   "metadata": {
    "id": "a70bfbb3"
   },
   "source": [
    "Let's see unique values to know whether there are anymore inconsistency in data..."
   ]
  },
  {
   "cell_type": "code",
   "execution_count": null,
   "id": "ccdf4a80-e0a5-4998-ae30-e5f39a46fd22",
   "metadata": {
    "ExecuteTime": {
     "end_time": "2023-07-16T14:20:04.934009+00:00",
     "start_time": "2023-07-16T14:20:04.772726+00:00"
    },
    "datalink": {
     "0e4f2c6e-442e-46fe-a3ba-e0b5d303d4ca": {
      "applied_filters": [],
      "dataframe_info": {
       "default_index_used": true,
       "orig_num_cols": 13,
       "orig_num_rows": 181673,
       "orig_size_bytes": 20347376,
       "truncated_num_cols": 13,
       "truncated_num_rows": 50000,
       "truncated_size_bytes": 5600000,
       "truncated_string_columns": []
      },
      "display_id": "0e4f2c6e-442e-46fe-a3ba-e0b5d303d4ca",
      "dx_settings": {
       "ALLOW_NOTEABLE_ATTRS": true,
       "COLUMN_SAMPLING_METHOD": "outer",
       "DB_LOCATION": ":memory:",
       "DEV_MODE": false,
       "DISPLAY_MAX_COLUMNS": 100,
       "DISPLAY_MAX_ROWS": 50000,
       "DISPLAY_MODE": "simple",
       "ENABLE_ASSIGNMENT": true,
       "ENABLE_DATALINK": true,
       "FLATTEN_COLUMN_VALUES": true,
       "FLATTEN_INDEX_VALUES": false,
       "GENERATE_DEX_METADATA": false,
       "HTML_TABLE_SCHEMA": false,
       "LOG_LEVEL": 30,
       "MAX_RENDER_SIZE_BYTES": 104857600,
       "MAX_STRING_LENGTH": 250,
       "NUM_PAST_SAMPLES_TRACKED": 3,
       "RANDOM_STATE": 12648430,
       "RESET_INDEX_VALUES": false,
       "ROW_SAMPLING_METHOD": "random",
       "SAMPLING_FACTOR": 0.1,
       "SAMPLING_METHOD": "random",
       "STRINGIFY_COLUMN_VALUES": true,
       "STRINGIFY_INDEX_VALUES": false
      },
      "sample_history": [],
      "sampling_time": "2023-07-16T12:35:05.010317",
      "user_variable_name": "df",
      "variable_name": "df"
     }
    },
    "id": "ccdf4a80-e0a5-4998-ae30-e5f39a46fd22",
    "jupyter": {
     "outputs_hidden": false,
     "source_hidden": false
    },
    "noteable": {
     "cell_type": "code"
    }
   },
   "outputs": [],
   "source": [
    "def unique_values(df, exclude_cols=[]):\n",
    "    for col in df.columns:\n",
    "        if col in exclude_cols:\n",
    "            continue\n",
    "        unique_vals = df[col].nunique()\n",
    "        print(f\"{col}: {unique_vals} unique values\")\n",
    "        if unique_vals < 35:\n",
    "            print()\n",
    "            print(df[col].unique())\n",
    "        print(\"\\n\", 55 * \"_\", \"\\n\")"
   ]
  },
  {
   "cell_type": "code",
   "execution_count": null,
   "id": "bc6822c5-4032-4bf7-aa08-21fb59d7b58f",
   "metadata": {
    "ExecuteTime": {
     "end_time": "2023-07-16T14:20:05.289642+00:00",
     "start_time": "2023-07-16T14:20:04.941953+00:00"
    },
    "id": "bc6822c5-4032-4bf7-aa08-21fb59d7b58f",
    "jupyter": {
     "outputs_hidden": false,
     "source_hidden": false
    },
    "noteable": {
     "cell_type": "code"
    }
   },
   "outputs": [],
   "source": [
    "unique_values(df)"
   ]
  },
  {
   "cell_type": "markdown",
   "id": "b2cc3869",
   "metadata": {
    "id": "b2cc3869"
   },
   "source": [
    "`customer_id`, `country_code`, `application`, `material_ref`, `product_ref` columns has customer ids, country codes, where copper is goig to be used, some unique values representing that specific product and material the product has been made up of all in float dtype while they should actually be considered categorical variables... We would be changing them to object dtype and then would do encoding later on when we handle categorical data...\n",
    "\n",
    "In `status` column we would just need `won` or `lost`... So, we would drop all other instances...\n",
    "\n",
    "`item_type` column has 7 unique values and it would be encoded later on while handling cat vars...\n",
    "\n",
    "Other than these nothing looks to be problematic as of now..."
   ]
  },
  {
   "cell_type": "markdown",
   "id": "9f649557",
   "metadata": {
    "id": "9f649557"
   },
   "source": [
    "Let's first change dtype of those 5 columns"
   ]
  },
  {
   "cell_type": "code",
   "execution_count": null,
   "id": "e7c13c6e",
   "metadata": {
    "id": "e7c13c6e"
   },
   "outputs": [],
   "source": [
    "columns_to_convert = ['customer_id', 'country_code', 'application', 'material_ref', 'product_ref']\n",
    "\n",
    "for column in columns_to_convert:\n",
    "    df[column] = df[column].astype(str)\n",
    "    df[column] = df[column].replace('\\.0', '', regex=True)"
   ]
  },
  {
   "cell_type": "markdown",
   "id": "7a7ae758",
   "metadata": {
    "id": "7a7ae758"
   },
   "source": [
    "Let's trim the dataset and have just those instances which has either `won` or `lost` in status column and then let's rename the column as `leads`..."
   ]
  },
  {
   "cell_type": "code",
   "execution_count": null,
   "id": "56d012cd-69c1-4f06-ab36-8fbcd0591115",
   "metadata": {
    "ExecuteTime": {
     "end_time": "2023-07-16T14:21:18.186254+00:00",
     "start_time": "2023-07-16T14:21:09.810318+00:00"
    },
    "datalink": {
     "4af8e30b-227b-4374-96cf-e2d6738df49c": {
      "applied_filters": [],
      "dataframe_info": {
       "default_index_used": false,
       "orig_num_cols": 1,
       "orig_num_rows": 9,
       "orig_size_bytes": 144,
       "truncated_num_cols": 1,
       "truncated_num_rows": 9,
       "truncated_size_bytes": 144,
       "truncated_string_columns": []
      },
      "display_id": "4af8e30b-227b-4374-96cf-e2d6738df49c",
      "dx_settings": {
       "ALLOW_NOTEABLE_ATTRS": true,
       "COLUMN_SAMPLING_METHOD": "outer",
       "DB_LOCATION": ":memory:",
       "DEV_MODE": false,
       "DISPLAY_MAX_COLUMNS": 100,
       "DISPLAY_MAX_ROWS": 50000,
       "DISPLAY_MODE": "simple",
       "ENABLE_ASSIGNMENT": true,
       "ENABLE_DATALINK": true,
       "FLATTEN_COLUMN_VALUES": true,
       "FLATTEN_INDEX_VALUES": false,
       "GENERATE_DEX_METADATA": false,
       "HTML_TABLE_SCHEMA": false,
       "LOG_LEVEL": 30,
       "MAX_RENDER_SIZE_BYTES": 104857600,
       "MAX_STRING_LENGTH": 250,
       "NUM_PAST_SAMPLES_TRACKED": 3,
       "RANDOM_STATE": 12648430,
       "RESET_INDEX_VALUES": false,
       "ROW_SAMPLING_METHOD": "random",
       "SAMPLING_FACTOR": 0.1,
       "SAMPLING_METHOD": "random",
       "STRINGIFY_COLUMN_VALUES": true,
       "STRINGIFY_INDEX_VALUES": false
      },
      "sample_history": [],
      "sampling_time": "2023-07-16T14:21:18.029814",
      "user_variable_name": null,
      "variable_name": "unk_dataframe_f2ff804889604205a349b58b2812d1ac"
     }
    },
    "id": "56d012cd-69c1-4f06-ab36-8fbcd0591115",
    "jupyter": {
     "outputs_hidden": false,
     "source_hidden": false
    },
    "noteable": {
     "cell_type": "code"
    }
   },
   "outputs": [],
   "source": [
    "df['status'].value_counts()"
   ]
  },
  {
   "cell_type": "code",
   "execution_count": null,
   "id": "0694548c-631b-4d32-8f05-30d055783f61",
   "metadata": {
    "id": "0694548c-631b-4d32-8f05-30d055783f61",
    "jupyter": {
     "outputs_hidden": false,
     "source_hidden": false
    },
    "noteable": {
     "cell_type": "code"
    }
   },
   "outputs": [],
   "source": [
    "df = df[df['status'].isin(['Won', 'Lost'])]\n",
    "df.rename({'status': 'leads'}, axis=1, inplace=True)"
   ]
  },
  {
   "cell_type": "code",
   "execution_count": null,
   "id": "7534e6a1-5e47-4fbe-b963-39402008559e",
   "metadata": {
    "id": "7534e6a1-5e47-4fbe-b963-39402008559e",
    "jupyter": {
     "outputs_hidden": false,
     "source_hidden": false
    },
    "noteable": {
     "cell_type": "code"
    }
   },
   "outputs": [],
   "source": [
    "df['leads'].value_counts()"
   ]
  },
  {
   "cell_type": "markdown",
   "id": "21f6bf74",
   "metadata": {
    "id": "21f6bf74"
   },
   "source": [
    "Has imbalance... Let's handle it later while building the model..."
   ]
  },
  {
   "cell_type": "code",
   "execution_count": null,
   "id": "1bf82a87-7164-429f-95d1-fe696b95d93d",
   "metadata": {
    "id": "1bf82a87-7164-429f-95d1-fe696b95d93d",
    "jupyter": {
     "outputs_hidden": false,
     "source_hidden": false
    },
    "noteable": {
     "cell_type": "code"
    }
   },
   "outputs": [],
   "source": [
    "df.info()"
   ]
  },
  {
   "cell_type": "markdown",
   "id": "7bcd5ebc",
   "metadata": {
    "id": "7bcd5ebc"
   },
   "source": [
    "Datatypes and some basic inconsistencies has got addressed... Lets, handle null values and outliers now..."
   ]
  },
  {
   "cell_type": "code",
   "execution_count": null,
   "id": "029b257c-8e42-44d1-93a7-507c4b56169b",
   "metadata": {
    "id": "029b257c-8e42-44d1-93a7-507c4b56169b",
    "jupyter": {
     "outputs_hidden": false,
     "source_hidden": false
    },
    "noteable": {
     "cell_type": "code"
    }
   },
   "outputs": [],
   "source": [
    "df.isnull().sum()"
   ]
  },
  {
   "cell_type": "markdown",
   "id": "0cdc14fc",
   "metadata": {
    "id": "0cdc14fc",
    "jupyter": {
     "outputs_hidden": false,
     "source_hidden": false
    },
    "noteable": {
     "cell_type": "code"
    }
   },
   "source": [
    "We could have considered some kinda imputation if the proportion of null value is large. But, as they are of negligible amount and as the dataset is pretty large, let's drop null values here..."
   ]
  },
  {
   "cell_type": "code",
   "execution_count": null,
   "id": "4e66d9c2-30e8-4cad-9534-c0a474e73065",
   "metadata": {
    "id": "4e66d9c2-30e8-4cad-9534-c0a474e73065",
    "jupyter": {
     "outputs_hidden": false,
     "source_hidden": false
    },
    "noteable": {
     "cell_type": "code"
    }
   },
   "outputs": [],
   "source": [
    "df.dropna(inplace=True)"
   ]
  },
  {
   "cell_type": "markdown",
   "id": "7ac21c59",
   "metadata": {
    "id": "7ac21c59",
    "jupyter": {
     "outputs_hidden": false,
     "source_hidden": false
    },
    "noteable": {
     "cell_type": "code"
    }
   },
   "source": [
    "Now that the missing values are handled, let's check for outliers, distribution and range of continuous variables"
   ]
  },
  {
   "cell_type": "code",
   "execution_count": null,
   "id": "abde683b-b397-4ba6-96a4-cf0a23f2110d",
   "metadata": {
    "id": "abde683b-b397-4ba6-96a4-cf0a23f2110d",
    "jupyter": {
     "outputs_hidden": false,
     "source_hidden": false
    },
    "noteable": {
     "cell_type": "code"
    }
   },
   "outputs": [],
   "source": [
    "df.nunique()"
   ]
  },
  {
   "cell_type": "markdown",
   "id": "6d4ea9ad",
   "metadata": {
    "id": "6d4ea9ad"
   },
   "source": [
    "Based on data we have and after considering the unique values and dtype of columns.... We can categorize our columns like below...\n",
    "\n",
    "Categorical Nominal Variables - `customer_id`, `country_code`, `leads`, `item_type`, `application`, `material_ref`, `product_ref`\n",
    "\n",
    "Continuous Variables - `quantity_tons`, `thickness`, `width`, `selling_price`\n",
    "\n",
    "Temporal Variables - `item_date`, `delivery_date`"
   ]
  },
  {
   "cell_type": "markdown",
   "id": "14a68185",
   "metadata": {
    "id": "14a68185"
   },
   "source": [
    "### Handling Temporal Variables"
   ]
  },
  {
   "cell_type": "markdown",
   "id": "b7fb9be5",
   "metadata": {
    "id": "b7fb9be5"
   },
   "source": [
    "We have noted some inconsistency between item date and delivery date... Let's explore it further..."
   ]
  },
  {
   "cell_type": "code",
   "execution_count": null,
   "id": "6ddfc929",
   "metadata": {
    "id": "6ddfc929",
    "scrolled": true
   },
   "outputs": [],
   "source": [
    "item_year_counts = df['item_date'].dt.year.value_counts().sort_index()\n",
    "print(\"\\nItem Date Value Counts by Year:\")\n",
    "print(item_year_counts)\n",
    "\n",
    "delivery_year_counts = df['delivery_date'].dt.year.value_counts().sort_index()\n",
    "print(\"Delivery Date Value Counts by Year:\")\n",
    "print(delivery_year_counts)"
   ]
  },
  {
   "cell_type": "markdown",
   "id": "40ffa3bc",
   "metadata": {
    "id": "40ffa3bc"
   },
   "source": [
    "As we can clearly see delivery dates can't be before item date (provided item date is something like auction date)... So, there could be either of the following two possible reasons behind this inconsistency...\n",
    "\n",
    "1. Data entry error if 3 entries in `2019` alone has got entered wrongly and nothing before the min `item_date` in `2020` or negligible instances before  the min `item_date` in `2020`...\n",
    "\n",
    "2. `item_date` could be something totally unrelated to `delivery_date` if significant proportion of data in `2020` falls before the min `item_date` in `2020`... In such case we would be dropping both dates as they won't be useful to build either of regression or classification model standalone...\n",
    "\n",
    "Now, let's dig deep to know whether there are significant no. of data points in `delivery_date` falling behind  the min `item_date` in `2020`..."
   ]
  },
  {
   "cell_type": "code",
   "execution_count": null,
   "id": "e4769f06",
   "metadata": {
    "id": "e4769f06"
   },
   "outputs": [],
   "source": [
    "before_date = '2020-07-02 00:00:00'  #  the min \"item_date\"...\n",
    "\n",
    "df_before = df[df['delivery_date'] < before_date]\n",
    "df_after = df[df['delivery_date'] >= before_date]\n",
    "\n",
    "before_counts = df_before['delivery_date'].dt.year.value_counts().sort_index()\n",
    "after_counts = df_after['delivery_date'].dt.year.value_counts().sort_index()\n",
    "\n",
    "print(\"Delivery Date Value Counts Before {}: \\n{}\".format(before_date, before_counts))\n",
    "print(\"\\nDelivery Date Value Counts After {}: \\n{}\".format(before_date, after_counts))"
   ]
  },
  {
   "cell_type": "code",
   "execution_count": null,
   "id": "9dcf8703-abdd-4f25-b7a3-64e7321919f9",
   "metadata": {
    "id": "9dcf8703-abdd-4f25-b7a3-64e7321919f9",
    "jupyter": {
     "outputs_hidden": false,
     "source_hidden": false
    },
    "noteable": {
     "cell_type": "code"
    }
   },
   "outputs": [],
   "source": [
    "df.groupby('delivery_date')['selling_price'].median().plot()\n",
    "plt.xlabel('Date')\n",
    "plt.ylabel('Median Selling Price')\n",
    "plt.title(\"Selling Price vs Delivery Date\")"
   ]
  },
  {
   "cell_type": "markdown",
   "id": "150356b1",
   "metadata": {
    "id": "150356b1"
   },
   "source": [
    "This holds no value as it is not representing any proportional insight.... We would drop this..."
   ]
  },
  {
   "cell_type": "code",
   "execution_count": null,
   "id": "cedc8caa-6eb6-40af-8849-997c18a715e4",
   "metadata": {
    "id": "cedc8caa-6eb6-40af-8849-997c18a715e4",
    "jupyter": {
     "outputs_hidden": false,
     "source_hidden": false
    },
    "noteable": {
     "cell_type": "code"
    }
   },
   "outputs": [],
   "source": [
    "df.groupby('item_date')['selling_price'].median().plot()\n",
    "plt.xlabel('Date')\n",
    "plt.ylabel('Median Selling Price')\n",
    "plt.title(\"Selling Price vs Item Date\")"
   ]
  },
  {
   "cell_type": "markdown",
   "id": "166f9fa4",
   "metadata": {
    "id": "166f9fa4"
   },
   "source": [
    "This as well doesn't hold much value as it is so instable in delivering any insight as time progresses.... No steady rise or fall can be observed over here and we can't observe any seasonal pattern as well with the limited data(Jul 2020 to Apr 2021) that we have... So, it would be ideal if we drop both these date columns and move forward with other features..."
   ]
  },
  {
   "cell_type": "code",
   "execution_count": null,
   "id": "159404ef",
   "metadata": {
    "id": "159404ef"
   },
   "outputs": [],
   "source": [
    "df.drop(['item_date', 'delivery_date'], axis=1, inplace=True)"
   ]
  },
  {
   "cell_type": "markdown",
   "id": "2a647b55",
   "metadata": {
    "id": "2a647b55"
   },
   "source": [
    "### Splitting Data into Categorical and Continuous"
   ]
  },
  {
   "cell_type": "code",
   "execution_count": null,
   "id": "dc0019ed",
   "metadata": {
    "id": "dc0019ed",
    "jupyter": {
     "outputs_hidden": false,
     "source_hidden": false
    },
    "noteable": {
     "cell_type": "code"
    }
   },
   "outputs": [],
   "source": [
    "categorical_vars = []\n",
    "continuous_vars = []\n",
    "\n",
    "for col in df.columns:\n",
    "\n",
    "    unique_values = df[col].nunique()\n",
    "\n",
    "    if df[col].dtype == 'object':\n",
    "        categorical_vars.append(col)\n",
    "    else:\n",
    "        continuous_vars.append(col)\n",
    "\n",
    "print(\"Categorical Variables:\\n\")\n",
    "print(categorical_vars)\n",
    "print(\"\\n\", 100 * \"_\", \"\\n\")\n",
    "print(\"Continuous Variables:\\n\")\n",
    "print(continuous_vars)"
   ]
  },
  {
   "cell_type": "markdown",
   "id": "953d3b3a",
   "metadata": {
    "id": "953d3b3a"
   },
   "source": [
    "### Handling Continuous Variables"
   ]
  },
  {
   "cell_type": "code",
   "execution_count": null,
   "id": "a9938384",
   "metadata": {
    "id": "a9938384"
   },
   "outputs": [],
   "source": [
    "num_plots = len(continuous_vars)\n",
    "\n",
    "num_rows = (num_plots + 1) // 2  # Number of rows for subplots\n",
    "\n",
    "fig, axes = plt.subplots(num_rows, 2, figsize=(12, 5 * num_rows))\n",
    "\n",
    "for i, feature in enumerate(continuous_vars):\n",
    "\n",
    "    data = df.copy()\n",
    "\n",
    "    row = i // 2\n",
    "    col = i % 2\n",
    "    ax = axes[row, col]\n",
    "\n",
    "    sns.histplot(data[feature], ax=ax, bins=25, kde=True, color='darkblue')\n",
    "    ax.set_xlabel(feature.replace('_', ' ').title())\n",
    "    ax.set_ylabel(\"Frequency\")\n",
    "\n",
    "# Remove any empty subplots\n",
    "if num_plots < num_rows * 2:\n",
    "    fig.delaxes(axes[num_rows-1, 1])\n",
    "\n",
    "plt.tight_layout()\n",
    "plt.show()"
   ]
  },
  {
   "cell_type": "markdown",
   "id": "500c6e8f",
   "metadata": {
    "id": "500c6e8f"
   },
   "source": [
    "There seems to be outliers in 3 of the four columns making them right skewed distributions... Let's see how many outliers are there and then decide what we can do about them..."
   ]
  },
  {
   "cell_type": "code",
   "execution_count": null,
   "id": "7a7973c9",
   "metadata": {
    "id": "7a7973c9"
   },
   "outputs": [],
   "source": [
    "num_plots = len(continuous_vars)\n",
    "\n",
    "num_rows = (num_plots + 1) // 2  # Number of rows for subplots\n",
    "\n",
    "fig, axes = plt.subplots(num_rows, 2, figsize=(12, 5 * num_rows))\n",
    "\n",
    "for i, feature in enumerate(continuous_vars):\n",
    "\n",
    "    data = df.copy()\n",
    "\n",
    "    row = i // 2\n",
    "    col = i % 2\n",
    "    ax = axes[row, col]\n",
    "\n",
    "    sns.boxplot(data[feature], ax=ax)\n",
    "    ax.set_xlabel(feature.replace('_', ' ').title())\n",
    "    ax.set_ylabel(\"Frequency\")\n",
    "\n",
    "# Remove any empty subplots\n",
    "if num_plots < num_rows * 2:\n",
    "    fig.delaxes(axes[num_rows-1, 1])\n",
    "\n",
    "plt.tight_layout()\n",
    "plt.show()"
   ]
  },
  {
   "cell_type": "code",
   "execution_count": null,
   "id": "8236c7b7",
   "metadata": {
    "id": "8236c7b7"
   },
   "outputs": [],
   "source": [
    "def count_outliers(df):\n",
    "    outliers = {}\n",
    "    for col in df.select_dtypes(include='number').columns:\n",
    "        q1 = df[col].quantile(0.25)\n",
    "        q3 = df[col].quantile(0.75)\n",
    "        iqr = q3 - q1\n",
    "        upper_bound = q3 + (1.5 * iqr)\n",
    "        lower_bound = q1 - (1.5 * iqr)\n",
    "        num_outliers = len(df[(df[col] > upper_bound) | (df[col] < lower_bound)])\n",
    "        percent_outliers = (num_outliers / len(df)) * 100\n",
    "        outliers[col] = {'count': num_outliers, 'percent': percent_outliers}\n",
    "    return outliers"
   ]
  },
  {
   "cell_type": "code",
   "execution_count": null,
   "id": "b59f1b90",
   "metadata": {
    "id": "b59f1b90"
   },
   "outputs": [],
   "source": [
    "outliers = count_outliers(df)\n",
    "for col, info in outliers.items():\n",
    "    print(f\"Column: {col}\")\n",
    "    print(f\"Count of outliers: {info['count']}\")\n",
    "    print(f\"Percentage of outliers: {round(info['percent'], 2)}%\")\n",
    "    print()"
   ]
  },
  {
   "cell_type": "code",
   "execution_count": null,
   "id": "0a4acead",
   "metadata": {
    "id": "0a4acead"
   },
   "outputs": [],
   "source": [
    "continuous_vars"
   ]
  },
  {
   "cell_type": "code",
   "execution_count": null,
   "id": "921b9a69",
   "metadata": {
    "id": "921b9a69"
   },
   "outputs": [],
   "source": [
    "data = df.copy()\n",
    "\n",
    "data['quantity_tons'] = data['quantity_tons'].clip(upper=data['quantity_tons'].quantile(0.88), lower=data['quantity_tons'].quantile(0.01))\n",
    "data['thickness'] = data['thickness'].clip(upper=data['thickness'].quantile(0.92))\n",
    "data['width'] = data['width'].clip(upper=data['width'].quantile(0.94), lower=data['width'].quantile(0.02))\n",
    "data['selling_price'] = data['selling_price'].clip(upper=data['selling_price'].quantile(0.99), lower=data['selling_price'].quantile(0.01))"
   ]
  },
  {
   "cell_type": "code",
   "execution_count": null,
   "id": "6311721e",
   "metadata": {
    "id": "6311721e"
   },
   "outputs": [],
   "source": [
    "outliers = count_outliers(data)\n",
    "for col, info in outliers.items():\n",
    "    print(f\"Column: {col}\")\n",
    "    print(f\"Count of outliers: {info['count']}\")\n",
    "    print(f\"Percentage of outliers: {round(info['percent'], 2)}%\")\n",
    "    print()"
   ]
  },
  {
   "cell_type": "code",
   "execution_count": null,
   "id": "06ff00ee",
   "metadata": {
    "id": "06ff00ee",
    "scrolled": false
   },
   "outputs": [],
   "source": [
    "num_plots = len(continuous_vars)\n",
    "\n",
    "num_rows = (num_plots + 1) // 2  # Number of rows for subplots\n",
    "\n",
    "fig, axes = plt.subplots(num_rows, 2, figsize=(12, 5 * num_rows))\n",
    "\n",
    "for i, feature in enumerate(continuous_vars):\n",
    "\n",
    "    row = i // 2\n",
    "    col = i % 2\n",
    "    ax = axes[row, col]\n",
    "\n",
    "    sns.boxplot(data[feature], ax=ax)\n",
    "    ax.set_xlabel(feature.replace('_', ' ').title())\n",
    "    ax.set_ylabel(\"Frequency\")\n",
    "\n",
    "# Remove any empty subplots\n",
    "if num_plots < num_rows * 2:\n",
    "    fig.delaxes(axes[num_rows-1, 1])\n",
    "\n",
    "plt.tight_layout()\n",
    "plt.show()"
   ]
  },
  {
   "cell_type": "markdown",
   "id": "52764af5",
   "metadata": {
    "id": "52764af5"
   },
   "source": [
    "Let's see range in which the data is distributed across all continuous variables and decide whether we have to scale it or not..."
   ]
  },
  {
   "cell_type": "code",
   "execution_count": null,
   "id": "70b9543b",
   "metadata": {
    "id": "70b9543b"
   },
   "outputs": [],
   "source": [
    "def get_column_ranges(df):\n",
    "    ranges = {}\n",
    "    for column in continuous_vars:\n",
    "        column_min = df[column].min()\n",
    "        column_max = df[column].max()\n",
    "        column_range = column_max - column_min\n",
    "        ranges[column] = [column_min, column_max, column_range]\n",
    "    return ranges"
   ]
  },
  {
   "cell_type": "code",
   "execution_count": null,
   "id": "c770d429",
   "metadata": {
    "id": "c770d429"
   },
   "outputs": [],
   "source": [
    "ranges = get_column_ranges(data)\n",
    "\n",
    "for column, values in ranges.items():\n",
    "    print(f\"Column: {column}\")\n",
    "    print(f\"Minimum: {values[0]}, Maximum: {values[1]}, Range: {values[2]}\")\n",
    "    print()"
   ]
  },
  {
   "cell_type": "markdown",
   "id": "247d8b9b",
   "metadata": {
    "id": "247d8b9b"
   },
   "source": [
    "As we can see, the min, max values and range across columns are varying a lot... So, we would do scaling later on inorder to bring all of them to a same scale... Now, let's move on towards categorical variables..."
   ]
  },
  {
   "cell_type": "markdown",
   "id": "5ad63d50",
   "metadata": {
    "id": "5ad63d50"
   },
   "source": [
    "### Handling Categorical Variables"
   ]
  },
  {
   "cell_type": "code",
   "execution_count": null,
   "id": "ceb4db19",
   "metadata": {
    "id": "ceb4db19"
   },
   "outputs": [],
   "source": [
    "categorical_vars"
   ]
  },
  {
   "cell_type": "markdown",
   "id": "6a60d1b1",
   "metadata": {
    "id": "6a60d1b1"
   },
   "source": [
    "As we have already noticed, all of these are nominal columns..."
   ]
  },
  {
   "cell_type": "code",
   "execution_count": null,
   "id": "76659124",
   "metadata": {
    "id": "76659124"
   },
   "outputs": [],
   "source": [
    "def unique_values(df, exclude_cols=[]):\n",
    "    for col in df.columns:\n",
    "        if col in exclude_cols:\n",
    "            continue\n",
    "        unique_vals = df[col].nunique()\n",
    "        print(f\"{col}: {unique_vals} unique values\")\n",
    "        if unique_vals < 35:\n",
    "            print()\n",
    "            print(df[col].unique())\n",
    "        print(\"\\n\", 55 * \"_\", \"\\n\")\n",
    "\n",
    "unique_values(data, exclude_cols=continuous_vars)"
   ]
  },
  {
   "cell_type": "markdown",
   "id": "8363a64d",
   "metadata": {
    "id": "8363a64d"
   },
   "source": [
    "We can see that few columns where there are `NaN` values under the hood of `nan`... Also, we understood from the project assigner that `material_ref` column has few values starting with `00000` and those as well should be treated as null values... Let's handle these two first..."
   ]
  },
  {
   "cell_type": "code",
   "execution_count": null,
   "id": "4f9b4324",
   "metadata": {
    "id": "4f9b4324"
   },
   "outputs": [],
   "source": [
    "data = data.replace('nan', np.nan)"
   ]
  },
  {
   "cell_type": "code",
   "execution_count": null,
   "id": "0d5f4e6f",
   "metadata": {
    "id": "0d5f4e6f"
   },
   "outputs": [],
   "source": [
    "data.isnull().sum()"
   ]
  },
  {
   "cell_type": "code",
   "execution_count": null,
   "id": "9c0aab5c",
   "metadata": {
    "id": "9c0aab5c"
   },
   "outputs": [],
   "source": [
    "count = (data['material_ref'].str.startswith('00000')).sum()\n",
    "\n",
    "print(f\"Number of values starting with '00000': {count}\")"
   ]
  },
  {
   "cell_type": "code",
   "execution_count": null,
   "id": "d76fd855",
   "metadata": {
    "id": "d76fd855"
   },
   "outputs": [],
   "source": [
    "null_mat_ref = data.isnull().sum()['material_ref'] + count\n",
    "null_mat_ref"
   ]
  },
  {
   "cell_type": "code",
   "execution_count": null,
   "id": "fc0e4c55",
   "metadata": {
    "id": "fc0e4c55"
   },
   "outputs": [],
   "source": [
    "percent_null_mat_ref = (null_mat_ref/len(data)) * 100\n",
    "percent_null_mat_ref"
   ]
  },
  {
   "cell_type": "markdown",
   "id": "07c876f3",
   "metadata": {
    "id": "07c876f3"
   },
   "source": [
    "As we can see, more than half of the data is filled with null values... We could have considered imputing values based on some methodology  if the proportion of null values is smaller... But, we can't impute majority of data using minor portion of available data which would probably lead to misleading output... So, it would be ideal to drop this column altogether...\n",
    "\n",
    "**Note:** In a real world scenario, we should probably consult with client and decide on it whether we can proceed with imputation or dropping..."
   ]
  },
  {
   "cell_type": "code",
   "execution_count": null,
   "id": "d157cf34",
   "metadata": {
    "id": "d157cf34"
   },
   "outputs": [],
   "source": [
    "data.drop('material_ref', axis=1, inplace=True)\n",
    "categorical_vars.remove('material_ref')\n",
    "categorical_vars"
   ]
  },
  {
   "cell_type": "markdown",
   "id": "5f5270e4",
   "metadata": {
    "id": "5f5270e4"
   },
   "source": [
    "All other columns, let's use mode to impute values as they are of negligible proportion..."
   ]
  },
  {
   "cell_type": "code",
   "execution_count": null,
   "id": "9f62207e",
   "metadata": {
    "id": "9f62207e"
   },
   "outputs": [],
   "source": [
    "data.fillna(data.mode().iloc[0], inplace=True)"
   ]
  },
  {
   "cell_type": "code",
   "execution_count": null,
   "id": "239e29e8",
   "metadata": {
    "id": "239e29e8"
   },
   "outputs": [],
   "source": [
    "data.isnull().sum()"
   ]
  },
  {
   "cell_type": "markdown",
   "id": "daddac07",
   "metadata": {
    "id": "daddac07"
   },
   "source": [
    "Having handled null values successfully, let's encode cat vars..."
   ]
  },
  {
   "cell_type": "code",
   "execution_count": null,
   "id": "6b63509e",
   "metadata": {
    "id": "6b63509e"
   },
   "outputs": [],
   "source": [
    "unique_values(data, exclude_cols=continuous_vars)"
   ]
  },
  {
   "cell_type": "markdown",
   "id": "c8964084",
   "metadata": {
    "id": "c8964084"
   },
   "source": [
    "Let's first check correlation of categorical variables against the regression target variable and classification target variable..."
   ]
  },
  {
   "cell_type": "code",
   "execution_count": null,
   "id": "95ee037b",
   "metadata": {
    "id": "95ee037b"
   },
   "outputs": [],
   "source": [
    "def calculate_correlation(df, categorical_vars, target_var):\n",
    "    correlations = []\n",
    "    for var in categorical_vars:\n",
    "        crosstab = pd.crosstab(df[var], df[target_var])\n",
    "        chi2, _, _, _ = chi2_contingency(crosstab)\n",
    "        n = crosstab.sum().sum()\n",
    "        phi = np.sqrt(chi2 / n)\n",
    "        correlations.append((var, phi))\n",
    "\n",
    "    return correlations\n",
    "\n",
    "def plot_correlation(correlations, target_var):\n",
    "    df_corr = pd.DataFrame(correlations, columns=['Variable', 'Correlation'])\n",
    "    df_corr.sort_values(by='Correlation', inplace=True)\n",
    "\n",
    "    fig, ax = plt.subplots(figsize=(8, 6))\n",
    "    ax.barh(df_corr['Variable'], df_corr['Correlation'])\n",
    "    ax.set_xlabel('Correlation')\n",
    "    ax.set_ylabel('Variable')\n",
    "    ax.set_title(f'Correlation between Categorical Variables and {target_var.title()}')\n",
    "    plt.show()"
   ]
  },
  {
   "cell_type": "code",
   "execution_count": null,
   "id": "a883b7ac",
   "metadata": {
    "id": "a883b7ac"
   },
   "outputs": [],
   "source": [
    "temp_list = [var for var in categorical_vars if var != 'leads']\n",
    "\n",
    "correlations = calculate_correlation(data, temp_list, 'leads')\n",
    "plot_correlation(correlations, 'leads')"
   ]
  },
  {
   "cell_type": "markdown",
   "id": "2a6d3fe6",
   "metadata": {
    "id": "2a6d3fe6"
   },
   "source": [
    "`leads` - Just `won` or `lost`. So, one hot encoding would be apt thing to do...\n",
    "\n",
    "Now let's compare no. of unique values and the correlation with target column to decide which encoding technique we would be using for each of the categorical variables...\n",
    "\n",
    "As we can see, apart from customer_id nothing else has much correlation with target... So, considering the high correlation and high cardinality, we would do `target encoding` over `customer_id` column...\n",
    "\n",
    "All other columns we would choose type of encoding purely based on intuition, logical reasoning and the cardinality (no. of unique values)...\n",
    "\n",
    "One Hot Encoding Columns:\n",
    "\n",
    "Too many features encoded with target encoding would probably lead to overfitting... So, we would try to reduce the no. of columns getting target encoded... Considering this and based on few other intuition, we would go with OHE for `country_code` and `product_ref` columns apart from `leads`\n",
    "\n",
    "Target encoding columns:\n",
    "\n",
    "Let's use target_encoding over other two columns along with `customer_id`"
   ]
  },
  {
   "cell_type": "code",
   "execution_count": null,
   "id": "63182ef7",
   "metadata": {
    "id": "63182ef7"
   },
   "outputs": [],
   "source": [
    "encoded_df = data.copy()\n",
    "\n",
    "encoded_df = pd.get_dummies(encoded_df, columns=['leads', 'country_code', 'product_ref'], drop_first=True)\n",
    "\n",
    "encoded_df.rename({'leads_Won':'leads'}, axis=1, inplace=True)"
   ]
  },
  {
   "cell_type": "code",
   "execution_count": null,
   "id": "b19161a7",
   "metadata": {
    "id": "b19161a7"
   },
   "outputs": [],
   "source": [
    "encoded_df.shape"
   ]
  },
  {
   "cell_type": "code",
   "execution_count": null,
   "id": "3c83682f",
   "metadata": {},
   "outputs": [],
   "source": [
    "encoded_df.head()"
   ]
  },
  {
   "cell_type": "markdown",
   "id": "91c87fca",
   "metadata": {
    "id": "91c87fca"
   },
   "source": [
    "Before doing target encoding we must do train, test split... Otherwise there would be data leakage which probably leads to overfitting..."
   ]
  },
  {
   "cell_type": "code",
   "execution_count": null,
   "id": "3bfac3dc",
   "metadata": {
    "id": "3bfac3dc"
   },
   "outputs": [],
   "source": [
    "X_regression = encoded_df.drop('selling_price', axis=1)\n",
    "y_regression = encoded_df['selling_price']\n",
    "\n",
    "X_train_reg, X_test_reg, y_train_reg, y_test_reg = train_test_split(X_regression, y_regression, test_size=0.2, random_state=42)\n",
    "X_train_reg, X_val_reg, y_train_reg, y_val_reg = train_test_split(X_train_reg, y_train_reg, test_size=0.25, random_state=42)\n",
    "\n",
    "print(\"Regression - Train set:\", X_train_reg.shape, y_train_reg.shape)\n",
    "print(\"Regression - Test set:\", X_test_reg.shape, y_test_reg.shape)\n",
    "print(\"Regression - Validation set:\", X_val_reg.shape, y_val_reg.shape)"
   ]
  },
  {
   "cell_type": "code",
   "execution_count": null,
   "id": "79a899a6",
   "metadata": {
    "id": "79a899a6"
   },
   "outputs": [],
   "source": [
    "X_classification = encoded_df.drop('leads', axis=1)\n",
    "y_classification = encoded_df['leads']\n",
    "\n",
    "X_train_cls, X_test_cls, y_train_cls, y_test_cls = train_test_split(X_classification, y_classification, test_size=0.2, random_state=42)\n",
    "X_train_cls, X_val_cls, y_train_cls, y_val_cls = train_test_split(X_train_cls, y_train_cls, test_size=0.25, random_state=42)\n",
    "\n",
    "print(\"Classification - Train set:\", X_train_cls.shape, y_train_cls.shape)\n",
    "print(\"Classification - Test set:\", X_test_cls.shape, y_test_cls.shape)\n",
    "print(\"Classification - Validation set:\", X_val_cls.shape, y_val_cls.shape)"
   ]
  },
  {
   "cell_type": "markdown",
   "id": "36327c5e",
   "metadata": {
    "id": "36327c5e"
   },
   "source": [
    "Now that we have done split, let's encode those three remaining columns using target encoder"
   ]
  },
  {
   "cell_type": "code",
   "execution_count": null,
   "id": "cc7dd7b6",
   "metadata": {
    "id": "cc7dd7b6"
   },
   "outputs": [],
   "source": [
    "target_encoder_reg = ce.TargetEncoder(cols=['customer_id', 'item_type', 'application'])\n",
    "\n",
    "X_train_reg_encoded = target_encoder_reg.fit_transform(X_train_reg, y_train_reg)\n",
    "X_test_reg_encoded = target_encoder_reg.transform(X_test_reg)\n",
    "X_val_reg_encoded = target_encoder_reg.transform(X_val_reg)\n",
    "\n",
    "\n",
    "target_encoder_cls = ce.TargetEncoder(cols=['customer_id', 'item_type', 'application'])\n",
    "\n",
    "X_train_cls_encoded = target_encoder_cls.fit_transform(X_train_cls, y_train_cls)\n",
    "X_test_cls_encoded = target_encoder_cls.transform(X_test_cls)\n",
    "X_val_cls_encoded = target_encoder_cls.transform(X_val_cls)"
   ]
  },
  {
   "cell_type": "markdown",
   "id": "3044a6c0",
   "metadata": {
    "id": "3044a6c0"
   },
   "source": [
    "We have already observed that there is variation in scale among continuous variables... So, let's scale them down using Standard Scaler..."
   ]
  },
  {
   "cell_type": "code",
   "execution_count": null,
   "id": "d363ea20",
   "metadata": {
    "id": "d363ea20"
   },
   "outputs": [],
   "source": [
    "continuous_vars_reg = ['quantity_tons', 'thickness', 'width']\n",
    "\n",
    "scaler_reg = StandardScaler()\n",
    "X_train_reg_encoded[continuous_vars_reg] = scaler_reg.fit_transform(X_train_reg_encoded[continuous_vars_reg])\n",
    "X_test_reg_encoded[continuous_vars_reg] = scaler_reg.transform(X_test_reg_encoded[continuous_vars_reg])\n",
    "X_val_reg_encoded[continuous_vars_reg] = scaler_reg.transform(X_val_reg_encoded[continuous_vars_reg])\n",
    "\n",
    "\n",
    "# Also we have noted that selling price has to be scaled down...\n",
    "scaler_reg_y = StandardScaler()\n",
    "\n",
    "y_train_reg_scaled = scaler_reg_y.fit_transform(y_train_reg.values.reshape(-1, 1))\n",
    "y_test_reg_scaled = scaler_reg_y.transform(y_test_reg.values.reshape(-1, 1))\n",
    "y_val_reg_scaled = scaler_reg_y.transform(y_val_reg.values.reshape(-1, 1))\n",
    "\n",
    "\n",
    "continuous_vars_cls = ['quantity_tons', 'thickness', 'width', 'selling_price']\n",
    "\n",
    "scaler_cls = StandardScaler()\n",
    "X_train_cls_encoded[continuous_vars_cls] = scaler_cls.fit_transform(X_train_cls_encoded[continuous_vars_cls])\n",
    "X_test_cls_encoded[continuous_vars_cls] = scaler_cls.transform(X_test_cls_encoded[continuous_vars_cls])\n",
    "X_val_cls_encoded[continuous_vars_cls] = scaler_cls.transform(X_val_cls_encoded[continuous_vars_cls])"
   ]
  },
  {
   "cell_type": "code",
   "execution_count": null,
   "id": "9a6181c4",
   "metadata": {},
   "outputs": [],
   "source": [
    "y_val_reg_scaled.shape"
   ]
  },
  {
   "cell_type": "code",
   "execution_count": null,
   "id": "93039997",
   "metadata": {
    "id": "93039997"
   },
   "outputs": [],
   "source": [
    "y_train_cls.value_counts().plot.pie(autopct='%.2f', label='', title = 'Leads Proportion in Train Set')"
   ]
  },
  {
   "cell_type": "code",
   "execution_count": null,
   "id": "9f1cabca",
   "metadata": {
    "id": "9f1cabca"
   },
   "outputs": [],
   "source": [
    "y_train_cls.shape"
   ]
  },
  {
   "cell_type": "code",
   "execution_count": null,
   "id": "d525a56c",
   "metadata": {
    "id": "d525a56c"
   },
   "outputs": [],
   "source": [
    "from imblearn.under_sampling import RandomUnderSampler\n",
    "from imblearn.over_sampling import SMOTE, RandomOverSampler\n",
    "from sklearn.metrics import accuracy_score, precision_score, recall_score, f1_score\n",
    "\n",
    "important_models = [LogisticRegression(), RandomForestClassifier(), XGBClassifier()]\n",
    "\n",
    "imbalance_techniques = [('Undersampling', RandomUnderSampler()), ('Oversampling', RandomOverSampler()), ('SMOTE', SMOTE())]\n",
    "\n",
    "results_df = pd.DataFrame(columns=['Model', 'Imbalance Technique', 'Accuracy', 'Precision', 'Recall', 'F1-Score'])\n",
    "\n",
    "for imbalance_name, imbalance_technique in imbalance_techniques:\n",
    "\n",
    "    X_train_resampled, y_train_resampled = imbalance_technique.fit_resample(X_train_cls_encoded, y_train_cls)\n",
    "\n",
    "    for model in important_models:\n",
    "\n",
    "        model.fit(X_train_resampled, y_train_resampled)\n",
    "\n",
    "        y_pred = model.predict(X_val_cls_encoded)\n",
    "\n",
    "        accuracy = accuracy_score(y_val_cls, y_pred)\n",
    "        precision = precision_score(y_val_cls, y_pred, average='macro')\n",
    "        recall = recall_score(y_val_cls, y_pred, average='macro')\n",
    "        f1 = f1_score(y_val_cls, y_pred, average='macro')\n",
    "\n",
    "        results_df = results_df.append({\n",
    "            'Model': model.__class__.__name__,\n",
    "            'Imbalance Technique': imbalance_name,\n",
    "            'Accuracy': accuracy,\n",
    "            'Precision': precision,\n",
    "            'Recall': recall,\n",
    "            'F1-Score': f1\n",
    "        }, ignore_index=True)\n",
    "\n",
    "results_df"
   ]
  },
  {
   "cell_type": "markdown",
   "id": "a4902071",
   "metadata": {
    "id": "a4902071"
   },
   "source": [
    "With SMOTE all models are performing above par... Let's go with SMOTE then..."
   ]
  },
  {
   "cell_type": "code",
   "execution_count": null,
   "id": "eb308aff",
   "metadata": {
    "id": "eb308aff"
   },
   "outputs": [],
   "source": [
    "smote = SMOTE()\n",
    "X_train_res, y_train_res = smote.fit_resample(X_train_cls_encoded, y_train_cls)"
   ]
  },
  {
   "cell_type": "code",
   "execution_count": null,
   "id": "cmNlfExa587G",
   "metadata": {
    "id": "cmNlfExa587G"
   },
   "outputs": [],
   "source": [
    "y_train_res.value_counts().plot.pie(autopct='%.2f', label='', title = 'Leads Proportion in Train Set after Balancing')"
   ]
  },
  {
   "cell_type": "markdown",
   "id": "c7714a52",
   "metadata": {
    "id": "c7714a52"
   },
   "source": [
    "Now, we are all set to build both regression and classification models... Let's move forward..."
   ]
  },
  {
   "cell_type": "markdown",
   "id": "ba818a71",
   "metadata": {
    "id": "ba818a71"
   },
   "source": [
    "For regression, we have X_train_reg_encoded, X_test_reg_encoded, X_val_reg_encoded and y_train_reg_scaled, y_test_reg_scaled, y_val_reg_scaled\n",
    "\n",
    "For classification, we have X_train_res, X_test_cls_encoded, X_val_cls_encoded, y_train_res, y_test_cls, y_val_cls"
   ]
  },
  {
   "cell_type": "code",
   "execution_count": null,
   "id": "602a7628",
   "metadata": {},
   "outputs": [],
   "source": [
    "for column in X_train_reg_encoded.columns:\n",
    "    if X_train_reg_encoded[column].dtype in [np.uint8, np.uint32, np.float64]:\n",
    "        X_train_reg_encoded[column] = X_train_reg_encoded[column].astype(np.float32)\n",
    "\n",
    "for column in X_test_reg_encoded.columns:\n",
    "    if X_test_reg_encoded[column].dtype in [np.uint8, np.uint32, np.float64]:\n",
    "        X_test_reg_encoded[column] = X_test_reg_encoded[column].astype(np.float32)\n",
    "\n",
    "for column in X_val_reg_encoded.columns:\n",
    "    if X_val_reg_encoded[column].dtype in [np.uint8, np.uint32, np.float64]:\n",
    "        X_val_reg_encoded[column] = X_val_reg_encoded[column].astype(np.float32)\n",
    "\n",
    "# Convert uint8 to int32 for Classification DataFrames\n",
    "for column in X_train_res.columns:\n",
    "    if X_train_res[column].dtype in [np.uint8, np.uint32, np.float64]:\n",
    "        X_train_res[column] = X_train_res[column].astype(np.float32)\n",
    "\n",
    "for column in X_test_cls_encoded.columns:\n",
    "    if X_test_cls_encoded[column].dtype in [np.uint8, np.uint32, np.float64]:\n",
    "        X_test_cls_encoded[column] = X_test_cls_encoded[column].astype(np.float32)\n",
    "\n",
    "for column in X_val_cls_encoded.columns:\n",
    "    if X_val_cls_encoded[column].dtype in [np.uint8, np.uint32, np.float64]:\n",
    "        X_val_cls_encoded[column] = X_val_cls_encoded[column].astype(np.float32)\n",
    "\n",
    "y_train_reg_scaled = y_train_reg_scaled.astype(np.float32)\n",
    "y_test_reg_scaled = y_test_reg_scaled.astype(np.float32)\n",
    "y_val_reg_scaled = y_val_reg_scaled.astype(np.float32)\n",
    "\n",
    "y_train_res = y_train_res.astype(np.float32)\n",
    "y_test_cls = y_test_cls.astype(np.float32)\n",
    "y_val_cls = y_val_cls.astype(np.float32)"
   ]
  },
  {
   "cell_type": "code",
   "execution_count": null,
   "id": "7f17b350",
   "metadata": {
    "id": "7f17b350"
   },
   "outputs": [],
   "source": [
    "regression_models = [\n",
    "    LinearRegression(),\n",
    "    Ridge(),\n",
    "    Lasso(),\n",
    "    DecisionTreeRegressor(),\n",
    "    RandomForestRegressor(),\n",
    "    GradientBoostingRegressor(),\n",
    "    AdaBoostRegressor(),\n",
    "    SVR(),\n",
    "    ElasticNet()\n",
    "]\n",
    "\n",
    "reg_results_df = pd.DataFrame(columns=['Model', 'MSE', 'MAE', 'RMSE', 'R2', 'Adjusted R2'])\n",
    "\n",
    "for model in regression_models:\n",
    "\n",
    "    model_name = model.__class__.__name__\n",
    "    model.fit(X_train_reg_encoded, y_train_reg_scaled)\n",
    "    y_pred = model.predict(X_val_reg_encoded)\n",
    "    mse = mean_squared_error(y_val_reg_scaled, y_pred)\n",
    "    mae = mean_absolute_error(y_val_reg_scaled, y_pred)\n",
    "    rmse = np.sqrt(mse)\n",
    "    r2 = r2_score(y_val_reg_scaled, y_pred)\n",
    "    adjusted_r2 = 1 - (1 - r2) * (len(X_val_reg_encoded) - 1) / (len(X_val_reg_encoded) - X_val_reg_encoded.shape[1] - 1)\n",
    "    reg_results_df = reg_results_df.append({'Model': model_name, 'MSE': mse, 'MAE': mae, 'RMSE': rmse, 'R2': r2, 'Adjusted R2': adjusted_r2}, ignore_index=True)\n",
    "\n",
    "reg_results_df.sort_values(by='MSE', inplace=True)\n",
    "reg_results_df"
   ]
  },
  {
   "cell_type": "markdown",
   "id": "c227348b",
   "metadata": {
    "id": "c227348b"
   },
   "source": [
    "We would choose RF Regressor here which has least MSE and finetune it..."
   ]
  },
  {
   "cell_type": "code",
   "execution_count": null,
   "id": "96223b5e",
   "metadata": {
    "id": "96223b5e"
   },
   "outputs": [],
   "source": [
    "classification_models = [\n",
    "    LogisticRegression(),\n",
    "    DecisionTreeClassifier(),\n",
    "    RandomForestClassifier(),\n",
    "    AdaBoostClassifier(),\n",
    "    GradientBoostingClassifier(),\n",
    "    XGBClassifier(),\n",
    "    SVC(),\n",
    "    KNeighborsClassifier(),\n",
    "    GaussianNB(),\n",
    "    LGBMClassifier()\n",
    "]\n",
    "\n",
    "cls_results_df = pd.DataFrame(columns=['Model', 'Accuracy', 'Precision', 'Recall', 'F1-Score', 'ROC-AUC'])\n",
    "\n",
    "for model in classification_models:\n",
    "    model_name = model.__class__.__name__\n",
    "    model.fit(X_train_res, y_train_res)\n",
    "    y_pred = model.predict(X_val_cls_encoded)\n",
    "    accuracy = accuracy_score(y_val_cls, y_pred)\n",
    "    precision = precision_score(y_val_cls, y_pred, average='macro')\n",
    "    recall = recall_score(y_val_cls, y_pred, average='macro')\n",
    "    f1 = f1_score(y_val_cls, y_pred, average='macro')\n",
    "    roc_auc = roc_auc_score(y_val_cls, y_pred)\n",
    "    cls_results_df = cls_results_df.append({'Model': model_name, 'Accuracy': accuracy, 'Precision': precision, 'Recall': recall, 'F1-Score': f1, 'ROC-AUC': roc_auc}, ignore_index=True)\n",
    "\n",
    "cls_results_df.sort_values(by='F1-Score', ascending=False, inplace=True)\n",
    "cls_results_df"
   ]
  },
  {
   "cell_type": "markdown",
   "id": "9cb2e67f",
   "metadata": {
    "id": "9cb2e67f"
   },
   "source": [
    "We would choose RF Classifier here which has hi the benchmarks in all sections and finetune it as per our need..."
   ]
  },
  {
   "cell_type": "markdown",
   "id": "qz6JtZRwqAhD",
   "metadata": {
    "id": "qz6JtZRwqAhD"
   },
   "source": [
    "Regression Hyper Parameter Tuning Result:\n",
    "\n",
    "![image.png](data:image/png;base64,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)\n",
    "\n",
    "Best Parameters:  {'max_depth': None, 'max_features': 'sqrt', 'min_samples_leaf': 1, 'min_samples_split': 5, 'n_estimators': 300}\n",
    "\n",
    "\n",
    "Best Score (Negative MSE):  -0.12890371556466493"
   ]
  },
  {
   "cell_type": "markdown",
   "id": "FLC-SAFfxuXN",
   "metadata": {
    "id": "FLC-SAFfxuXN"
   },
   "source": [
    "Classification Hyper Parameter Tuning Result:\n",
    "\n",
    "![image.png](data:image/png;base64,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)\n",
    "\n",
    "\n",
    "Best Parameters:  {'criterion': 'gini', 'max_depth': None, 'max_features': 'log2', 'min_samples_leaf': 1, 'min_samples_split': 2, 'n_estimators': 300}\n",
    "Best Score (Accuracy):  0.9764253437474611\n",
    "\n",
    "\n",
    "This alone took some cute little 2 hours after multiple breakdowns as it had to cover around 500 fits..."
   ]
  },
  {
   "cell_type": "code",
   "execution_count": null,
   "id": "9f8c2546",
   "metadata": {
    "id": "9f8c2546"
   },
   "outputs": [],
   "source": [
    "# reg_model = RandomForestRegressor(max_depth=None, max_features='sqrt', min_samples_leaf=1, min_samples_split=5, n_estimators=300)\n",
    "# reg_model.fit(X_train_reg_encoded, y_train_reg_scaled)\n",
    "\n",
    "# y_pred_reg = reg_model.predict(X_val_reg_encoded)\n",
    "\n",
    "# y_pred_reg_original = scaler_reg.inverse_transform(y_pred_reg.reshape(-1, 1))\n",
    "# y_val_reg_original = scaler_reg.inverse_transform(y_val_reg_scaled)\n",
    "\n",
    "# reg_mse = mean_squared_error(y_val_reg_original, y_pred_reg_original)\n",
    "# reg_mae = mean_absolute_error(y_val_reg_original, y_pred_reg_original)\n",
    "# reg_rmse = np.sqrt(reg_mse)\n",
    "# reg_r2 = r2_score(y_val_reg_original, y_pred_reg_original)\n",
    "# reg_adjusted_r2 = 1 - (1 - reg_r2) * (len(X_val_reg_encoded) - 1) / (len(X_val_reg_encoded) - X_val_reg_encoded.shape[1] - 1)\n",
    "\n",
    "# y_train_pred_reg = reg_model.predict(X_train_reg_encoded)\n",
    "# y_train_pred_original = scaler_reg.inverse_transform(y_train_pred_reg.reshape(-1, 1))\n",
    "# y_train_reg_original = scaler_reg.inverse_transform(y_train_reg_scaled)\n",
    "\n",
    "# train_r2 = r2_score(y_train_reg_original, y_train_pred_original)\n",
    "# r2_diff_percentage = (train_r2 - reg_r2) / train_r2 * 100\n",
    "\n",
    "# print(\"Regression Metrics:\")\n",
    "# print(f\"MSE: {reg_mse}\")\n",
    "# print(f\"MAE: {reg_mae}\")\n",
    "# print(f\"RMSE: {reg_rmse}\")\n",
    "# print(f\"R2: {reg_r2}\")\n",
    "# print(f\"Adjusted R2: {reg_adjusted_r2}\")\n",
    "\n",
    "# print(\"Percentage Difference between Training and Validation R2:\")\n",
    "# print(f\"R2 Difference: {r2_diff_percentage:.2f}%\")"
   ]
  },
  {
   "cell_type": "code",
   "execution_count": null,
   "id": "rUX2bYeDxib1",
   "metadata": {
    "id": "rUX2bYeDxib1"
   },
   "outputs": [],
   "source": [
    "import tensorflow as tf\n",
    "from tensorflow import keras\n",
    "from tensorflow.keras import layers\n",
    "from kerastuner import RandomSearch\n",
    "from kerastuner.engine.hyperparameters import HyperParameters\n",
    "\n",
    "\n",
    "# Function to build the regression model\n",
    "def build_model(hp):\n",
    "    model = keras.Sequential()\n",
    "    model.add(layers.InputLayer(input_shape=(X_train_reg_encoded.shape[1],)))\n",
    "\n",
    "    # Tune the number of layers and units/neurons per layer\n",
    "    for i in range(hp.Int('num_layers', 1, 5)):\n",
    "        model.add(layers.Dense(units=hp.Int(f'units_{i}', 32, 512, 32),\n",
    "                               activation='relu'))\n",
    "\n",
    "    # Tune the learning rate for the optimizer\n",
    "    hp_learning_rate = hp.Choice('learning_rate', values=[1e-2, 1e-3, 1e-4])\n",
    "\n",
    "    model.add(layers.Dense(1))\n",
    "\n",
    "    # Compile the model with the tuned learning rate and additional metrics\n",
    "    model.compile(optimizer=keras.optimizers.Adam(learning_rate=hp_learning_rate),\n",
    "                  loss='mse'\n",
    "                  \n",
    "                  metrics=[\n",
    "                           ]\n",
    "                 ) \n",
    "    \n",
    "    return model\n",
    "\n",
    "# Instantiate the RandomSearch tuner\n",
    "tuner = RandomSearch(\n",
    "    build_model,\n",
    "    objective='val_mse',  # Metric to optimize (validation MSE)\n",
    "    max_trials=5,         # Number of different combinations to try\n",
    "    executions_per_trial=2,  # Number of times to train the model per trial\n",
    "    directory='my_dir',  # Directory to store the results\n",
    "    project_name='regression_tuning')  # Project name for this tuning task"
   ]
  },
  {
   "cell_type": "code",
   "execution_count": null,
   "id": "TgOvGtPmy5NJ",
   "metadata": {
    "id": "TgOvGtPmy5NJ",
    "scrolled": false
   },
   "outputs": [],
   "source": [
    "# Search for the best hyperparameters\n",
    "tuner.search(X_train_reg_encoded, y_train_reg_scaled,\n",
    "             epochs=50,  # Number of epochs to train each model\n",
    "             validation_data=(X_val_reg_encoded, y_val_reg_scaled))\n",
    "\n",
    "# Get the best hyperparameters\n",
    "best_hps = tuner.get_best_hyperparameters(num_trials=1)[0]\n",
    "\n",
    "print(\"Best Hyperparameters:\")\n",
    "print(best_hps.get_config())"
   ]
  },
  {
   "cell_type": "code",
   "execution_count": null,
   "id": "krTj2aCiy7FH",
   "metadata": {
    "id": "krTj2aCiy7FH"
   },
   "outputs": [],
   "source": [
    "# Build the model with the best hyperparameters\n",
    "model = tuner.hypermodel.build(best_hps)\n",
    "\n",
    "# Train the model with the full training dataset\n",
    "model.fit(X_train_reg_encoded, y_train_reg_scaled,\n",
    "          epochs=100,  # More training epochs for the final model\n",
    "          validation_data=(X_val_reg_encoded, y_val_reg_scaled))\n",
    "\n",
    "# Evaluate the model on the validation set\n",
    "metrics = model.evaluate(X_val_reg_encoded, y_val_reg_scaled)\n",
    "\n",
    "# Extract individual metrics\n",
    "val_loss = metrics[0]  # Validation loss (MSE)\n",
    "val_mse = metrics[1]   # Validation MSE\n",
    "val_mae = metrics[2]   # Validation MAE\n",
    "val_mape = metrics[3]  # Validation MAPE\n",
    "val_rmse = metrics[4]  # Validation RMSE\n",
    "val_r_squared = metrics[5]  # Validation R-squared\n",
    "\n",
    "# Calculate training metrics\n",
    "y_train_pred = model.predict(X_train_reg_encoded)\n",
    "train_mse = mean_squared_error(y_train_reg_scaled, y_train_pred)\n",
    "train_mae = mean_absolute_error(y_train_reg_scaled, y_train_pred)\n",
    "train_mape = np.mean(np.abs((y_train_reg_scaled - y_train_pred) / y_train_reg_scaled)) * 100\n",
    "train_rmse = np.sqrt(train_mse)\n",
    "train_r_squared = r2_score(y_train_reg_scaled, y_train_pred)\n",
    "\n",
    "# Calculate percentage difference\n",
    "mse_diff_percentage = (train_mse - val_mse) / train_mse * 100\n",
    "mae_diff_percentage = (train_mae - val_mae) / train_mae * 100\n",
    "mape_diff_percentage = (train_mape - val_mape) / train_mape * 100\n",
    "rmse_diff_percentage = (train_rmse - val_rmse) / train_rmse * 100\n",
    "r_squared_diff_percentage = (train_r_squared - val_r_squared) / train_r_squared * 100\n",
    "\n",
    "print(\"Validation Loss:\", val_loss)\n",
    "print(\"Validation MSE:\", val_mse)\n",
    "print(\"Validation MAE:\", val_mae)\n",
    "print(\"Validation MAPE:\", val_mape)\n",
    "print(\"Validation RMSE:\", val_rmse)\n",
    "print(\"Validation R-squared:\", val_r_squared)\n",
    "\n",
    "print(\"Percentage Difference between Training and Validation Metrics:\")\n",
    "print(f\"MSE Difference: {mse_diff_percentage:.2f}%\")\n",
    "print(f\"MAE Difference: {mae_diff_percentage:.2f}%\")\n",
    "print(f\"MAPE Difference: {mape_diff_percentage:.2f}%\")\n",
    "print(f\"RMSE Difference: {rmse_diff_percentage:.2f}%\")\n",
    "print(f\"R-squared Difference: {r_squared_diff_percentage:.2f}%\")"
   ]
  },
  {
   "cell_type": "code",
   "execution_count": null,
   "id": "1c52a813",
   "metadata": {
    "id": "1c52a813"
   },
   "outputs": [],
   "source": [
    "# fit_data = pd.DataFrame({'Actual': y_val_reg_original.flatten(), 'Predicted': y_pred_reg_original.flatten()})\n",
    "\n",
    "# sns.regplot(data=fit_data, x='Actual', y='Predicted', line_kws={'color': 'yellow'})\n",
    "# plt.xlabel('Actual Value')\n",
    "# plt.ylabel('Predicted Value')\n",
    "# plt.title('Regression Model Fit')\n",
    "# plt.show()"
   ]
  },
  {
   "cell_type": "code",
   "execution_count": null,
   "id": "d4de5eb2",
   "metadata": {
    "id": "d4de5eb2"
   },
   "outputs": [],
   "source": [
    "# cls_model = RandomForestClassifier(criterion='gini', max_depth=None, max_features='log2', min_samples_leaf=1, min_samples_split=2, n_estimators=300)\n",
    "# cls_model.fit(X_train_res, y_train_res)\n",
    "\n",
    "# y_pred_cls = cls_model.predict(X_val_cls_encoded)\n",
    "\n",
    "# cls_accuracy = accuracy_score(y_val_cls, y_pred_cls)\n",
    "# cls_precision = precision_score(y_val_cls, y_pred_cls, average='macro')\n",
    "# cls_recall = recall_score(y_val_cls, y_pred_cls, average='macro')\n",
    "# cls_f1 = f1_score(y_val_cls, y_pred_cls, average='macro')\n",
    "\n",
    "# cls_roc_auc = roc_auc_score(y_val_cls, y_pred_cls)\n",
    "\n",
    "# train_accuracy = accuracy_score(y_train_res, cls_model.predict(X_train_res))\n",
    "# accuracy_diff_percentage = (train_accuracy - cls_accuracy) / train_accuracy * 100\n",
    "\n",
    "# print(\"Classification Metrics:\")\n",
    "# print(f\"Accuracy: {cls_accuracy}\")\n",
    "# print(f\"Precision: {cls_precision}\")\n",
    "# print(f\"Recall: {cls_recall}\")\n",
    "# print(f\"F1-Score: {cls_f1}\")\n",
    "# print(f\"ROC AUC Score: {cls_roc_auc}\")\n",
    "# print(\"Percentage Difference between Training and Validation Accuracy:\")\n",
    "# print(f\"Accuracy Difference: {accuracy_diff_percentage:.2f}%\")"
   ]
  },
  {
   "cell_type": "code",
   "execution_count": null,
   "id": "22777bd4",
   "metadata": {
    "id": "22777bd4"
   },
   "outputs": [],
   "source": [
    "# print(f'Confusion Matrix:\\n\\n {confusion_matrix(y_val_cls, y_pred_cls)}', end = f\"\\n{'_'*60}\\n\\n\")\n",
    "\n",
    "# print(f'Classification Report:\\n\\n {classification_report(y_val_cls, y_pred_cls)}')"
   ]
  },
  {
   "cell_type": "code",
   "execution_count": null,
   "id": "112f6dc4-2b38-4e4e-b7cf-cc42b408ee49",
   "metadata": {
    "id": "112f6dc4-2b38-4e4e-b7cf-cc42b408ee49",
    "jupyter": {
     "outputs_hidden": false,
     "source_hidden": false
    },
    "noteable": {
     "cell_type": "code"
    }
   },
   "outputs": [],
   "source": []
  }
 ],
 "metadata": {
  "accelerator": "GPU",
  "colab": {
   "gpuType": "T4",
   "provenance": []
  },
  "kernelspec": {
   "display_name": "Python 3 (ipykernel)",
   "language": "python",
   "name": "python3"
  },
  "language_info": {
   "codemirror_mode": {
    "name": "ipython",
    "version": 3
   },
   "file_extension": ".py",
   "mimetype": "text/x-python",
   "name": "python",
   "nbconvert_exporter": "python",
   "pygments_lexer": "ipython3",
   "version": "3.10.11"
  },
  "noteable": {
   "db_connection": "@noteable",
   "last_delta_id": "dbbbfa64-2eb5-4e79-b7c8-7e0af1e82815"
  },
  "nteract": {
   "version": "noteable@2.9.0"
  },
  "selected_hardware_size": "small"
 },
 "nbformat": 4,
 "nbformat_minor": 5
}
